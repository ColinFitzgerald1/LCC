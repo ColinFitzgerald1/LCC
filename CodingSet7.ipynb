{
 "cells": [
  {
   "cell_type": "markdown",
   "id": "938cf64e-8fa8-4ddf-b9ed-a1e94cb21171",
   "metadata": {},
   "source": [
    "# Coding Set 7\n",
    "\n",
    "Colin Fitzgerald\n",
    "\n",
    "6/30/2024\n",
    "\n",
    "Algorithm Workbench problems 10 and 11, as well as Programming Exercises 1, 13, 14, and 15 \n",
    "\n",
    "##### Iteration is shown throughout GitHub History and my high level explanations"
   ]
  },
  {
   "cell_type": "markdown",
   "id": "be89115f-1d3a-493d-85fb-d8dcfb47ae86",
   "metadata": {},
   "source": [
    "### Algorithm Workbench Problem 10\n",
    "\n",
    "The textbook asks us to assume \"list1\"  is a list of integers and to write a statement that uses a list comprehension to create a second list containing the elements of  that are even numbers."
   ]
  },
  {
   "cell_type": "code",
   "execution_count": 3,
   "id": "55c650d4-790a-4f0d-a87b-2a9be047ac51",
   "metadata": {},
   "outputs": [
    {
     "name": "stdout",
     "output_type": "stream",
     "text": [
      "[1, 5, 7, 8, 20, 43]\n"
     ]
    }
   ],
   "source": [
    "def main():\n",
    "    list1 = [1, 5, 7, 8, 20, 43]\n",
    "    list2 = [item for item in list1]\n",
    "    print(list2)\n",
    "\n",
    "if __name__ == '__main__':\n",
    "    main()"
   ]
  },
  {
   "cell_type": "markdown",
   "id": "b5e324e2-2237-490c-9869-c29843d1600f",
   "metadata": {},
   "source": []
  },
  {
   "cell_type": "markdown",
   "id": "d86c9249-d106-4420-acbd-d61f43504dbe",
   "metadata": {},
   "source": [
    "### Algorithm Workbench Problem 11\n",
    "\n",
    "The textbook asks us to write a statement that creates a two-dimensional list with 5 rows and 3 columns. Then write nested loops that get an integer value from the user for each element in the list. "
   ]
  },
  {
   "cell_type": "code",
   "execution_count": 12,
   "id": "8e381d8a-c4b6-4fec-bced-56d3eeb66e06",
   "metadata": {},
   "outputs": [
    {
     "name": "stdin",
     "output_type": "stream",
     "text": [
      "How many rows:  4\n",
      "How many columns:  4\n"
     ]
    },
    {
     "ename": "UnboundLocalError",
     "evalue": "cannot access local variable 'input' where it is not associated with a value",
     "output_type": "error",
     "traceback": [
      "\u001b[0;31m---------------------------------------------------------------------------\u001b[0m",
      "\u001b[0;31mUnboundLocalError\u001b[0m                         Traceback (most recent call last)",
      "Cell \u001b[0;32mIn[12], line 14\u001b[0m\n\u001b[1;32m     11\u001b[0m             \u001b[38;5;28mlist\u001b[39m[x][y] \u001b[38;5;241m=\u001b[39m \u001b[38;5;28minput\u001b[39m\n\u001b[1;32m     13\u001b[0m \u001b[38;5;28;01mif\u001b[39;00m \u001b[38;5;18m__name__\u001b[39m \u001b[38;5;241m==\u001b[39m \u001b[38;5;124m'\u001b[39m\u001b[38;5;124m__main__\u001b[39m\u001b[38;5;124m'\u001b[39m:\n\u001b[0;32m---> 14\u001b[0m     main()\n",
      "Cell \u001b[0;32mIn[12], line 4\u001b[0m, in \u001b[0;36mmain\u001b[0;34m()\u001b[0m\n\u001b[1;32m      2\u001b[0m row \u001b[38;5;241m=\u001b[39m \u001b[38;5;28mint\u001b[39m(\u001b[38;5;28minput\u001b[39m(\u001b[38;5;124m'\u001b[39m\u001b[38;5;124mHow many rows: \u001b[39m\u001b[38;5;124m'\u001b[39m))\n\u001b[1;32m      3\u001b[0m col \u001b[38;5;241m=\u001b[39m \u001b[38;5;28mint\u001b[39m(\u001b[38;5;28minput\u001b[39m(\u001b[38;5;124m'\u001b[39m\u001b[38;5;124mHow many columns: \u001b[39m\u001b[38;5;124m'\u001b[39m))\n\u001b[0;32m----> 4\u001b[0m NestList(row, col)\n",
      "Cell \u001b[0;32mIn[12], line 10\u001b[0m, in \u001b[0;36mNestList\u001b[0;34m(row, col)\u001b[0m\n\u001b[1;32m      8\u001b[0m \u001b[38;5;28;01mfor\u001b[39;00m x \u001b[38;5;129;01min\u001b[39;00m \u001b[38;5;28mlist\u001b[39m:\n\u001b[1;32m      9\u001b[0m     \u001b[38;5;28;01mfor\u001b[39;00m y \u001b[38;5;129;01min\u001b[39;00m x:\n\u001b[0;32m---> 10\u001b[0m         \u001b[38;5;28minput\u001b[39m \u001b[38;5;241m=\u001b[39m \u001b[38;5;28mint\u001b[39m(\u001b[38;5;28minput\u001b[39m(\u001b[38;5;124mf\u001b[39m\u001b[38;5;124m'\u001b[39m\u001b[38;5;124mPlease enter the number for row \u001b[39m\u001b[38;5;132;01m{\u001b[39;00mx\u001b[38;5;132;01m}\u001b[39;00m\u001b[38;5;124m and column \u001b[39m\u001b[38;5;132;01m{\u001b[39;00my\u001b[38;5;132;01m}\u001b[39;00m\u001b[38;5;124m'\u001b[39m))\n\u001b[1;32m     11\u001b[0m         \u001b[38;5;28mlist\u001b[39m[x][y] \u001b[38;5;241m=\u001b[39m \u001b[38;5;28minput\u001b[39m\n",
      "\u001b[0;31mUnboundLocalError\u001b[0m: cannot access local variable 'input' where it is not associated with a value"
     ]
    }
   ],
   "source": [
    "def main():\n",
    "    row = int(input('How many rows: '))\n",
    "    col = int(input('How many columns: '))\n",
    "    NestList(row, col)\n",
    "\n",
    "def NestList(row, col):\n",
    "    list = [[0 for _ in range(col)] for _ in range(row)]\n",
    "    for x in list:\n",
    "        for y in x:\n",
    "            input1 = int(input(f'Please enter the number for row {x} and column {y}'))\n",
    "            list[x][y] = input1\n",
    "            \n",
    "if __name__ == '__main__':\n",
    "    main()"
   ]
  },
  {
   "cell_type": "code",
   "execution_count": null,
   "id": "e8a3e7cf-7e49-4a2e-856b-b7bd1fa8bdae",
   "metadata": {},
   "outputs": [],
   "source": []
  }
 ],
 "metadata": {
  "kernelspec": {
   "display_name": "Python 3 (ipykernel)",
   "language": "python",
   "name": "python3"
  },
  "language_info": {
   "codemirror_mode": {
    "name": "ipython",
    "version": 3
   },
   "file_extension": ".py",
   "mimetype": "text/x-python",
   "name": "python",
   "nbconvert_exporter": "python",
   "pygments_lexer": "ipython3",
   "version": "3.11.7"
  }
 },
 "nbformat": 4,
 "nbformat_minor": 5
}
