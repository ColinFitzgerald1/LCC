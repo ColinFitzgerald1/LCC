{
 "cells": [
  {
   "cell_type": "markdown",
   "id": "ec335a1c",
   "metadata": {},
   "source": [
    "# Coding Set 2\n",
    "\n",
    "Colin Fitzgerald\n",
    "\n",
    "5/23/24\n",
    "\n",
    "Algorithm Workbench 11 and Programming Excercises 13 and 14. All from the Textbook."
   ]
  },
  {
   "cell_type": "markdown",
   "id": "1ed28b4d",
   "metadata": {},
   "source": [
    "### Algorithm Workbench 11\n",
    "\n",
    "The textbook asks us to write a Python statement that displays the value referenced by the a preset variable named \"number\" to be reformatted. From \"1234567.456\" to \"1,234,567.5\"."
   ]
  },
  {
   "cell_type": "code",
   "execution_count": 1,
   "id": "e4391fd4",
   "metadata": {},
   "outputs": [
    {
     "ename": "SyntaxError",
     "evalue": "unterminated string literal (detected at line 4) (1206389373.py, line 4)",
     "output_type": "error",
     "traceback": [
      "\u001b[0;36m  Cell \u001b[0;32mIn[1], line 4\u001b[0;36m\u001b[0m\n\u001b[0;31m    print(f'{number:,.1})\u001b[0m\n\u001b[0m          ^\u001b[0m\n\u001b[0;31mSyntaxError\u001b[0m\u001b[0;31m:\u001b[0m unterminated string literal (detected at line 4)\n"
     ]
    }
   ],
   "source": [
    "# We have to define the variable number to be able to convert it\n",
    "number = 1234567.456\n",
    "# We will have to use F-Strings to be able to add comas and round the decimal.\n",
    "print(f'{number:,.1})"
   ]
  },
  {
   "cell_type": "markdown",
   "id": "cc7615b6",
   "metadata": {},
   "source": [
    "Above I accidently forgot an apostrophe which turned it into a unfinished string."
   ]
  },
  {
   "cell_type": "code",
   "execution_count": 4,
   "id": "f0fc68f4",
   "metadata": {},
   "outputs": [
    {
     "name": "stdout",
     "output_type": "stream",
     "text": [
      "1,234,567.5\n"
     ]
    }
   ],
   "source": [
    "# We have to define the variable number to be able to convert it\n",
    "number = 1234567.456\n",
    "# We will have to use F-Strings to be able to add comas and round the decimal.\n",
    "print(f'{number:,.1f}')"
   ]
  },
  {
   "cell_type": "markdown",
   "id": "cb5ff34a",
   "metadata": {},
   "source": [
    "### Programming Exercise 13\n",
    "\n",
    "The textbook asks for us create code from an equation with 3 variables and one output. It needs to prompt the customer with three different qeustions before calculating the output.\n",
    "\n",
    "Below we have to define three different variables for the equation. We will prompt the customer that all inputs should be in feet, then we will ask them to give an answer for each variable. We will turn the string output given from the input function to a float, to allow us to do the math."
   ]
  },
  {
   "cell_type": "code",
   "execution_count": null,
   "id": "66294050",
   "metadata": {},
   "outputs": [],
   "source": [
    "#Defining the variables by asking for an input and converting it into a float to be able to do math on it\n",
    "FIT_IN_ROW = float(input('Please enter the Length of each row'))\n",
    "END_POST = float(input('Please enter the the space used by the end-post assembly'))\n",
    "BETWEEN_VINES = float(input('Please enter the spacing between the rows'))"
   ]
  },
  {
   "cell_type": "markdown",
   "id": "0682ddb4",
   "metadata": {},
   "source": [
    "We will perform a calculation on the variables to giv"
   ]
  }
 ],
 "metadata": {
  "kernelspec": {
   "display_name": "Python 3 (ipykernel)",
   "language": "python",
   "name": "python3"
  },
  "language_info": {
   "codemirror_mode": {
    "name": "ipython",
    "version": 3
   },
   "file_extension": ".py",
   "mimetype": "text/x-python",
   "name": "python",
   "nbconvert_exporter": "python",
   "pygments_lexer": "ipython3",
   "version": "3.11.7"
  }
 },
 "nbformat": 4,
 "nbformat_minor": 5
}
