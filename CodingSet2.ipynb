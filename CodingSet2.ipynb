{
 "cells": [
  {
   "cell_type": "markdown",
   "id": "73e0db24",
   "metadata": {},
   "source": [
    "# Coding Set 2\n",
    "\n",
    "Colin Fitzgerald\n",
    "\n",
    "5/23/24\n",
    "\n",
    "Algorithm Workbench 15 and Programming Excercises 13 and 14. All from the Textbook."
   ]
  },
  {
   "cell_type": "markdown",
   "id": "b411bcb4",
   "metadata": {},
   "source": [
    "### Chapter 2, Algorithm Workbench 15\n",
    "\n",
    "The textbooks asks for us to create a square that is 100 pixels long, with a circle centered in the middle. The radius of the circle should be 80 pixels as well as the inside of the circle being solid red without filling the square."
   ]
  },
  {
   "cell_type": "code",
   "execution_count": null,
   "id": "9cc773fe",
   "metadata": {},
   "outputs": [],
   "source": []
  }
 ],
 "metadata": {
  "kernelspec": {
   "display_name": "Python 3 (ipykernel)",
   "language": "python",
   "name": "python3"
  },
  "language_info": {
   "codemirror_mode": {
    "name": "ipython",
    "version": 3
   },
   "file_extension": ".py",
   "mimetype": "text/x-python",
   "name": "python",
   "nbconvert_exporter": "python",
   "pygments_lexer": "ipython3",
   "version": "3.11.7"
  }
 },
 "nbformat": 4,
 "nbformat_minor": 5
}
