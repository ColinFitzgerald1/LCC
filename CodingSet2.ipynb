{
 "cells": [
  {
   "cell_type": "markdown",
   "id": "6f9f47ef",
   "metadata": {},
   "source": [
    "# Coding Set 2\n",
    "\n",
    "Colin Fitzgerald\n",
    "\n",
    "5/23/24\n",
    "\n",
    "Algorithm Workbench 15 and Programming Excercises 13 and 14. All from the Textbook."
   ]
  },
  {
   "cell_type": "code",
   "execution_count": null,
   "id": "77a7b733",
   "metadata": {},
   "outputs": [],
   "source": []
  }
 ],
 "metadata": {
  "kernelspec": {
   "display_name": "Python 3 (ipykernel)",
   "language": "python",
   "name": "python3"
  },
  "language_info": {
   "codemirror_mode": {
    "name": "ipython",
    "version": 3
   },
   "file_extension": ".py",
   "mimetype": "text/x-python",
   "name": "python",
   "nbconvert_exporter": "python",
   "pygments_lexer": "ipython3",
   "version": "3.11.7"
  }
 },
 "nbformat": 4,
 "nbformat_minor": 5
}
