{
 "cells": [
  {
   "cell_type": "markdown",
   "id": "06c72721-5626-43b3-aacc-919d8c5396b4",
   "metadata": {},
   "source": [
    "# Coding Set 8\n",
    "\n",
    "Colin Fitzgerald\n",
    "\n",
    "7/7/2024\n",
    "\n",
    "Algorithm Workbench problems 8 and 9 as well as programming exercises 1, 2, 3, and 7"
   ]
  },
  {
   "cell_type": "markdown",
   "id": "c4a8c812-d45a-4f44-9ba4-cc3bf960d483",
   "metadata": {},
   "source": [
    "### Algorithm Workbench Problem 8\n",
    "\n",
    "The textbook asks us to assume a variable references a string. Write a statement that uses a slicing expression and displays the first 3 characters in the string."
   ]
  },
  {
   "cell_type": "code",
   "execution_count": 3,
   "id": "f03b07fa-1128-4f19-bac6-57eb0bd6194e",
   "metadata": {},
   "outputs": [
    {
     "name": "stdout",
     "output_type": "stream",
     "text": [
      "Hav\n"
     ]
    }
   ],
   "source": [
    "def main():\n",
    "    testvar = 'Have a great day!'\n",
    "    sliced = testvar[0 : 3]\n",
    "    print(sliced)\n",
    "\n",
    "if __name__ == '__main__':\n",
    "    main()"
   ]
  },
  {
   "cell_type": "markdown",
   "id": "82a20548-1cc7-4a8a-bf2a-da73409cb6ee",
   "metadata": {},
   "source": [
    "### Algorithm Workbench Problem 9\n",
    "\n",
    "The textbook asks us to Assume a variable references a string. Write a statement that uses a slicing expression and displays the first 3 characters in the string."
   ]
  },
  {
   "cell_type": "code",
   "execution_count": 6,
   "id": "e21221d1-e0a5-4d56-95b3-2268180b01ba",
   "metadata": {},
   "outputs": [
    {
     "name": "stdout",
     "output_type": "stream",
     "text": [
      "ay!\n"
     ]
    }
   ],
   "source": [
    "def main():\n",
    "    testvar = 'Have a great day!'\n",
    "    sliced = testvar[-3 : ]\n",
    "    print(sliced)\n",
    "\n",
    "if __name__ == '__main__':\n",
    "    main()"
   ]
  },
  {
   "cell_type": "markdown",
   "id": "54464727-daee-45cb-bdc7-67d8ab9a0efb",
   "metadata": {},
   "source": [
    "### Programming Exercise 1 (Initials)\n",
    "\n",
    "The textbook asks us to write a program that gets a string containing a person’s first, middle, and last names, and displays their first, middle, and last initials."
   ]
  },
  {
   "cell_type": "code",
   "execution_count": 17,
   "id": "6af55249-eab7-407e-9776-9b9c3a60fd81",
   "metadata": {},
   "outputs": [
    {
     "name": "stdin",
     "output_type": "stream",
     "text": [
      "Please input your first name:  Colin\n",
      "Please input your middle name:  Micheal\n",
      "Please input your last name:  Fitzgerald\n"
     ]
    },
    {
     "name": "stdout",
     "output_type": "stream",
     "text": [
      "CMF\n"
     ]
    }
   ],
   "source": [
    "def initials(first, middle, last):\n",
    "    firstI = first[0]\n",
    "    middleI = middle[0]\n",
    "    lastI = last[0]\n",
    "    return f'{firstI}{middleI}{lastI}'\n",
    "def main():\n",
    "    first = input(\"Please input your first name: \")\n",
    "    middle = input(\"Please input your middle name: \")\n",
    "    last = input(\"Please input your last name: \")\n",
    "\n",
    "    initials_str = initials(first, middle, last)\n",
    "    print(initials_str)\n",
    "\n",
    "if __name__ == '__main__':\n",
    "    main()"
   ]
  },
  {
   "cell_type": "markdown",
   "id": "1fb03b7e-deb3-4821-bdf9-70e2d41f594a",
   "metadata": {},
   "source": [
    "### Programming Exercise 2 (Sum of Digits in a String)\n",
    "\n",
    "The textbook asks us to write a program that asks the user to enter a series of single-digit numbers with nothing separating them. The program should display the sum of all the single digit numbers in the string."
   ]
  },
  {
   "cell_type": "code",
   "execution_count": 41,
   "id": "d4cc00f2-42cc-4fd5-a8c5-6a8dc776d6d6",
   "metadata": {},
   "outputs": [
    {
     "name": "stdin",
     "output_type": "stream",
     "text": [
      "Please enter your number:  4510\n"
     ]
    },
    {
     "name": "stdout",
     "output_type": "stream",
     "text": [
      "10\n"
     ]
    }
   ],
   "source": [
    "def sumstr(single):\n",
    "    total = 0\n",
    "    for count in single:\n",
    "        if count.isdigit():\n",
    "            total += int(count)\n",
    "    return total\n",
    "    \n",
    "def main():\n",
    "    single = (input(\"Please enter your number: \"))\n",
    "    sumstr_single = sumstr(single)\n",
    "    print(sumstr_single)\n",
    "\n",
    "if __name__ == \"__main__\":\n",
    "    main()"
   ]
  },
  {
   "cell_type": "markdown",
   "id": "62f85cdc-b7a2-47cc-a976-33f8d92ae9c5",
   "metadata": {},
   "source": [
    "### Programming Exercise 3 (Date Printer)\n",
    "\n",
    "The textbook asks us to write a program that reads a string from the user containing a date in the form mm/dd/yyyy. It should print the date in the format March 12, 2018."
   ]
  },
  {
   "cell_type": "code",
   "execution_count": null,
   "id": "84b1451e-ef54-4d8d-837a-4519fc236019",
   "metadata": {},
   "outputs": [],
   "source": [
    "def converter(input_date):\n",
    "    month_list = ['January', 'February', 'March', 'April', 'May', 'June', 'July', 'August', 'September', 'October', 'November', 'December']\n",
    "    date_list = input_date.split('/')\n",
    "    month = month_list[date_list[0] + 1]\n",
    "    day = date_list[1]\n",
    "    year = date_list[2]\n",
    "    return f'{month} {day}, {year}'\n",
    "def main():\n",
    "    input_date = input(\"Please enter the date: \")\n",
    "    converter1 = converter(input_date)"
   ]
  }
 ],
 "metadata": {
  "kernelspec": {
   "display_name": "Python 3 (ipykernel)",
   "language": "python",
   "name": "python3"
  },
  "language_info": {
   "codemirror_mode": {
    "name": "ipython",
    "version": 3
   },
   "file_extension": ".py",
   "mimetype": "text/x-python",
   "name": "python",
   "nbconvert_exporter": "python",
   "pygments_lexer": "ipython3",
   "version": "3.11.7"
  }
 },
 "nbformat": 4,
 "nbformat_minor": 5
}
