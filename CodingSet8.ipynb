{
 "cells": [
  {
   "cell_type": "markdown",
   "id": "06c72721-5626-43b3-aacc-919d8c5396b4",
   "metadata": {},
   "source": [
    "# Coding Set 8\n",
    "\n",
    "Colin Fitzgerald\n",
    "\n",
    "7/7/2024\n",
    "\n",
    "Algorithm Workbench problems 8 and 9 as well as programming exercises 1, 2, 3, and 7"
   ]
  },
  {
   "cell_type": "markdown",
   "id": "c4a8c812-d45a-4f44-9ba4-cc3bf960d483",
   "metadata": {},
   "source": [
    "### Algorithm Workbench Problem 8\n",
    "\n",
    "The textbook asks us to assume a variable references a string. Write a statement that uses a slicing expression and displays the first 3 characters in the string."
   ]
  },
  {
   "cell_type": "code",
   "execution_count": 59,
   "id": "f03b07fa-1128-4f19-bac6-57eb0bd6194e",
   "metadata": {},
   "outputs": [
    {
     "name": "stdin",
     "output_type": "stream",
     "text": [
      "Please input a string:  Have you seen the sky?\n"
     ]
    },
    {
     "name": "stdout",
     "output_type": "stream",
     "text": [
      "The first three characters are: Hav\n"
     ]
    }
   ],
   "source": [
    "# creating main function\n",
    "def main():\n",
    "    # creating input variable\n",
    "    testvar = input('Please input a string: ')\n",
    "    # slicing the string with indexing\n",
    "    sliced = testvar[0 : 3]\n",
    "    # printing the first three characters\n",
    "    print(f'The first three characters are: {sliced}')\n",
    "# calling the main function\n",
    "if __name__ == '__main__':\n",
    "    main()"
   ]
  },
  {
   "cell_type": "markdown",
   "id": "82a20548-1cc7-4a8a-bf2a-da73409cb6ee",
   "metadata": {},
   "source": [
    "### Algorithm Workbench Problem 9\n",
    "\n",
    "The textbook asks us to Assume a variable references a string. Write a statement that uses a slicing expression and displays the first 3 characters in the string."
   ]
  },
  {
   "cell_type": "code",
   "execution_count": 1,
   "id": "e21221d1-e0a5-4d56-95b3-2268180b01ba",
   "metadata": {},
   "outputs": [
    {
     "name": "stdout",
     "output_type": "stream",
     "text": [
      "The last three characters are: ay!\n"
     ]
    }
   ],
   "source": [
    "# creating main function\n",
    "def main():\n",
    "    # creating input variable\n",
    "    testvar = 'Have a great day!'\n",
    "    # slicing the string with indexing\n",
    "    sliced = testvar[-3 : ]\n",
    "    # printing the last three characters\n",
    "    print(f'The last three characters are: {sliced}')\n",
    "# call the main function\n",
    "if __name__ == '__main__':\n",
    "    main()"
   ]
  },
  {
   "cell_type": "markdown",
   "id": "54464727-daee-45cb-bdc7-67d8ab9a0efb",
   "metadata": {},
   "source": [
    "### Programming Exercise 1 (Initials)\n",
    "\n",
    "The textbook asks us to write a program that gets a string containing a person’s first, middle, and last names, and displays their first, middle, and last initials."
   ]
  },
  {
   "cell_type": "code",
   "execution_count": 3,
   "id": "6af55249-eab7-407e-9776-9b9c3a60fd81",
   "metadata": {},
   "outputs": [
    {
     "name": "stdin",
     "output_type": "stream",
     "text": [
      "Please input your first name:  Colin\n",
      "Please input your middle name:  Michial\n",
      "Please input your last name:  Fitzgerald\n"
     ]
    },
    {
     "name": "stdout",
     "output_type": "stream",
     "text": [
      "Your initials are: CMF\n"
     ]
    }
   ],
   "source": [
    "# creating intitials function and passing variables\n",
    "def initials(first, middle, last):\n",
    "    # getting first initial\n",
    "    firstI = first[0]\n",
    "    # getting middle initials\n",
    "    middleI = middle[0]\n",
    "    # getting last initials\n",
    "    lastI = last[0]\n",
    "    # retunring the f string with initials\n",
    "    return f'{firstI}{middleI}{lastI}'\n",
    "# creating main function\n",
    "def main():\n",
    "    # input for first name\n",
    "    first = input(\"Please input your first name: \")\n",
    "    # input for middle name\n",
    "    middle = input(\"Please input your middle name: \")\n",
    "    # input for last name\n",
    "    last = input(\"Please input your last name: \")\n",
    "    # calling initials function and passing variables through\n",
    "    initials_str = initials(first, middle, last)\n",
    "    # printing a f string\n",
    "    print(f'Your initials are: {initials_str}')\n",
    "# calling the main function\n",
    "if __name__ == '__main__':\n",
    "    main()"
   ]
  },
  {
   "cell_type": "markdown",
   "id": "1fb03b7e-deb3-4821-bdf9-70e2d41f594a",
   "metadata": {},
   "source": [
    "### Programming Exercise 2 (Sum of Digits in a String)\n",
    "\n",
    "The textbook asks us to write a program that asks the user to enter a series of single-digit numbers with nothing separating them. The program should display the sum of all the single digit numbers in the string."
   ]
  },
  {
   "cell_type": "code",
   "execution_count": 5,
   "id": "d4cc00f2-42cc-4fd5-a8c5-6a8dc776d6d6",
   "metadata": {},
   "outputs": [
    {
     "name": "stdin",
     "output_type": "stream",
     "text": [
      "Please enter your number:  3734912439\n"
     ]
    },
    {
     "name": "stdout",
     "output_type": "stream",
     "text": [
      "The digits added up are 45\n"
     ]
    }
   ],
   "source": [
    "# creating sum string function with variable pass throughs\n",
    "def sumstr(single):\n",
    "    # creating a total counter\n",
    "    total = 0\n",
    "    # creating a for loop in length of string\n",
    "    for count in single:\n",
    "        # if statement to keep going\n",
    "        if count.isdigit():\n",
    "            # adds to the counter\n",
    "            total += int(count)\n",
    "    # returns the total\n",
    "    return total\n",
    "# creating the main function\n",
    "def main():\n",
    "    # getting the number input\n",
    "    single = (input(\"Please enter your number: \"))\n",
    "    # calling the sum string function\n",
    "    sumstr_single = sumstr(single)\n",
    "    # printing the f string\n",
    "    print(f\"The digits added up are {sumstr_single}\")\n",
    "# calling the main function\n",
    "if __name__ == \"__main__\":\n",
    "    main()"
   ]
  },
  {
   "cell_type": "markdown",
   "id": "62f85cdc-b7a2-47cc-a976-33f8d92ae9c5",
   "metadata": {},
   "source": [
    "### Programming Exercise 3 (Date Printer)\n",
    "\n",
    "The textbook asks us to write a program that reads a string from the user containing a date in the form mm/dd/yyyy. It should print the date in the format March 12, 2018."
   ]
  },
  {
   "cell_type": "code",
   "execution_count": 7,
   "id": "84b1451e-ef54-4d8d-837a-4519fc236019",
   "metadata": {},
   "outputs": [
    {
     "name": "stdin",
     "output_type": "stream",
     "text": [
      "Please enter the date:  7/7/2024\n"
     ]
    },
    {
     "name": "stdout",
     "output_type": "stream",
     "text": [
      "The date is July 7, 2024\n"
     ]
    }
   ],
   "source": [
    "# creating converter function\n",
    "def converter(input_date):\n",
    "    # creaing month list\n",
    "    month_list = ['', 'January', 'February', 'March', 'April', 'May', 'June', 'July', 'August', 'September', 'October', 'November', 'December']\n",
    "    # creating a date list by seperating the dates\n",
    "    date_list = input_date.split('/')\n",
    "    # indexing the month\n",
    "    monthIndex = date_list[0]\n",
    "    # finding the month name\n",
    "    month = month_list[int(monthIndex)]\n",
    "    # finding the day\n",
    "    day = date_list[1]\n",
    "    # findign the year\n",
    "    year = date_list[2]\n",
    "    # return a f string\n",
    "    return f'{month} {day}, {year}'\n",
    "# creating main function \n",
    "def main():\n",
    "    # inputing the date\n",
    "    input_date = input(\"Please enter the date: \")\n",
    "    # calling the converter function\n",
    "    converter1 = converter(input_date)\n",
    "    # printing a f string\n",
    "    print(f'The date is {converter1}')\n",
    "# calling the main function\n",
    "if __name__ == '__main__':\n",
    "    main()"
   ]
  },
  {
   "cell_type": "markdown",
   "id": "788de278-4043-4090-b24f-541e92de5de6",
   "metadata": {},
   "source": [
    "### Programming Exercise 7 (Character Analysis)\n",
    "\n",
    "The textbook asks us to write a program that reads the file’s contents and determines the following:  The number of uppercase letters in the file, the number of lowercase letters in the file, the number of digits in the file, the number of whitespace characters in the file."
   ]
  },
  {
   "cell_type": "code",
   "execution_count": 53,
   "id": "432450eb-2f0b-4c93-a636-adb8d9ad284d",
   "metadata": {},
   "outputs": [
    {
     "name": "stdout",
     "output_type": "stream",
     "text": [
      "There were 29 uppercase letters, 1228 lowercase letters, 30 digits, and 260 whitespaces\n"
     ]
    }
   ],
   "source": [
    "# creating finder function\n",
    "def finder():\n",
    "    # creating upper variable\n",
    "    upper = 0\n",
    "    # creating lower variable\n",
    "    lower = 0\n",
    "    # creating digits variable\n",
    "    digits = 0\n",
    "    # creating white variable\n",
    "    white = 0\n",
    "    # opening the text file as text\n",
    "    with open('text.txt', 'r') as text:\n",
    "        # for loop in length of text\n",
    "        for line in text:\n",
    "            # for loop in character of line\n",
    "            for char in line:\n",
    "                # if statement to check if uppcase\n",
    "                if char.isupper():\n",
    "                    # adds 1 to the upper counter\n",
    "                    upper += 1\n",
    "                # if statement to check if lowercase\n",
    "                if char.islower():\n",
    "                    # add 1 to the lower counter\n",
    "                    lower += 1\n",
    "                # if statement to check if it is a number\n",
    "                if char.isdigit():\n",
    "                    # add 1 to the digit counter\n",
    "                    digits += 1\n",
    "                # if statement to check if there is a space\n",
    "                if char.isspace():\n",
    "                    # add 1 to the whitespcae counter\n",
    "                    white += 1\n",
    "    # return a f string\n",
    "    return f'There were {upper} uppercase letters, {lower} lowercase letters, {digits} digits, and {white} whitespaces'\n",
    "# creating the main function\n",
    "def main():\n",
    "    # calling the finder function\n",
    "    finder_print = finder()\n",
    "    # printing the finder function\n",
    "    print(finder_print)\n",
    "# calling the main function\n",
    "if __name__ == '__main__':\n",
    "    main()"
   ]
  },
  {
   "cell_type": "code",
   "execution_count": null,
   "id": "f65359b2-57ee-464e-9e78-ab4bf7e8007e",
   "metadata": {},
   "outputs": [],
   "source": []
  }
 ],
 "metadata": {
  "kernelspec": {
   "display_name": "Python 3 (ipykernel)",
   "language": "python",
   "name": "python3"
  },
  "language_info": {
   "codemirror_mode": {
    "name": "ipython",
    "version": 3
   },
   "file_extension": ".py",
   "mimetype": "text/x-python",
   "name": "python",
   "nbconvert_exporter": "python",
   "pygments_lexer": "ipython3",
   "version": "3.11.7"
  }
 },
 "nbformat": 4,
 "nbformat_minor": 5
}
