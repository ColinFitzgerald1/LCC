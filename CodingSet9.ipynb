{
 "cells": [
  {
   "cell_type": "markdown",
   "id": "83175e9a-211d-4e76-8665-b10a46515f4d",
   "metadata": {},
   "source": [
    "# Coding Set 9\n",
    "\n",
    "Colin Fitzgerald\n",
    "\n",
    "7/14/2024\n",
    "\n",
    "Programming Exercise 1"
   ]
  },
  {
   "cell_type": "code",
   "execution_count": null,
   "id": "6ecd68f4-a7d6-4567-99f3-27a01e29c1ba",
   "metadata": {},
   "outputs": [],
   "source": []
  }
 ],
 "metadata": {
  "kernelspec": {
   "display_name": "Python 3 (ipykernel)",
   "language": "python",
   "name": "python3"
  },
  "language_info": {
   "codemirror_mode": {
    "name": "ipython",
    "version": 3
   },
   "file_extension": ".py",
   "mimetype": "text/x-python",
   "name": "python",
   "nbconvert_exporter": "python",
   "pygments_lexer": "ipython3",
   "version": "3.11.7"
  }
 },
 "nbformat": 4,
 "nbformat_minor": 5
}
