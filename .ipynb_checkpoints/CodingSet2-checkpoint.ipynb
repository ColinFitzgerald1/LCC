{
 "cells": [
  {
   "cell_type": "markdown",
   "id": "ec335a1c",
   "metadata": {},
   "source": [
    "# Coding Set 2\n",
    "\n",
    "Colin Fitzgerald\n",
    "\n",
    "5/23/24\n",
    "\n",
    "Algorithm Workbench 11 and Programming Exercises 13 and 14. All from the Textbook."
   ]
  },
  {
   "cell_type": "markdown",
   "id": "1ed28b4d",
   "metadata": {},
   "source": [
    "### Algorithm Workbench 11\n",
    "\n",
    "The textbook asks us to write a Python statement that displays the value referenced by the a preset variable named \"number\" to be reformatted. From \"1234567.456\" to \"1,234,567.5\"."
   ]
  },
  {
   "cell_type": "code",
   "execution_count": 1,
   "id": "e4391fd4",
   "metadata": {},
   "outputs": [
    {
     "ename": "SyntaxError",
     "evalue": "unterminated string literal (detected at line 4) (1206389373.py, line 4)",
     "output_type": "error",
     "traceback": [
      "\u001b[0;36m  Cell \u001b[0;32mIn[1], line 4\u001b[0;36m\u001b[0m\n\u001b[0;31m    print(f'{number:,.1})\u001b[0m\n\u001b[0m          ^\u001b[0m\n\u001b[0;31mSyntaxError\u001b[0m\u001b[0;31m:\u001b[0m unterminated string literal (detected at line 4)\n"
     ]
    }
   ],
   "source": [
    "# We have to define the variable number to be able to convert it\n",
    "number = 1234567.456\n",
    "# We will have to use F-Strings to be able to add comas and round the decimal.\n",
    "print(f'{number:,.1})"
   ]
  },
  {
   "cell_type": "markdown",
   "id": "cc7615b6",
   "metadata": {},
   "source": [
    "Above I accidently forgot an apostrophe which turned it into a unfinished string."
   ]
  },
  {
   "cell_type": "code",
   "execution_count": 2,
   "id": "f0fc68f4",
   "metadata": {},
   "outputs": [
    {
     "name": "stdout",
     "output_type": "stream",
     "text": [
      "The new output is 1,234,567.5\n"
     ]
    }
   ],
   "source": [
    "# We have to define the variable number to be able to convert it\n",
    "number = 1234567.456\n",
    "# We will have to use F-Strings to be able to add comas and round the decimal.\n",
    "print(\"The new output is \" + f'{number:,.1f}')"
   ]
  },
  {
   "cell_type": "markdown",
   "id": "cb5ff34a",
   "metadata": {},
   "source": [
    "### Programming Exercise 13\n",
    "\n",
    "The textbook asks for us create code from an equation with 3 variables and one output. It needs to prompt the customer with three different qeustions before calculating the output.\n",
    "\n",
    "Below we have to define three different variables for the equation. We will prompt the customer that all inputs should be in feet, then we will ask them to give an answer for each variable. We will turn the string output given from the input function to a float, to allow us to do the math."
   ]
  },
  {
   "cell_type": "code",
   "execution_count": 3,
   "id": "cc1c54e1",
   "metadata": {},
   "outputs": [
    {
     "name": "stdout",
     "output_type": "stream",
     "text": [
      "Welcome to the grapevine calculator, please input the values below and remember all inputs should be in feet\n",
      "Please enter the length the row: 350\n",
      "Please enter the the space used by the end-post assembly: 5\n",
      "Please enter the spacing between the vines: 2.5\n"
     ]
    }
   ],
   "source": [
    "# Defining what the program is as well as reminding the customer about inputs being in feet\n",
    "print('Welcome to the grapevine calculator, please input the values below and remember all inputs should be in feet')\n",
    "# Defining the variables by asking for an input and converting it into a float to be able to do math on it\n",
    "FIT_IN_ROW = float(input('Please enter the length the row: '))\n",
    "END_POST = float(input('Please enter the the space used by the end-post assembly: '))\n",
    "BETWEEN_VINES = float(input('Please enter the spacing between the vines: '))"
   ]
  },
  {
   "cell_type": "markdown",
   "id": "677075b7",
   "metadata": {},
   "source": [
    "Below we will perform a calculation on the variables to give the desired output."
   ]
  },
  {
   "cell_type": "code",
   "execution_count": 4,
   "id": "af64f68c",
   "metadata": {},
   "outputs": [
    {
     "name": "stdout",
     "output_type": "stream",
     "text": [
      "The amount of grape vines that will fit in the row is: 136.00\n"
     ]
    }
   ],
   "source": [
    "# Creating an equation to do the math to convert the variables into the desired outputs\n",
    "GRAPE_VINES_ROW = (FIT_IN_ROW - 2 * END_POST) / (BETWEEN_VINES)\n",
    "# This will print the output for the customer\n",
    "print('The amount of grape vines that will fit in the row is: ' + f'{GRAPE_VINES_ROW:,.2f}')"
   ]
  },
  {
   "cell_type": "markdown",
   "id": "b47636cd",
   "metadata": {},
   "source": [
    "Above I was struggling to join the string and the floats together, but I just forgot a comma inbetween them (Alternative method could be converting the variable GRAPE_VINES_ROW to a string and using string concatenation)"
   ]
  },
  {
   "cell_type": "markdown",
   "id": "eee2fb8c",
   "metadata": {},
   "source": [
    "### Programming Exercise 14\n",
    "\n",
    "The textbook asks us to create a compound interesting calculator. It tasks us with creating 4 input variables, with 1 output."
   ]
  },
  {
   "cell_type": "code",
   "execution_count": 5,
   "id": "29456a47",
   "metadata": {},
   "outputs": [
    {
     "name": "stdout",
     "output_type": "stream",
     "text": [
      "Please enter the principal amount entered into the account: 10000\n",
      "Please enter the interest rate, in percentage form: 4.76\n",
      "Please enter the number of times per year the interest is compounded: 12\n",
      "Please enter the number of years it should compound: 10\n"
     ]
    }
   ],
   "source": [
    "# Creating the variables by asking for an input and converting it to a float\n",
    "# For starting amount\n",
    "ORGINAL_DEPOSIT = float(input(\"Please enter the principal amount entered into the account: \"))\n",
    "# For interest rate percentage\n",
    "INTEREST_RATE_PERCENTAGE = float(input(\"Please enter the interest rate, in percentage form: \"))\n",
    "# For amount of times per year compounded\n",
    "TIME_COMPOUNDED = float(input(\"Please enter the number of times per year the interest is compounded: \"))\n",
    "# For amount of years it is compounded\n",
    "YEARS_COMPOUNDED = float(input(\"Please enter the number of years it should compound: \"))"
   ]
  },
  {
   "cell_type": "markdown",
   "id": "9e2ec506",
   "metadata": {},
   "source": [
    "Below we will preform a calculation on the variables to give the desired output as well as converting the interest rate percentage into a number usable in the equation"
   ]
  },
  {
   "cell_type": "code",
   "execution_count": 6,
   "id": "87358ba9",
   "metadata": {},
   "outputs": [
    {
     "name": "stdout",
     "output_type": "stream",
     "text": [
      "The amount of money in the account after 10.0 years is $16,081.08\n"
     ]
    }
   ],
   "source": [
    "# Converting the interest rate pertentage into a number usable by the equation\n",
    "INTEREST_RATE_NUMBER = (INTEREST_RATE_PERCENTAGE / 100)\n",
    "# Performing the equation to the amount of money dependent on the variables.\n",
    "AMOUNT_MONEY = ORGINAL_DEPOSIT * (1 + (INTEREST_RATE_NUMBER)/(TIME_COMPOUNDED)) ** (TIME_COMPOUNDED * YEARS_COMPOUNDED)\n",
    "# Printing the amount of the money in the account\n",
    "print(\"The amount of money in the account after \" + str(YEARS_COMPOUNDED) + \" years is \" + f'${AMOUNT_MONEY:,.2f}')"
   ]
  }
 ],
 "metadata": {
  "kernelspec": {
   "display_name": "Python 3 (ipykernel)",
   "language": "python",
   "name": "python3"
  },
  "language_info": {
   "codemirror_mode": {
    "name": "ipython",
    "version": 3
   },
   "file_extension": ".py",
   "mimetype": "text/x-python",
   "name": "python",
   "nbconvert_exporter": "python",
   "pygments_lexer": "ipython3",
   "version": "3.11.7"
  }
 },
 "nbformat": 4,
 "nbformat_minor": 5
}
