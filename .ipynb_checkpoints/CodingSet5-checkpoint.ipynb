{
 "cells": [
  {
   "cell_type": "markdown",
   "id": "8b96f337",
   "metadata": {},
   "source": [
    "# Coding Set 5\n",
    "\n",
    "Colin Fitzgerald\n",
    "\n",
    "6/16/2024\n",
    "\n",
    "Algorithm Workbench problems 6 and 7, as well as Programming Exercises 1, 16, 17, and 19\n",
    "\n",
    "##### Iteration is shown throughout GitHub History and my high level explanations"
   ]
  },
  {
   "cell_type": "markdown",
   "id": "db0a8b07",
   "metadata": {},
   "source": [
    "### Algorithm Workbench 6\n",
    "\n",
    "The textbook asks us to write a statement that generates a random number in the range of 1 through 100 and assigns it to a variable named rand"
   ]
  },
  {
   "cell_type": "code",
   "execution_count": null,
   "id": "198f7bfb",
   "metadata": {},
   "outputs": [],
   "source": [
    "import random\n",
    "\n",
    "rand = random.randint(1,100)"
   ]
  },
  {
   "cell_type": "markdown",
   "id": "47ca7c2d",
   "metadata": {},
   "source": [
    "### Algorithm Workbench 7\n",
    "\n",
    "The textbook asks us to write code for a function that would make it function"
   ]
  },
  {
   "cell_type": "code",
   "execution_count": 2,
   "id": "28277237",
   "metadata": {},
   "outputs": [
    {
     "name": "stdout",
     "output_type": "stream",
     "text": [
      "3.0\n"
     ]
    }
   ],
   "source": [
    "\n",
    "def main():\n",
    "    result = half(number)\n",
    "    print(result)\n",
    "    \n",
    "def half(div):\n",
    "    return div / 2\n",
    "    \n",
    "main()"
   ]
  },
  {
   "cell_type": "markdown",
   "id": "d9d96d71",
   "metadata": {},
   "source": [
    "### Programming Exercise 1 (Kilometer Converter)\n",
    "\n",
    "Write a program that asks the user to enter a distance in kilometers, then uses a function to convert that distance to miles. The conversion formula is as follows:\n",
    "\n",
    "$Miles = Kilometers * 0.6214$"
   ]
  },
  {
   "cell_type": "code",
   "execution_count": 4,
   "id": "aeb21045",
   "metadata": {},
   "outputs": [
    {
     "name": "stdout",
     "output_type": "stream",
     "text": [
      "Please enter the amount of Kilometers: 40\n",
      "24.855999999999998\n"
     ]
    }
   ],
   "source": [
    "conversion = 0.6214\n",
    "def main():\n",
    "    kilometer = int(input(\"Please enter the amount of Kilometers: \"))\n",
    "    Miles = converter(kilometer)\n",
    "    print(Miles)\n",
    "\n",
    "def converter(kilo):\n",
    "    return kilo * conversion\n",
    "\n",
    "main()"
   ]
  },
  {
   "cell_type": "markdown",
   "id": "eea97c98",
   "metadata": {},
   "source": [
    "### Programming Exercise 16 (Prime Numbers)\n",
    "\n",
    "The textbook asks us to write a Boolean function which takes an integer as an argument and returns true if the argument is a prime number, or false otherwise. Use the function in a program that prompts the user to enter a number then displays a message indicating whether the number is prime."
   ]
  },
  {
   "cell_type": "code",
   "execution_count": 12,
   "id": "b2f32714",
   "metadata": {},
   "outputs": [
    {
     "name": "stdout",
     "output_type": "stream",
     "text": [
      "Please input a number: 4\n",
      "4 is not a prime number\n"
     ]
    }
   ],
   "source": [
    "def is_prime(num):\n",
    "    if num <= 1:\n",
    "        return False\n",
    "    for i in range(2, num):\n",
    "        if num % i == 0:\n",
    "            return False\n",
    "    return True\n",
    "\n",
    "def main():\n",
    "    number = int(input(\"Please input a number: \"))\n",
    "    if is_prime(number):\n",
    "        print(f\"{number} is a prime number\")\n",
    "    else:\n",
    "        print(f\"{number} is not a prime number\")\n",
    "        \n",
    "main()"
   ]
  },
  {
   "cell_type": "markdown",
   "id": "53e51a82",
   "metadata": {},
   "source": [
    "issue with false vs False in boolean"
   ]
  },
  {
   "cell_type": "markdown",
   "id": "67c015ac",
   "metadata": {},
   "source": [
    "### Programming Exercise 17 (Prime Number List)\n",
    "\n",
    "The textbook asks us to write another program that displays all of the prime numbers from 1 to 100. The program should have a loop that calls to a prevoius function."
   ]
  },
  {
   "cell_type": "code",
   "execution_count": 13,
   "id": "7ca1a816",
   "metadata": {},
   "outputs": [
    {
     "name": "stdout",
     "output_type": "stream",
     "text": [
      "1\tNot Prime\n",
      "2\tPrime\n",
      "3\tPrime\n",
      "4\tNot Prime\n",
      "5\tPrime\n",
      "6\tNot Prime\n",
      "7\tPrime\n",
      "8\tNot Prime\n",
      "9\tNot Prime\n",
      "10\tNot Prime\n",
      "11\tPrime\n",
      "12\tNot Prime\n",
      "13\tPrime\n",
      "14\tNot Prime\n",
      "15\tNot Prime\n",
      "16\tNot Prime\n",
      "17\tPrime\n",
      "18\tNot Prime\n",
      "19\tPrime\n",
      "20\tNot Prime\n",
      "21\tNot Prime\n",
      "22\tNot Prime\n",
      "23\tPrime\n",
      "24\tNot Prime\n",
      "25\tNot Prime\n",
      "26\tNot Prime\n",
      "27\tNot Prime\n",
      "28\tNot Prime\n",
      "29\tPrime\n",
      "30\tNot Prime\n",
      "31\tPrime\n",
      "32\tNot Prime\n",
      "33\tNot Prime\n",
      "34\tNot Prime\n",
      "35\tNot Prime\n",
      "36\tNot Prime\n",
      "37\tPrime\n",
      "38\tNot Prime\n",
      "39\tNot Prime\n",
      "40\tNot Prime\n",
      "41\tPrime\n",
      "42\tNot Prime\n",
      "43\tPrime\n",
      "44\tNot Prime\n",
      "45\tNot Prime\n",
      "46\tNot Prime\n",
      "47\tPrime\n",
      "48\tNot Prime\n",
      "49\tNot Prime\n",
      "50\tNot Prime\n",
      "51\tNot Prime\n",
      "52\tNot Prime\n",
      "53\tPrime\n",
      "54\tNot Prime\n",
      "55\tNot Prime\n",
      "56\tNot Prime\n",
      "57\tNot Prime\n",
      "58\tNot Prime\n",
      "59\tPrime\n",
      "60\tNot Prime\n",
      "61\tPrime\n",
      "62\tNot Prime\n",
      "63\tNot Prime\n",
      "64\tNot Prime\n",
      "65\tNot Prime\n",
      "66\tNot Prime\n",
      "67\tPrime\n",
      "68\tNot Prime\n",
      "69\tNot Prime\n",
      "70\tNot Prime\n",
      "71\tPrime\n",
      "72\tNot Prime\n",
      "73\tPrime\n",
      "74\tNot Prime\n",
      "75\tNot Prime\n",
      "76\tNot Prime\n",
      "77\tNot Prime\n",
      "78\tNot Prime\n",
      "79\tPrime\n",
      "80\tNot Prime\n",
      "81\tNot Prime\n",
      "82\tNot Prime\n",
      "83\tPrime\n",
      "84\tNot Prime\n",
      "85\tNot Prime\n",
      "86\tNot Prime\n",
      "87\tNot Prime\n",
      "88\tNot Prime\n",
      "89\tPrime\n",
      "90\tNot Prime\n",
      "91\tNot Prime\n",
      "92\tNot Prime\n",
      "93\tNot Prime\n",
      "94\tNot Prime\n",
      "95\tNot Prime\n",
      "96\tNot Prime\n",
      "97\tPrime\n",
      "98\tNot Prime\n",
      "99\tNot Prime\n",
      "100\tNot Prime\n"
     ]
    }
   ],
   "source": [
    "def main():\n",
    "    for check in range(1,101,1):\n",
    "        if is_prime(check):\n",
    "            print(f\"{check}\\tPrime\")\n",
    "        else:\n",
    "            print(f\"{check}\\tNot Prime\")\n",
    "main()"
   ]
  },
  {
   "cell_type": "markdown",
   "id": "0129b829",
   "metadata": {},
   "source": [
    "### Programming Exercise 19 (Random Number Guessing Game)\n",
    "\n",
    "The textbook asks us to write a program that generates a random number in the range of 1 through 100, and asks the user to guess what the number is. If the user’s guess is higher than the random number, the program should display “Too high, try again.” If the user’s guess is lower than the random number, the program should display “Too low, try again.” If the user guesses the number, the application should congratulate the user and generate a new random number so the game can start over."
   ]
  },
  {
   "cell_type": "code",
   "execution_count": null,
   "id": "191a91f9",
   "metadata": {},
   "outputs": [],
   "source": [
    "import random\n",
    "def main():\n",
    "    guess = "
   ]
  }
 ],
 "metadata": {
  "kernelspec": {
   "display_name": "Python 3 (ipykernel)",
   "language": "python",
   "name": "python3"
  },
  "language_info": {
   "codemirror_mode": {
    "name": "ipython",
    "version": 3
   },
   "file_extension": ".py",
   "mimetype": "text/x-python",
   "name": "python",
   "nbconvert_exporter": "python",
   "pygments_lexer": "ipython3",
   "version": "3.11.7"
  }
 },
 "nbformat": 4,
 "nbformat_minor": 5
}
