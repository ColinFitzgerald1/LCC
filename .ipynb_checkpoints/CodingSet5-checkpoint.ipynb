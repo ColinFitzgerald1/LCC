{
 "cells": [
  {
   "cell_type": "markdown",
   "id": "52ebd228",
   "metadata": {},
   "source": [
    "# Coding Set 5\n",
    "\n",
    "Colin Fitzgerald\n",
    "\n",
    "6/16/2024\n",
    "\n",
    "Algorithm Workbench problems 6 and 7, as well as Programming Exercises 1, 16, 17, and 19\n",
    "\n",
    "##### Iteration is shown throughout GitHub History and my high level explanations"
   ]
  },
  {
   "cell_type": "markdown",
   "id": "fd0c11a8",
   "metadata": {},
   "source": [
    "### Algorithm Workbench 6\n",
    "\n",
    "The textbook asks us to write a statement that generates a random number in the range of 1 through 100 and assigns it to a variable named rand"
   ]
  },
  {
   "cell_type": "code",
   "execution_count": null,
   "id": "fbb0e31c",
   "metadata": {},
   "outputs": [],
   "source": [
    "import random\n",
    "\n",
    "def main():\n",
    "    rand = random.randint(1,100)\n",
    "    print(f\"The random number 1 through 100 is {rand}\")\n",
    "\n",
    "main()"
   ]
  },
  {
   "cell_type": "markdown",
   "id": "3bcc0092",
   "metadata": {},
   "source": [
    "#### High Level Overview\n",
    "\n"
   ]
  },
  {
   "cell_type": "markdown",
   "id": "b9b0583f",
   "metadata": {},
   "source": [
    "### Algorithm Workbench 7\n",
    "\n",
    "The textbook asks us to write code for a function that would make it function"
   ]
  },
  {
   "cell_type": "code",
   "execution_count": null,
   "id": "a572b8cb",
   "metadata": {},
   "outputs": [],
   "source": [
    "\n",
    "def main():\n",
    "    result = half(number)\n",
    "    print(result)\n",
    "    \n",
    "def half(div):\n",
    "    return div / 2\n",
    "    \n",
    "main()"
   ]
  },
  {
   "cell_type": "markdown",
   "id": "c8422735",
   "metadata": {},
   "source": [
    "#### High Level Overview\n",
    "\n"
   ]
  },
  {
   "cell_type": "markdown",
   "id": "6627eb07",
   "metadata": {},
   "source": [
    "### Programming Exercise 1 (Kilometer Converter)\n",
    "\n",
    "Write a program that asks the user to enter a distance in kilometers, then uses a function to convert that distance to miles. The conversion formula is as follows:\n",
    "\n",
    "$Miles = Kilometers * 0.6214$"
   ]
  },
  {
   "cell_type": "code",
   "execution_count": null,
   "id": "4dcf14b6",
   "metadata": {},
   "outputs": [],
   "source": [
    "conversion = 0.6214\n",
    "def main():\n",
    "    kilometer = int(input(\"Please enter the amount of Kilometers: \"))\n",
    "    Miles = converter(kilometer)\n",
    "    print(Miles)\n",
    "\n",
    "def converter(kilo):\n",
    "    return kilo * conversion\n",
    "\n",
    "main()"
   ]
  },
  {
   "cell_type": "markdown",
   "id": "ee6bc679",
   "metadata": {},
   "source": [
    "#### High Level Overview\n",
    "\n"
   ]
  },
  {
   "cell_type": "markdown",
   "id": "65edfed2",
   "metadata": {},
   "source": [
    "### Programming Exercise 16 (Prime Numbers)\n",
    "\n",
    "The textbook asks us to write a Boolean function which takes an integer as an argument and returns true if the argument is a prime number, or false otherwise. Use the function in a program that prompts the user to enter a number then displays a message indicating whether the number is prime."
   ]
  },
  {
   "cell_type": "code",
   "execution_count": null,
   "id": "75096fab",
   "metadata": {},
   "outputs": [],
   "source": [
    "def is_prime(num):\n",
    "    if num <= 1:\n",
    "        return False\n",
    "    for i in range(2, num):\n",
    "        if num % i == 0:\n",
    "            return False\n",
    "    return True\n",
    "\n",
    "def main():\n",
    "    number = int(input(\"Please input a number: \"))\n",
    "    if is_prime(number):\n",
    "        print(f\"{number} is a prime number\")\n",
    "    else:\n",
    "        print(f\"{number} is not a prime number\")\n",
    "        \n",
    "main()"
   ]
  },
  {
   "cell_type": "markdown",
   "id": "bbab28cf",
   "metadata": {},
   "source": [
    "#### High Level Overview\n",
    "\n",
    "issue with false vs False in boolean"
   ]
  },
  {
   "cell_type": "markdown",
   "id": "04d7ad61",
   "metadata": {},
   "source": [
    "### Programming Exercise 17 (Prime Number List)\n",
    "\n",
    "The textbook asks us to write another program that displays all of the prime numbers from 1 to 100. The program should have a loop that calls to a prevoius function."
   ]
  },
  {
   "cell_type": "code",
   "execution_count": null,
   "id": "1dcc1865",
   "metadata": {},
   "outputs": [],
   "source": [
    "def main():\n",
    "    for check in range(1,101,1):\n",
    "        if is_prime(check):\n",
    "            print(f\"{check}\\tPrime\")\n",
    "        else:\n",
    "            print(f\"{check}\\tNot Prime\")\n",
    "main()"
   ]
  },
  {
   "cell_type": "markdown",
   "id": "e5e443ba",
   "metadata": {},
   "source": [
    "#### High Level Overview\n",
    "\n"
   ]
  },
  {
   "cell_type": "markdown",
   "id": "017aaaab",
   "metadata": {},
   "source": [
    "### Programming Exercise 19 (Random Number Guessing Game)\n",
    "\n",
    "The textbook asks us to write a program that generates a random number in the range of 1 through 100, and asks the user to guess what the number is. If the user’s guess is higher than the random number, the program should display “Too high, try again.” If the user’s guess is lower than the random number, the program should display “Too low, try again.” If the user guesses the number, the application should congratulate the user and generate a new random number so the game can start over."
   ]
  },
  {
   "cell_type": "code",
   "execution_count": 1,
   "id": "f82a2020",
   "metadata": {},
   "outputs": [
    {
     "name": "stdout",
     "output_type": "stream",
     "text": [
      "Please enter your guess: 50\n",
      "Your guess is too small, try again\n",
      "Please enter your guess: 75\n",
      "Your guess is too big, try again\n",
      "Please enter your guess: 66\n",
      "Your guess is too big, try again\n",
      "Please enter your guess: 60\n",
      "Your guess is too big, try again\n",
      "Please enter your guess: 55\n",
      "Congrats!\n",
      "Do you want to play again (Y/N): Y\n",
      "Please enter your guess: 50\n",
      "Your guess is too big, try again\n",
      "Please enter your guess: 25\n",
      "Your guess is too small, try again\n",
      "Please enter your guess: 35\n",
      "Your guess is too small, try again\n",
      "Please enter your guess: 45\n",
      "Your guess is too big, try again\n",
      "Please enter your guess: 40\n",
      "Your guess is too big, try again\n",
      "Please enter your guess: 37\n",
      "Your guess is too small, try again\n",
      "Please enter your guess: 36\n",
      "Your guess is too small, try again\n",
      "Please enter your guess: 39\n",
      "Congrats!\n",
      "Do you want to play again (Y/N): N\n"
     ]
    }
   ],
   "source": [
    "import random\n",
    "\n",
    "def main():\n",
    "    while True:\n",
    "        randomNum = random.randint(1,100)\n",
    "        \n",
    "        while True:\n",
    "            guess = int(input(\"Please enter your guess: \"))\n",
    "            if guess > randomNum:\n",
    "                print(\"Your guess is too big, try again\")\n",
    "            elif guess < randomNum:\n",
    "                print(\"Your guess is too small, try again\")\n",
    "            else:\n",
    "                print(\"Congrats!\")\n",
    "                break\n",
    "                \n",
    "        play_again = input(\"Do you want to play again (Y/N): \")\n",
    "            \n",
    "        if play_again != \"Y\":\n",
    "            break\n",
    "        \n",
    "main()"
   ]
  },
  {
   "cell_type": "markdown",
   "id": "c3a11b91",
   "metadata": {},
   "source": [
    "#### High Level Overview\n",
    "\n",
    "Tried looping by continue but it would just loop forever. So using break instead. I had used the wrong > < symblols and print statements"
   ]
  },
  {
   "cell_type": "code",
   "execution_count": null,
   "id": "0712d14a",
   "metadata": {},
   "outputs": [],
   "source": []
  }
 ],
 "metadata": {
  "kernelspec": {
   "display_name": "Python 3 (ipykernel)",
   "language": "python",
   "name": "python3"
  },
  "language_info": {
   "codemirror_mode": {
    "name": "ipython",
    "version": 3
   },
   "file_extension": ".py",
   "mimetype": "text/x-python",
   "name": "python",
   "nbconvert_exporter": "python",
   "pygments_lexer": "ipython3",
   "version": "3.11.7"
  }
 },
 "nbformat": 4,
 "nbformat_minor": 5
}
