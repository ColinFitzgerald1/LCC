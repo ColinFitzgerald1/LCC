{
 "cells": [
  {
   "cell_type": "markdown",
   "id": "08fdb593",
   "metadata": {},
   "source": [
    "# Coding Set 5\n",
    "\n",
    "Colin Fitzgerald\n",
    "\n",
    "6/16/2024\n",
    "\n",
    "Algorithm Workbench problems 6 and 7, as well as Programming Exercises 1, 16, 17, and 19\n",
    "\n",
    "##### Iteration is shown throughout GitHub History and my high level explanations"
   ]
  },
  {
   "cell_type": "markdown",
   "id": "eb54f031",
   "metadata": {},
   "source": [
    "### Algorithm Workbench 6\n",
    "\n",
    "The textbook asks us to write a statement that generates a random number in the range of 1 through 100 and assigns it to a variable named rand"
   ]
  },
  {
   "cell_type": "code",
   "execution_count": null,
   "id": "c9ff986c",
   "metadata": {},
   "outputs": [],
   "source": [
    "# imports the random module\n",
    "import random\n",
    "# creates the main function\n",
    "def main():\n",
    "    # defines the local variable rand as a random number 1 through 100\n",
    "    rand = random.randint(1,100)\n",
    "    # prints an f string 1 through 100\n",
    "    print(f\"The random number 1 through 100 is {rand}\")\n",
    "# calls and executes the main function\n",
    "main()"
   ]
  },
  {
   "cell_type": "markdown",
   "id": "683c44c9",
   "metadata": {},
   "source": [
    "#### High Level Overview\n",
    "\n",
    "First we have to import the random module, then we create the main function. Inside the main function we define the variable rand as a random number 1 through 100. It then prints a formatted f string. In the end it calls and executes the main function."
   ]
  },
  {
   "cell_type": "markdown",
   "id": "18ab4936",
   "metadata": {},
   "source": [
    "### Algorithm Workbench 7\n",
    "\n",
    "The textbook asks us to write code for a function that would make it function"
   ]
  },
  {
   "cell_type": "code",
   "execution_count": null,
   "id": "9d2f2374",
   "metadata": {},
   "outputs": [],
   "source": [
    "# creates the main function\n",
    "def main():\n",
    "    # defines the variable number as an integer from input\n",
    "    number = int(input(\"Please input a number: \"))\n",
    "    # defines the variable result from calling the function half with the number from the input\n",
    "    result = half(number)\n",
    "    # prints an f string that formats the print\n",
    "    print(f\"{number} split in half is {int(result)}\")\n",
    "# creates the half function\n",
    "def half(div):\n",
    "    # returns the number devided by 2\n",
    "    return div / 2\n",
    "# calls and executes the main function   \n",
    "main()"
   ]
  },
  {
   "cell_type": "markdown",
   "id": "57e02507",
   "metadata": {},
   "source": [
    "#### High Level Overview\n",
    "\n",
    "First we create the main function. Inside the main function we define the number variable as an integer from an input. After we define the variable result by calling the half function and input the number into it. Going into the half function it takes the number and returns the half of it. Going back to the main function it then prints the formatted f string. To start it we called the main function which is then executed."
   ]
  },
  {
   "cell_type": "markdown",
   "id": "4ec04356",
   "metadata": {},
   "source": [
    "### Programming Exercise 1 (Kilometer Converter)\n",
    "\n",
    "Write a program that asks the user to enter a distance in kilometers, then uses a function to convert that distance to miles. The conversion formula is as follows:\n",
    "\n",
    "$Miles = Kilometers * 0.6214$"
   ]
  },
  {
   "cell_type": "code",
   "execution_count": 1,
   "id": "1134ebab",
   "metadata": {},
   "outputs": [
    {
     "name": "stdout",
     "output_type": "stream",
     "text": [
      "Please enter the amount of Kilometers: 98\n",
      "98 Kilometers is 60.90 Miles\n"
     ]
    }
   ],
   "source": [
    "# creates a global variable\n",
    "conversion = 0.6214\n",
    "# creates the main function\n",
    "def main():\n",
    "    # defines the variable kilometer as an integer input\n",
    "    kilometer = int(input(\"Please enter the amount of Kilometers: \"))\n",
    "    # defines the variable miles as the function output with the input of kilometers\n",
    "    Miles = converter(kilometer)\n",
    "    # prints an formatted f string\n",
    "    print(f\"{kilometer} Kilometers is {Miles:.2f} Miles\")\n",
    "# creates the converter function\n",
    "def converter(kilo):\n",
    "    # returns the conversion\n",
    "    return kilo * conversion\n",
    "# calls and executes the main function\n",
    "main()"
   ]
  },
  {
   "cell_type": "markdown",
   "id": "bacbf88f",
   "metadata": {},
   "source": [
    "#### High Level Overview\n",
    "\n",
    "First we create the global variable named conversion and define as 0.6214. After we create the main function. Inside the main function we define kilometer from an input. After we define miles from the function converter. Going to the converter function it returns the kilometer multiplied by the global variable conversion. Going back into the main function we print the answer as a f string. In the end we call and execute the main function."
   ]
  },
  {
   "cell_type": "markdown",
   "id": "7bd78e90",
   "metadata": {},
   "source": [
    "### Programming Exercise 16 (Prime Numbers)\n",
    "\n",
    "The textbook asks us to write a Boolean function which takes an integer as an argument and returns true if the argument is a prime number, or false otherwise. Use the function in a program that prompts the user to enter a number then displays a message indicating whether the number is prime."
   ]
  },
  {
   "cell_type": "code",
   "execution_count": 2,
   "id": "959b3094",
   "metadata": {},
   "outputs": [
    {
     "name": "stdout",
     "output_type": "stream",
     "text": [
      "Please input a number: 73621\n",
      "73621 is not a prime number\n"
     ]
    }
   ],
   "source": [
    "# creates the function is_prime\n",
    "def is_prime(num):\n",
    "    # creates an if statement that will not allow an input less than 1\n",
    "    if num <= 1:\n",
    "        # returns False if the if is true\n",
    "        return False\n",
    "    # creates a for loop in range of 2 to the number being checked\n",
    "    for i in range(2, num):\n",
    "        # creates an if statement to check if it is divisable by any number in the range\n",
    "        if num % i == 0:\n",
    "            # returns false if it is true\n",
    "            return False\n",
    "    # returns true if it true\n",
    "    return True\n",
    "# creates the main function\n",
    "def main():\n",
    "    # defines the variable number as the integer input \n",
    "    number = int(input(\"Please input a number: \"))\n",
    "    # if statement that calls the is_prime function\n",
    "    if is_prime(number):\n",
    "        # prints that it is a prime number\n",
    "        print(f\"{int(number)} is a prime number\")\n",
    "    # if not then is it not a prime number\n",
    "    else:\n",
    "        # prints that it is not a prime number\n",
    "        print(f\"{int(number)} is not a prime number\")\n",
    "# calls and executes the main function     \n",
    "main()"
   ]
  },
  {
   "cell_type": "markdown",
   "id": "a2c0c7be",
   "metadata": {},
   "source": [
    "#### High Level Overview\n",
    "\n",
    "First we create the function is_prime, followed by an if statement that checks if it is less than 1 which then returns falses. If it keeps going it then goes to a for loop in the range of 2 to the amount of number inputed which it is true then it will return false. If the number is divisable by the range then it will return false. If it passes through everything then it will return true. Inside of the main function we define the number with an input. After there is an if statement that if true with print that it is not a prime number, and then a else statement that wil print that it is a prime number with a formatted f string. In the end it will call and execite the main function\n",
    "\n",
    "###### At first I had an issue with using false (which is considered a string) instead of False which will work inside of a boolean for my while loops"
   ]
  },
  {
   "cell_type": "markdown",
   "id": "07d9533f",
   "metadata": {},
   "source": [
    "### Programming Exercise 17 (Prime Number List)\n",
    "\n",
    "The textbook asks us to write another program that displays all of the prime numbers from 1 to 100. The program should have a loop that calls to a prevoius function."
   ]
  },
  {
   "cell_type": "code",
   "execution_count": null,
   "id": "5b2f2c19",
   "metadata": {},
   "outputs": [],
   "source": [
    "# creates the main function\n",
    "def main():\n",
    "    # creates a for loop in range of 1 to 100\n",
    "    for check in range(1,101,1):\n",
    "        # creates an if statement that references the is_prime function\n",
    "        if is_prime(check):\n",
    "            # prints a formatted f string\n",
    "            print(f\"{check}\\tPrime\")\n",
    "        # creates an else statement\n",
    "        else:\n",
    "            # prints a formatted f string\n",
    "            print(f\"{check}\\tNot Prime\")\n",
    "# calls and executes the main function\n",
    "main()"
   ]
  },
  {
   "cell_type": "markdown",
   "id": "cc6b21c0",
   "metadata": {},
   "source": [
    "#### High Level Overview\n",
    "\n",
    "First I create the main function. Inside the main function I create a for loop in the range of 1 to 100. After I created a if statement that uses the is_prime function in the previous programming exercise to check if it is a prime. It will then print the number and if it is prime. If it is false it will print the number and that is is not prime. In the end we call and execute the main function."
   ]
  },
  {
   "cell_type": "markdown",
   "id": "ec9a2d78",
   "metadata": {},
   "source": [
    "### Programming Exercise 19 (Random Number Guessing Game)\n",
    "\n",
    "The textbook asks us to write a program that generates a random number in the range of 1 through 100, and asks the user to guess what the number is. If the user’s guess is higher than the random number, the program should display “Too high, try again.” If the user’s guess is lower than the random number, the program should display “Too low, try again.” If the user guesses the number, the application should congratulate the user and generate a new random number so the game can start over."
   ]
  },
  {
   "cell_type": "code",
   "execution_count": 3,
   "id": "b3a9148b",
   "metadata": {},
   "outputs": [
    {
     "name": "stdout",
     "output_type": "stream",
     "text": [
      "Please enter your guess: 50\n",
      "Your guess is too big, try again\n",
      "Please enter your guess: 25\n",
      "Your guess is too small, try again\n",
      "Please enter your guess: 37\n",
      "Your guess is too small, try again\n",
      "Please enter your guess: 32\n",
      "Your guess is too small, try again\n",
      "Please enter your guess: 45\n",
      "Your guess is too big, try again\n",
      "Please enter your guess: 43\n",
      "Your guess is too small, try again\n",
      "Please enter your guess: 42\n",
      "Your guess is too small, try again\n",
      "Please enter your guess: 44\n",
      "Congrats!\n",
      "Do you want to play again (Y/N): N\n"
     ]
    }
   ],
   "source": [
    "# imports the random module\n",
    "import random\n",
    "# creates the main functions\n",
    "def main():\n",
    "    # creates a while loop that happens when true\n",
    "    while True:\n",
    "        # defines the variable randomNum as a random number 1 through 100\n",
    "        randomNum = random.randint(1,100)\n",
    "        # creates a while loop that happens when true\n",
    "        while True:\n",
    "            # defines the variable guess as an integer input\n",
    "            guess = int(input(\"Please enter your guess: \"))\n",
    "            # creates an if statement that checks if larger\n",
    "            if guess > randomNum:\n",
    "                # prints a statement\n",
    "                print(\"Your guess is too big, try again\")\n",
    "            # creates an elif statement that checks if smaller\n",
    "            elif guess < randomNum:\n",
    "                # prints a statement\n",
    "                print(\"Your guess is too small, try again\")\n",
    "            # creates an else statement that will happen if correct\n",
    "            else:\n",
    "                # prints a statement\n",
    "                print(\"Congrats!\")\n",
    "                # breaks the loop\n",
    "                break\n",
    "        # defines the variable as the input\n",
    "        play_again = input(\"Do you want to play again (Y/N): \")\n",
    "        # creates an if statement that check if it is not to play again\n",
    "        if play_again != \"Y\":\n",
    "            # breaks the loop\n",
    "            break\n",
    "# calls and executes the main function\n",
    "main()"
   ]
  },
  {
   "cell_type": "markdown",
   "id": "49ba8d68",
   "metadata": {},
   "source": [
    "#### High Level Overview\n",
    "\n",
    "First we import the random module. After we create the main function. Inside the main function we have a while loop that will create a random number 1 through 100 and assign it to the variable randomNum. Inside of that while loop we have a nested while loop that asks for the users input and assigns it to the variable guess. Then we make the if elif else statements that will print when true. If the else happens because the user got the number correct than it will break the loop and move on to ask the user if they want to play again. Then there is a small if statement that will break the loop if the user doesn't want to play again. At the end we call and execute the main function.\n",
    "\n",
    "###### At first I tried to do my looping using continue statements instead of breaks but it would just loop forever, so I used break. An issue I had was I used the wrong greater or than than symblols inside the print statements so it would tell the user that is was too large when in reality it was too small."
   ]
  },
  {
   "cell_type": "code",
   "execution_count": null,
   "id": "2d85e146",
   "metadata": {},
   "outputs": [],
   "source": []
  }
 ],
 "metadata": {
  "kernelspec": {
   "display_name": "Python 3 (ipykernel)",
   "language": "python",
   "name": "python3"
  },
  "language_info": {
   "codemirror_mode": {
    "name": "ipython",
    "version": 3
   },
   "file_extension": ".py",
   "mimetype": "text/x-python",
   "name": "python",
   "nbconvert_exporter": "python",
   "pygments_lexer": "ipython3",
   "version": "3.11.7"
  }
 },
 "nbformat": 4,
 "nbformat_minor": 5
}
