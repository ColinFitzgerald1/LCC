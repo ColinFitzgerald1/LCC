{
 "cells": [
  {
   "cell_type": "markdown",
   "id": "4f03f004",
   "metadata": {},
   "source": [
    "# Coding Set 4\n",
    "\n",
    "Colin Fitzgerald\n",
    "\n",
    "6/7/2024\n",
    "\n",
    "Algorithm Workbench problems 5 and 8 as well as programming exercises 1, 4, 12, and 14"
   ]
  },
  {
   "cell_type": "markdown",
   "id": "75e80eb2",
   "metadata": {},
   "source": [
    "### Algorithm Workbench 5\n",
    "\n",
    "The textbook asks to write a loop that calculates the total of a series of numbers"
   ]
  },
  {
   "cell_type": "code",
   "execution_count": null,
   "id": "e4cac372",
   "metadata": {},
   "outputs": [],
   "source": []
  }
 ],
 "metadata": {
  "kernelspec": {
   "display_name": "Python 3 (ipykernel)",
   "language": "python",
   "name": "python3"
  },
  "language_info": {
   "codemirror_mode": {
    "name": "ipython",
    "version": 3
   },
   "file_extension": ".py",
   "mimetype": "text/x-python",
   "name": "python",
   "nbconvert_exporter": "python",
   "pygments_lexer": "ipython3",
   "version": "3.11.7"
  }
 },
 "nbformat": 4,
 "nbformat_minor": 5
}
