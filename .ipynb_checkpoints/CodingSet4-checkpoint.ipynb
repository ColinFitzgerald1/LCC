{
 "cells": [
  {
   "cell_type": "markdown",
   "id": "b6e68d99",
   "metadata": {},
   "source": [
    "# Coding Set 4\n",
    "\n",
    "Colin Fitzgerald\n",
    "\n",
    "6/7/2024\n",
    "\n",
    "Algorithm Workbench problems 5 and 8 as well as programming exercises 1, 4, 12, and 14"
   ]
  },
  {
   "cell_type": "markdown",
   "id": "1fbbc5fe",
   "metadata": {},
   "source": [
    "### Algorithm Workbench 5\n",
    "\n",
    "The textbook asks to write a loop that calculates the total of a series of numbers"
   ]
  },
  {
   "cell_type": "code",
   "execution_count": null,
   "id": "f29c2deb",
   "metadata": {},
   "outputs": [],
   "source": [
    "# defining denominator to be to preform operations on it\n",
    "denominator = 30\n",
    "# defining / resetting the variable total to be able to add onto it\n",
    "total = 0\n",
    "# a loop for the numerator that cycles 1 through 30\n",
    "for numerator in range(1, 31):\n",
    "    # creating a variable \"number\" that is the quotient\n",
    "    number = numerator / denominator\n",
    "    # using an augmented assignment operator to create an accumulator\n",
    "    total += number\n",
    "    # redefines the denominator by using a assignment operator to subtract 1\n",
    "    denominator -= 1\n",
    "# prints the final total\n",
    "print(total)"
   ]
  }
 ],
 "metadata": {
  "kernelspec": {
   "display_name": "Python 3 (ipykernel)",
   "language": "python",
   "name": "python3"
  },
  "language_info": {
   "codemirror_mode": {
    "name": "ipython",
    "version": 3
   },
   "file_extension": ".py",
   "mimetype": "text/x-python",
   "name": "python",
   "nbconvert_exporter": "python",
   "pygments_lexer": "ipython3",
   "version": "3.11.7"
  }
 },
 "nbformat": 4,
 "nbformat_minor": 5
}
