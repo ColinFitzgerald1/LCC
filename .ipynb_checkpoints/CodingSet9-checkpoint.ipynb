{
 "cells": [
  {
   "cell_type": "markdown",
   "id": "83175e9a-211d-4e76-8665-b10a46515f4d",
   "metadata": {},
   "source": [
    "# Coding Set 9\n",
    "\n",
    "Colin Fitzgerald\n",
    "\n",
    "7/14/2024\n",
    "\n",
    "Programming Exercise 1"
   ]
  },
  {
   "cell_type": "markdown",
   "id": "191cbe2d-1fd0-4602-9dfe-24f697340713",
   "metadata": {},
   "source": [
    "### Programming Exercise 1 (Course Information)\n",
    "\n",
    "The textbook asks us to write a program that creates dictionaries containing information about classes as well as be able to retreive that information when the user asks"
   ]
  },
  {
   "cell_type": "code",
   "execution_count": 10,
   "id": "b84cac13-8bd4-4005-a480-6d2961803239",
   "metadata": {},
   "outputs": [
    {
     "name": "stdin",
     "output_type": "stream",
     "text": [
      "Please enter the course you are taking:  NT110\n"
     ]
    },
    {
     "name": "stdout",
     "output_type": "stream",
     "text": [
      "Information about course NT110 is: Room 1244, Instructor Burke, at 11:00 AM\n"
     ]
    }
   ],
   "source": [
    "# creating the course_rooms global dictionary\n",
    "course_rooms = {\"CS101\": \"3004\", \"CS102\": \"4501\", \"CS103\": \"6755\", \"NT110\": \"1244\", \"CM241\": \"1411\"}\n",
    "# creating the course_instructors global dictionary\n",
    "course_instructors = {\"CS101\": \"Haynes\", \"CS102\": \"Alvarado\", \"CS103\": \"Rich\", \"NT110\": \"Burke\", \"CM241\": \"Lee\"}\n",
    "# creating the course_times global dictionary\n",
    "course_times = {\"CS101\": \"8:00 AM\", \"CS102\": \"9:00 AM\", \"CS103\": \"10:00 AM\", \"NT110\": \"11:00 AM\", \"CM241\": \"1:00 PM\"}\n",
    "\n",
    "def main():\n",
    "    # asking the user for an input\n",
    "    user_input = input(\"Please enter the course you are taking: \")\n",
    "    # making sure that the key is valid\n",
    "    if user_input in course_rooms:\n",
    "        # assigning a variable using the key from the user\n",
    "        room = course_rooms[user_input]\n",
    "        # assigning a variable using the key from the user\n",
    "        instructor = course_instructors [user_input]\n",
    "        # assigning a variable using the key from the user\n",
    "        time = course_times[user_input]\n",
    "    # else part of the if else\n",
    "    else:\n",
    "        # will print that it is an invalid course name\n",
    "        print(\"Invalid course name\")\n",
    "    # prints a f string that is formatted\n",
    "    print(f\"Information about course {user_input} is: Room {room}, Instructor {instructor}, at {time}\")\n",
    "if __name__ == \"__main__\":\n",
    "    main()"
   ]
  },
  {
   "cell_type": "code",
   "execution_count": null,
   "id": "338b4cc0-a20e-4b6c-a0b9-514604692a3c",
   "metadata": {},
   "outputs": [],
   "source": []
  }
 ],
 "metadata": {
  "kernelspec": {
   "display_name": "Python 3 (ipykernel)",
   "language": "python",
   "name": "python3"
  },
  "language_info": {
   "codemirror_mode": {
    "name": "ipython",
    "version": 3
   },
   "file_extension": ".py",
   "mimetype": "text/x-python",
   "name": "python",
   "nbconvert_exporter": "python",
   "pygments_lexer": "ipython3",
   "version": "3.11.7"
  }
 },
 "nbformat": 4,
 "nbformat_minor": 5
}
