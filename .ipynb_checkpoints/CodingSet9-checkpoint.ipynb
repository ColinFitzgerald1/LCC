{
 "cells": [
  {
   "cell_type": "markdown",
   "id": "83175e9a-211d-4e76-8665-b10a46515f4d",
   "metadata": {},
   "source": [
    "# Coding Set 9\n",
    "\n",
    "Colin Fitzgerald\n",
    "\n",
    "7/14/2024\n",
    "\n",
    "Programming Exercise 1"
   ]
  },
  {
   "cell_type": "markdown",
   "id": "191cbe2d-1fd0-4602-9dfe-24f697340713",
   "metadata": {},
   "source": [
    "### Programming Exercise 1 (Course Information)\n",
    "\n",
    "The textbook asks us to write a program that creates dictionaries containing information about classes as well as be able to retreive that information when the user asks"
   ]
  },
  {
   "cell_type": "code",
   "execution_count": null,
   "id": "b84cac13-8bd4-4005-a480-6d2961803239",
   "metadata": {},
   "outputs": [],
   "source": []
  }
 ],
 "metadata": {
  "kernelspec": {
   "display_name": "Python 3 (ipykernel)",
   "language": "python",
   "name": "python3"
  },
  "language_info": {
   "codemirror_mode": {
    "name": "ipython",
    "version": 3
   },
   "file_extension": ".py",
   "mimetype": "text/x-python",
   "name": "python",
   "nbconvert_exporter": "python",
   "pygments_lexer": "ipython3",
   "version": "3.11.7"
  }
 },
 "nbformat": 4,
 "nbformat_minor": 5
}
