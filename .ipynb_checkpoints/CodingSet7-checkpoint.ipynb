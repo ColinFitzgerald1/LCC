{
 "cells": [
  {
   "cell_type": "markdown",
   "id": "938cf64e-8fa8-4ddf-b9ed-a1e94cb21171",
   "metadata": {},
   "source": [
    "# Coding Set 7\n",
    "\n",
    "Colin Fitzgerald\n",
    "\n",
    "6/30/2024\n",
    "\n",
    "Algorithm Workbench problems 10 and 11, as well as Programming Exercises 1, 13, 14, and 15 \n",
    "\n",
    "##### Iteration is shown throughout GitHub History and my high level explanations"
   ]
  },
  {
   "cell_type": "markdown",
   "id": "be89115f-1d3a-493d-85fb-d8dcfb47ae86",
   "metadata": {},
   "source": [
    "### Algorithm Workbench Problem 10\n",
    "\n",
    "The textbook asks us to assume \"list1\"  is a list of integers and to write a statement that uses a list comprehension to create a second list containing the elements of  that are even numbers."
   ]
  },
  {
   "cell_type": "code",
   "execution_count": 3,
   "id": "55c650d4-790a-4f0d-a87b-2a9be047ac51",
   "metadata": {},
   "outputs": [
    {
     "name": "stdout",
     "output_type": "stream",
     "text": [
      "[1, 5, 7, 8, 20, 43]\n"
     ]
    }
   ],
   "source": [
    "def main():\n",
    "    list1 = [1, 5, 7, 8, 20, 43]\n",
    "    list2 = [item for item in list1]\n",
    "    print(list2)\n",
    "\n",
    "if __name__ == '__main__':\n",
    "    main()"
   ]
  },
  {
   "cell_type": "markdown",
   "id": "b5e324e2-2237-490c-9869-c29843d1600f",
   "metadata": {},
   "source": []
  },
  {
   "cell_type": "markdown",
   "id": "d86c9249-d106-4420-acbd-d61f43504dbe",
   "metadata": {},
   "source": [
    "### Algorithm Workbench Problem 11\n",
    "\n",
    "The textbook asks us to write a statement that creates a two-dimensional list with 5 rows and 3 columns. Then write nested loops that get an integer value from the user for each element in the list. "
   ]
  },
  {
   "cell_type": "code",
   "execution_count": 26,
   "id": "8e381d8a-c4b6-4fec-bced-56d3eeb66e06",
   "metadata": {},
   "outputs": [
    {
     "name": "stdin",
     "output_type": "stream",
     "text": [
      "How many rows:  5\n",
      "How many columns:  3\n",
      "Please enter the number for row 0 and column 0 12\n",
      "Please enter the number for row 0 and column 1 34\n",
      "Please enter the number for row 0 and column 2 12\n",
      "Please enter the number for row 1 and column 0 4\n",
      "Please enter the number for row 1 and column 1 3\n",
      "Please enter the number for row 1 and column 2 6\n",
      "Please enter the number for row 2 and column 0 34\n",
      "Please enter the number for row 2 and column 1 75\n",
      "Please enter the number for row 2 and column 2 23\n",
      "Please enter the number for row 3 and column 0 76\n",
      "Please enter the number for row 3 and column 1 23\n",
      "Please enter the number for row 3 and column 2 12\n",
      "Please enter the number for row 4 and column 0 3\n",
      "Please enter the number for row 4 and column 1 4\n",
      "Please enter the number for row 4 and column 2 23\n"
     ]
    },
    {
     "name": "stdout",
     "output_type": "stream",
     "text": [
      "[[12, 34, 12], [4, 3, 6], [34, 75, 23], [76, 23, 12], [3, 4, 23]]\n"
     ]
    }
   ],
   "source": [
    "def main():\n",
    "    row = int(input('How many rows: '))\n",
    "    col = int(input('How many columns: '))\n",
    "    list3 = NestList(row, col)\n",
    "    print(list3)\n",
    "\n",
    "def NestList(row, col):\n",
    "    list3 = [[0 for _ in range(col)] for _ in range(row)]\n",
    "    for x in range(row):\n",
    "        for y in range(col):\n",
    "            input1 = int(input(f'Please enter the number for row {x} and column {y}: '))\n",
    "            list3[x][y] = input1\n",
    "    return list3\n",
    "if __name__ == '__main__':\n",
    "    main()"
   ]
  },
  {
   "cell_type": "markdown",
   "id": "a6f9d912-32a6-425a-89a6-b761d2d6ff96",
   "metadata": {},
   "source": [
    "### Programming Exercise 1 (Total Sales)\n",
    "\n",
    "The textbook asks us to design a program that asks the user to enter a store’s sales for each day of the week (the amounts should be stored in a list) then use a loop to calculate the total sales for the week and display the result."
   ]
  },
  {
   "cell_type": "code",
   "execution_count": 39,
   "id": "309f2242-141e-4a67-bbbc-c21690a8c74f",
   "metadata": {},
   "outputs": [
    {
     "name": "stdin",
     "output_type": "stream",
     "text": [
      "How many days of the week were you open:  1\n",
      "Input the sale for day 1:  1\n"
     ]
    },
    {
     "name": "stdout",
     "output_type": "stream",
     "text": [
      "[1]\n"
     ]
    }
   ],
   "source": [
    "def main():\n",
    "    days = int(input('How many days of the week were you open: '))\n",
    "    my_list = [0] * days\n",
    "    for sale in range(days):\n",
    "        my_list[sale] = int(input(f'Input the sale for day {sale + 1}: '))\n",
    "    print(my_list)\n",
    "\n",
    "if __name__ == '__main__':\n",
    "    main()"
   ]
  },
  {
   "cell_type": "markdown",
   "id": "6365d8f9-ac69-4590-b9f5-ef8bd31ebf8e",
   "metadata": {},
   "source": [
    "### Programming Exercise 13 (Magic 8 ball)\n",
    "\n",
    "The textbook asks us to write a program that simulates a Magic 8 Ball."
   ]
  },
  {
   "cell_type": "code",
   "execution_count": 58,
   "id": "935cd57c-bb4e-4053-ab48-76029050ddb8",
   "metadata": {},
   "outputs": [
    {
     "name": "stdout",
     "output_type": "stream",
     "text": [
      "['Without a doubt, no.']\n"
     ]
    }
   ],
   "source": [
    "import random\n",
    "def fileread(ballres):\n",
    "    with open('8_ball_responses.txt', 'r', encoding = 'latin1') as ball:\n",
    "        ballres = ball.readlines()\n",
    "    for index in range(len(ballres)):\n",
    "        ballres[index] = ballres[index].rstrip('\\n')\n",
    "    return ballres\n",
    "    \n",
    "def main(ballres):\n",
    "    slected = random.sample(ballres, 1)\n",
    "    print(slected)\n",
    "\n",
    "if __name__ == '__main__':\n",
    "    ballres = fileread([])\n",
    "    main(ballres)"
   ]
  },
  {
   "cell_type": "markdown",
   "id": "925a2c47-5deb-42bb-ae56-783120c33b79",
   "metadata": {},
   "source": [
    "Had this error  UnicodeDecodeError: 'utf-8' codec can't decode byte 0x92 in position 89: invalid start byte"
   ]
  },
  {
   "cell_type": "markdown",
   "id": "d3487974-9aba-4214-b7ba-6a8c0f327419",
   "metadata": {},
   "source": [
    "### Programming Exercise 14 (Expense Pie Chart)\n",
    "\n",
    "The textbook asks us to create a text file that contains your expenses for last month"
   ]
  },
  {
   "cell_type": "code",
   "execution_count": 63,
   "id": "d2b15ddc-9af6-48b3-af26-8cf6d2605d71",
   "metadata": {},
   "outputs": [
    {
     "data": {
      "image/png": "[encoded data removed]",
      "text/plain": [
       "<Figure size 640x480 with 1 Axes>"
      ]
     },
     "metadata": {},
     "output_type": "display_data"
    }
   ],
   "source": [
    "import matplotlib.pyplot as plt\n",
    "def main():\n",
    "    expenses = [1434, 150, 278, 30, 405, 203]\n",
    "    expenses_label = ['Rent', 'Gas', 'Food', 'Clothing', 'Car Payment', 'Misc']\n",
    "    plt.pie(expenses, labels=expenses_label)\n",
    "    plt.title('Expenses')\n",
    "    plt.show\n",
    "if __name__ == '__main__':\n",
    "    main()"
   ]
  },
  {
   "cell_type": "markdown",
   "id": "df2eb9cd-a122-4a80-b8c8-632882e10ca5",
   "metadata": {},
   "source": [
    "### Programming Exercise 15 (1994 Weekly Gas Graph)\n",
    "\n",
    "The textbook asks us to write a Python program that reads the contents of the file then plots the data as either a line graph or a bar chart. Be sure to display meaningful labels along the X and Y axes, as well as the tick marks."
   ]
  },
  {
   "cell_type": "code",
   "execution_count": null,
   "id": "facca1a9-40c5-4ff8-a848-a26b58c0f887",
   "metadata": {},
   "outputs": [],
   "source": [
    "import matplotlib.pyplot as plt\n",
    "def readfile():\n",
    "    with open('1994_Weekly_Gas_Averages.txt', 'r') as gas:\n",
    "        weekgas = gas.readline()\n",
    "    for index in range(len(weekgas)):\n",
    "        weekgas[index] = weekgas[index].rstrip('\\n')\n",
    "    return weekgas[]\n",
    "def graph():\n",
    "    x_coords = range(0, len(weekgas), 1)\n",
    "    y_coords = weekgas[]\n",
    "    "
   ]
  }
 ],
 "metadata": {
  "kernelspec": {
   "display_name": "Python 3 (ipykernel)",
   "language": "python",
   "name": "python3"
  },
  "language_info": {
   "codemirror_mode": {
    "name": "ipython",
    "version": 3
   },
   "file_extension": ".py",
   "mimetype": "text/x-python",
   "name": "python",
   "nbconvert_exporter": "python",
   "pygments_lexer": "ipython3",
   "version": "3.11.7"
  }
 },
 "nbformat": 4,
 "nbformat_minor": 5
}
