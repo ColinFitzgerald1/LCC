{
 "cells": [
  {
   "cell_type": "markdown",
   "id": "938cf64e-8fa8-4ddf-b9ed-a1e94cb21171",
   "metadata": {},
   "source": [
    "# Coding Set 7\n",
    "\n",
    "Colin Fitzgerald\n",
    "\n",
    "6/30/2024\n",
    "\n",
    "Algorithm Workbench problems 10 and 11, as well as Programming Exercises 1, 13, 14, and 15 \n",
    "\n",
    "##### Iteration is shown throughout GitHub History and my high level explanations"
   ]
  },
  {
   "cell_type": "markdown",
   "id": "be89115f-1d3a-493d-85fb-d8dcfb47ae86",
   "metadata": {},
   "source": [
    "### Algorithm Workbench Problem 10\n",
    "\n",
    "The textbook asks us to assume \"list1\"  is a list of integers and to write a statement that uses a list comprehension to create a second list containing the elements of  that are even numbers."
   ]
  },
  {
   "cell_type": "code",
   "execution_count": 3,
   "id": "55c650d4-790a-4f0d-a87b-2a9be047ac51",
   "metadata": {},
   "outputs": [
    {
     "name": "stdout",
     "output_type": "stream",
     "text": [
      "[1, 5, 7, 8, 20, 43]\n"
     ]
    }
   ],
   "source": [
    "def main():\n",
    "    list1 = [1, 5, 7, 8, 20, 43]\n",
    "    list2 = [item for item in list1]\n",
    "    print(list2)\n",
    "\n",
    "if __name__ == '__main__':\n",
    "    main()"
   ]
  },
  {
   "cell_type": "markdown",
   "id": "b5e324e2-2237-490c-9869-c29843d1600f",
   "metadata": {},
   "source": []
  },
  {
   "cell_type": "markdown",
   "id": "d86c9249-d106-4420-acbd-d61f43504dbe",
   "metadata": {},
   "source": [
    "### Algorithm Workbench Problem 11\n",
    "\n",
    "The textbook asks us to write a statement that creates a two-dimensional list with 5 rows and 3 columns. Then write nested loops that get an integer value from the user for each element in the list. "
   ]
  },
  {
   "cell_type": "code",
   "execution_count": 24,
   "id": "8e381d8a-c4b6-4fec-bced-56d3eeb66e06",
   "metadata": {},
   "outputs": [
    {
     "name": "stdin",
     "output_type": "stream",
     "text": [
      "How many rows:  2\n",
      "How many columns:  2\n",
      "Please enter the number for row 0 and column 0 1\n",
      "Please enter the number for row 0 and column 1 1\n",
      "Please enter the number for row 1 and column 0 1\n",
      "Please enter the number for row 1 and column 1 1\n"
     ]
    },
    {
     "name": "stdout",
     "output_type": "stream",
     "text": [
      "[[1, 1], [1, 1]]\n"
     ]
    }
   ],
   "source": [
    "def main():\n",
    "    row = int(input('How many rows: '))\n",
    "    col = int(input('How many columns: '))\n",
    "    list3 = NestList(row, col)\n",
    "    print(list3)\n",
    "\n",
    "def NestList(row, col):\n",
    "    list3 = [[0 for _ in range(col)] for _ in range(row)]\n",
    "    for x in range(row):\n",
    "        for y in range(col):\n",
    "            input1 = int(input(f'Please enter the number for row {x} and column {y}'))\n",
    "            list3[x][y] = input1\n",
    "    return list3\n",
    "if __name__ == '__main__':\n",
    "    main()"
   ]
  },
  {
   "cell_type": "code",
   "execution_count": null,
   "id": "825cb66a-434d-4995-a7ed-ed41d61135ef",
   "metadata": {},
   "outputs": [],
   "source": []
  }
 ],
 "metadata": {
  "kernelspec": {
   "display_name": "Python 3 (ipykernel)",
   "language": "python",
   "name": "python3"
  },
  "language_info": {
   "codemirror_mode": {
    "name": "ipython",
    "version": 3
   },
   "file_extension": ".py",
   "mimetype": "text/x-python",
   "name": "python",
   "nbconvert_exporter": "python",
   "pygments_lexer": "ipython3",
   "version": "3.11.7"
  }
 },
 "nbformat": 4,
 "nbformat_minor": 5
}
