{
 "cells": [
  {
   "cell_type": "markdown",
   "id": "938cf64e-8fa8-4ddf-b9ed-a1e94cb21171",
   "metadata": {},
   "source": [
    "# Coding Set 7\n",
    "\n",
    "Colin Fitzgerald\n",
    "\n",
    "6/30/2024\n",
    "\n",
    "Algorithm Workbench problems 10 and 11, as well as Programming Exercises 1, 13, 14, and 15 \n",
    "\n",
    "##### Iteration is shown throughout GitHub History and my high level explanations"
   ]
  },
  {
   "cell_type": "markdown",
   "id": "be89115f-1d3a-493d-85fb-d8dcfb47ae86",
   "metadata": {},
   "source": [
    "### Algorithm Workbench Problem 10\n",
    "\n",
    "The textbook asks us to assume \"list1\"  is a list of integers and to write a statement that uses a list comprehension to create a second list containing the elements of  that are even numbers."
   ]
  },
  {
   "cell_type": "code",
   "execution_count": null,
   "id": "55c650d4-790a-4f0d-a87b-2a9be047ac51",
   "metadata": {},
   "outputs": [],
   "source": [
    "def main():\n",
    "    list1 = [1, 5, 7, 8, 20, 43]\n",
    "    list2 = [item for item in list1]\n",
    "    print(list2)\n",
    "\n",
    "if __name__ == '__main__':\n",
    "    main()"
   ]
  }
 ],
 "metadata": {
  "kernelspec": {
   "display_name": "Python 3 (ipykernel)",
   "language": "python",
   "name": "python3"
  },
  "language_info": {
   "codemirror_mode": {
    "name": "ipython",
    "version": 3
   },
   "file_extension": ".py",
   "mimetype": "text/x-python",
   "name": "python",
   "nbconvert_exporter": "python",
   "pygments_lexer": "ipython3",
   "version": "3.11.7"
  }
 },
 "nbformat": 4,
 "nbformat_minor": 5
}
