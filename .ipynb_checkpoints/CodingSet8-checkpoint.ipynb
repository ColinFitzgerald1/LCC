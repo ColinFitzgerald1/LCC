{
 "cells": [
  {
   "cell_type": "markdown",
   "id": "06c72721-5626-43b3-aacc-919d8c5396b4",
   "metadata": {},
   "source": [
    "# Coding Set 8\n",
    "\n",
    "Colin Fitzgerald\n",
    "\n",
    "7/7/2024\n",
    "\n",
    "Algorithm Workbench problems 8 and 9 as well as programming exercises 1, 2, 3, and 7"
   ]
  },
  {
   "cell_type": "markdown",
   "id": "c4a8c812-d45a-4f44-9ba4-cc3bf960d483",
   "metadata": {},
   "source": [
    "### Algorithm Workbench Problem 8\n",
    "\n",
    "The textbook asks us to assume a variable references a string. Write a statement that uses a slicing expression and displays the first 3 characters in the string."
   ]
  },
  {
   "cell_type": "code",
   "execution_count": null,
   "id": "f03b07fa-1128-4f19-bac6-57eb0bd6194e",
   "metadata": {},
   "outputs": [],
   "source": [
    "def main():\n",
    "    testvar = 'Have a great day!'\n",
    "    sliced = testvar[0 : 3]\n",
    "    print(sliced)\n",
    "\n",
    "if __name__ == '__main__':\n",
    "    main()"
   ]
  }
 ],
 "metadata": {
  "kernelspec": {
   "display_name": "Python 3 (ipykernel)",
   "language": "python",
   "name": "python3"
  },
  "language_info": {
   "codemirror_mode": {
    "name": "ipython",
    "version": 3
   },
   "file_extension": ".py",
   "mimetype": "text/x-python",
   "name": "python",
   "nbconvert_exporter": "python",
   "pygments_lexer": "ipython3",
   "version": "3.11.7"
  }
 },
 "nbformat": 4,
 "nbformat_minor": 5
}
