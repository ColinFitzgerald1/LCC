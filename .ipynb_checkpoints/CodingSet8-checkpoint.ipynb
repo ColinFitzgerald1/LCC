{
 "cells": [
  {
   "cell_type": "markdown",
   "id": "06c72721-5626-43b3-aacc-919d8c5396b4",
   "metadata": {},
   "source": [
    "# Coding Set 8\n",
    "\n",
    "Colin Fitzgerald\n",
    "\n",
    "7/7/2024\n",
    "\n",
    "Algorithm Workbench problems 8 and 9 as well as programming exercises 1, 2, 3, and 7"
   ]
  },
  {
   "cell_type": "code",
   "execution_count": null,
   "id": "03a4bb5f-6918-4671-b68d-4e5ea1f234a0",
   "metadata": {},
   "outputs": [],
   "source": []
  }
 ],
 "metadata": {
  "kernelspec": {
   "display_name": "Python 3 (ipykernel)",
   "language": "python",
   "name": "python3"
  },
  "language_info": {
   "codemirror_mode": {
    "name": "ipython",
    "version": 3
   },
   "file_extension": ".py",
   "mimetype": "text/x-python",
   "name": "python",
   "nbconvert_exporter": "python",
   "pygments_lexer": "ipython3",
   "version": "3.11.7"
  }
 },
 "nbformat": 4,
 "nbformat_minor": 5
}
