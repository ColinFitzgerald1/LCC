{
 "cells": [
  {
   "cell_type": "markdown",
   "id": "c5eb0563-0f12-4666-b217-fc7638048302",
   "metadata": {},
   "source": [
    "# Coding Set 10\n",
    "\n",
    "Colin Fitzgerald\n",
    "\n",
    "7/21/2024\n",
    "\n",
    "Programming Exercises 1 and 2\n",
    "\n",
    "##### Iteration is show through Snagit and some github"
   ]
  },
  {
   "cell_type": "markdown",
   "id": "5b7064c0-b4c1-4407-a2df-db23f7d00937",
   "metadata": {},
   "source": [
    "### Programming Exercise 1\n",
    "\n",
    "The textbook asks us to write a class named Pet, which has data attributes as well as having a variety of methods and be able to handle inputs to store the data."
   ]
  },
  {
   "cell_type": "code",
   "execution_count": 12,
   "id": "afa9d6c2-0612-4806-bc56-97b1b83cfeec",
   "metadata": {},
   "outputs": [],
   "source": [
    "class Pet:\n",
    "    def __init__(self, name, animal_type, age):\n",
    "        self.name = name\n",
    "        self.animal_type = animal_type\n",
    "        self.age = age\n",
    "\n",
    "    def set_name(self, name):\n",
    "        self.name = name\n",
    "\n",
    "    def set_animal_type(self, animal_type):\n",
    "        self.animal_type = animal_type\n",
    "\n",
    "    def set_age(self, age):\n",
    "        self.age = age\n",
    "\n",
    "    def get_name(self, name):\n",
    "        return name\n",
    "\n",
    "    def get_animal_type(self, animal_type):\n",
    "        return animal_type\n",
    "\n",
    "    def get_age(self, age):\n",
    "        return age\n",
    "\n",
    "def main():\n",
    "    name = input(\"Please enter the name of your animal: \")\n",
    "    animal_type = input(\"Please enter the type of animal: \")\n",
    "    age = int(input(f\"Please enter the age of your {animal_type}\"))"
   ]
  },
  {
   "cell_type": "markdown",
   "id": "845d386a-35f1-4c5f-97cc-9ead5b3103f1",
   "metadata": {},
   "source": [
    "#### High Level Overview\n",
    "\n"
   ]
  },
  {
   "cell_type": "markdown",
   "id": "6337d80f-6f09-48de-84bd-b0c4a1604631",
   "metadata": {},
   "source": [
    "### Programming Exercise 2\n",
    "\n",
    "The textbook asks us to write a class named Pet, which has data attributes as well as a variety of methods as well as being able to accelerate and decelerate the car."
   ]
  },
  {
   "cell_type": "code",
   "execution_count": null,
   "id": "e087e3b3-c6b3-44c5-841a-b408e0f1fc39",
   "metadata": {},
   "outputs": [],
   "source": []
  },
  {
   "cell_type": "markdown",
   "id": "cd56734f-e1eb-42b5-add9-b3ed5379d1cc",
   "metadata": {},
   "source": [
    "#### High Level Overview\n",
    "\n"
   ]
  }
 ],
 "metadata": {
  "kernelspec": {
   "display_name": "Python 3 (ipykernel)",
   "language": "python",
   "name": "python3"
  },
  "language_info": {
   "codemirror_mode": {
    "name": "ipython",
    "version": 3
   },
   "file_extension": ".py",
   "mimetype": "text/x-python",
   "name": "python",
   "nbconvert_exporter": "python",
   "pygments_lexer": "ipython3",
   "version": "3.11.7"
  }
 },
 "nbformat": 4,
 "nbformat_minor": 5
}
