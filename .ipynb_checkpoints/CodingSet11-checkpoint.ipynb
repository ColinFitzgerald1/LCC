{
 "cells": [
  {
   "cell_type": "markdown",
   "id": "b3fb0877-fa94-4bb7-8a17-4edd32c9ab1c",
   "metadata": {},
   "source": [
    "# Coding Set 11\n",
    "\n",
    "Colin Fitzgerald\n",
    "\n",
    "7/28/2024\n",
    "\n",
    "Programming Exercises 1 and 3\n",
    "\n",
    "##### Iteration is show through Snagit and some github"
   ]
  },
  {
   "cell_type": "markdown",
   "id": "d537d4dc-0127-40f7-adc0-2cdea6c90900",
   "metadata": {},
   "source": [
    "### Programming Exercise 1\n",
    "\n",
    "The textbook asks us to write a class that keeps data attributes for two data points as well as writing a subclass that contains another two data attributes for two more points of data. It should then ask for the inputs for the data, and then print the information back as an output."
   ]
  },
  {
   "cell_type": "code",
   "execution_count": 3,
   "id": "6c418c8b-10b8-4a8c-940d-178a222c7cc4",
   "metadata": {},
   "outputs": [
    {
     "name": "stdin",
     "output_type": "stream",
     "text": [
      "Please enter your name Tommy\n",
      "Please enter your employee number 321\n",
      "Please enter your shift number 2\n",
      "Please enter your hourly wage 23\n"
     ]
    },
    {
     "name": "stdout",
     "output_type": "stream",
     "text": [
      "\n",
      "Here is some information about this employee\n",
      "Name: Tommy\n",
      "Employee Number: 321\n",
      "Shift worked: 2\n",
      "Hourly wage: 23.0\n"
     ]
    }
   ],
   "source": [
    "# importing the productionWorker module\n",
    "import productionWorker\n",
    "# creating the main function\n",
    "def main():\n",
    "    # getting name as a input and assigning it a variable\n",
    "    name_input = input(\"Please enter your name\")\n",
    "    # getting employee number number as a input and assigning it a variable\n",
    "    number_input = int(input(\"Please enter your employee number\"))\n",
    "    # getting sift number as a input and assigning it a variable\n",
    "    shift_number_input = int(input(\"Please enter your shift number\"))\n",
    "    # getting hourly wage as a input and assigning it a variable\n",
    "    hourly_input = float(input(\"Please enter your hourly wage\"))\n",
    "    # creating the Worker object and assigning the inputs from above\n",
    "    Worker = productionWorker.ProductionWorker(name_input, number_input, shift_number_input, hourly_input)\n",
    "    # printing a new line and a introduction \n",
    "    print(\"\\nHere is some information about this employee\")\n",
    "    # prints a f string about the employee's name\n",
    "    print(f\"Name: {Worker.get_name()}\")\n",
    "    # prints a f string about the employee's number\n",
    "    print(f\"Employee Number: {Worker.get_number()}\")\n",
    "    # prints a f string about the employee's shift\n",
    "    print(f\"Shift worked: {Worker.get_shift_number()}\")\n",
    "    # prints a f string about the employee's hourly wage\n",
    "    print(f\"Hourly wage: {Worker.get_hourly()}\")\n",
    "# calls the main function\n",
    "main()"
   ]
  },
  {
   "cell_type": "markdown",
   "id": "6ca2e57f-8f75-47ca-b20e-5d482f204f6e",
   "metadata": {},
   "source": [
    "#### High Level Overview\n",
    "\n",
    "First I imported the productionWorker module which contained two classes, the Employee class and the ProductionWorker class. Each contains two attributes and four methods that allow for the setting and the getting of information. The ProductionWorker class is a subclass of the Employee superclass. Back inside the main function, I ask for four inputs of information to be able to create a instance or a object, then I assign those inputs into the object and then have five print functions that print all of the information inside that object. Lastly I call the main function to have the program run.\n",
    "\n",
    "I ran into a few issues with different errors that I tried to use AI and google to help fix, but it did not help. So after some rearranging of class and modules I fixed it. (It was seen in my snagit)"
   ]
  },
  {
   "cell_type": "markdown",
   "id": "0a6e3cbd-6550-443b-9331-842388509a5b",
   "metadata": {},
   "source": [
    "### Programming Exercise 3\n",
    "\n",
    "The textbook asks us to write a class that keeps three data attributes about a person and then create a subclass that contains two more attributes and then create a instance."
   ]
  },
  {
   "cell_type": "code",
   "execution_count": 1,
   "id": "30cc0259-dc3c-4417-93b3-112fd05e9895",
   "metadata": {},
   "outputs": [
    {
     "name": "stdin",
     "output_type": "stream",
     "text": [
      "Please enter the name Tommy\n",
      "Please enter the address 995 Test Lane\n",
      "Please enter the phone number 934-213-7754\n",
      "Please enter the customer number 7231\n"
     ]
    },
    {
     "name": "stdout",
     "output_type": "stream",
     "text": [
      "\n",
      "Here is some information about this customer\n",
      "Name: Tommy\n",
      "Address: 995 Test Lane\n",
      "Phone Number: 934-213-7754\n",
      "Customer Number: 7231\n",
      "Is on mailing list?: False\n"
     ]
    }
   ],
   "source": [
    "# imports the customer module\n",
    "import customer\n",
    "# creates the main function\n",
    "def main():\n",
    "    # gets name as a input and assigns it to a variable\n",
    "    name_input = input(\"Please enter the name\")\n",
    "    # gets address as a input and assigns it to a variable\n",
    "    address_input = input(\"Please enter the address\")\n",
    "    # gets phone number as a input and assigns it to a variable\n",
    "    number_input = input(\"Please enter the phone number\")\n",
    "    # gets customer number as a input and assigns it to a variable\n",
    "    customer_number_input = int(input(\"Please enter the customer number\"))\n",
    "    # createss Customer1 object and assigns the above variables to the object\n",
    "    Customer1 = customer.Customer(name_input, address_input, number_input, customer_number_input, False)\n",
    "    # prints a newline and some basic introductions\n",
    "    print(\"\\nHere is some information about this customer\")\n",
    "    # prints a f string about the customer's name\n",
    "    print(f\"Name: {Customer1.get_name()}\")\n",
    "    # prints a f string about the customer's address\n",
    "    print(f\"Address: {Customer1.get_adress()}\")\n",
    "    # prints a f string about the customer's phone number\n",
    "    print(f\"Phone Number: {Customer1.get_number()}\")\n",
    "    # prints a f string about the customer's number\n",
    "    print(f\"Customer Number: {Customer1.get_customer_number()}\")\n",
    "    # prints a f string about if the customer's is on the mailing list\n",
    "    print(f\"Is on mailing list?: {Customer1.get_mailing_list()}\")\n",
    "# calls the main function\n",
    "main()"
   ]
  },
  {
   "cell_type": "markdown",
   "id": "4a18b33d-e362-4604-a34b-b5c39ee9a67d",
   "metadata": {},
   "source": [
    "#### High Level Overview\n",
    "\n",
    "First I imported the customer module which contains two classes, the Person class and the Customer class. The Person class has three attributes and six methods which breaks down into three setter methods and three getter methods. The Customer class contains two more attributes and four more methods which breaks down into two setter methods and two getter methods. The Customer class is a subclass to the Person superclass. Coming back to the main function, I ask for four inputs to assign to a object. After receiving the inputs I assign them to a object and then print the information back out in five different print function. Lastly I call the main function to run the program."
   ]
  },
  {
   "cell_type": "code",
   "execution_count": null,
   "id": "5a2f64eb-3931-41f5-b202-732790c2a68a",
   "metadata": {},
   "outputs": [],
   "source": []
  }
 ],
 "metadata": {
  "kernelspec": {
   "display_name": "Python 3 (ipykernel)",
   "language": "python",
   "name": "python3"
  },
  "language_info": {
   "codemirror_mode": {
    "name": "ipython",
    "version": 3
   },
   "file_extension": ".py",
   "mimetype": "text/x-python",
   "name": "python",
   "nbconvert_exporter": "python",
   "pygments_lexer": "ipython3",
   "version": "3.11.7"
  }
 },
 "nbformat": 4,
 "nbformat_minor": 5
}
