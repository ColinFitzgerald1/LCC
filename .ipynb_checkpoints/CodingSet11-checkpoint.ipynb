{
 "cells": [
  {
   "cell_type": "markdown",
   "id": "b3fb0877-fa94-4bb7-8a17-4edd32c9ab1c",
   "metadata": {},
   "source": [
    "# Coding Set 11\n",
    "\n",
    "Colin Fitzgerald\n",
    "\n",
    "7/28/2024\n",
    "\n",
    "Programming Exercises 1 and 3\n",
    "\n",
    "##### Iteration is show through Snagit and some github"
   ]
  },
  {
   "cell_type": "code",
   "execution_count": null,
   "id": "0b56052b-4da6-4506-bf8a-bb6da9d7413d",
   "metadata": {},
   "outputs": [],
   "source": []
  }
 ],
 "metadata": {
  "kernelspec": {
   "display_name": "Python 3 (ipykernel)",
   "language": "python",
   "name": "python3"
  },
  "language_info": {
   "codemirror_mode": {
    "name": "ipython",
    "version": 3
   },
   "file_extension": ".py",
   "mimetype": "text/x-python",
   "name": "python",
   "nbconvert_exporter": "python",
   "pygments_lexer": "ipython3",
   "version": "3.11.7"
  }
 },
 "nbformat": 4,
 "nbformat_minor": 5
}
