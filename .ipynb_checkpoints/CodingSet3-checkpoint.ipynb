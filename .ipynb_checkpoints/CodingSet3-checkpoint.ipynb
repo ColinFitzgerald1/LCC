{
 "cells": [
  {
   "cell_type": "markdown",
   "id": "b1404af3",
   "metadata": {},
   "source": [
    "# Coding Set 3\n",
    "\n",
    "Colin Fitzgerald\n",
    "\n",
    "5/28/2024\n",
    "\n",
    "Algorithm Workbench question 4 and 5 along with Programming Exercises 1, 5, 15, and 17"
   ]
  },
  {
   "cell_type": "markdown",
   "id": "d3f94360",
   "metadata": {},
   "source": [
    "### Algorithm Workbench 4\n",
    "\n",
    "The textbook asks us rewrite the code and use the proper conventions of alignment and indentation."
   ]
  },
  {
   "cell_type": "code",
   "execution_count": null,
   "id": "f3b0fd87",
   "metadata": {},
   "outputs": [],
   "source": [
    "# Code pasted in from Textbook and reformatted by me to use the proper conventions of alignment and indentation\n",
    "if score >= A_score:\n",
    "    print( 'Your grade is A.')\n",
    "else:\n",
    "    if score >= B_score:\n",
    "        print( 'Your grade is B.')\n",
    "    else:\n",
    "        if score > C_score:\n",
    "            print( 'Your grade is C.')\n",
    "        else:\n",
    "            if score > D_score:\n",
    "                print( 'Your grade is D.')\n",
    "            else:\n",
    "                print( 'Your grade is F.')"
   ]
  },
  {
   "cell_type": "markdown",
   "id": "42376db4",
   "metadata": {},
   "source": [
    "Above I pasted in the code from the textbook and reformatted it with proper conventions of alignment and indentation. The If - Else statements would work correctly if the given variables were defined."
   ]
  },
  {
   "cell_type": "markdown",
   "id": "04346c12",
   "metadata": {},
   "source": [
    "### Algorithm Workbench 5\n",
    "\n",
    "The textbook asks us to create nested descion structure that performs a series of instructions"
   ]
  },
  {
   "cell_type": "code",
   "execution_count": null,
   "id": "d86056ea",
   "metadata": {},
   "outputs": [],
   "source": [
    "# Making sure that amount1 and amount2 variables in the correct range\n",
    "amount1 > 10 and amount2 < 100:\n",
    "    # If statement to find if variable amount1 is larger than amount2\n",
    "    if amount1 > amount2:\n",
    "        # Prints variable amount1 if it is larger than amount2\n",
    "        print(amount1)\n",
    "    # Else statement that will run if the if statement is false\n",
    "    else:\n",
    "        # Prints variable amount2 if it is larger than amount1\n",
    "        print(amount2)"
   ]
  },
  {
   "cell_type": "markdown",
   "id": "a40b49a9",
   "metadata": {},
   "source": [
    "First, the variables amount1 and amount2 are checked to make sure that they are both inside of an acceptable range. After both are true, it moves onto the if statement where it finds the higher value variable and prints it."
   ]
  },
  {
   "cell_type": "markdown",
   "id": "572be88a",
   "metadata": {},
   "source": [
    "### Programming Exercise 1 (Day of the Week)\n",
    "\n",
    "Textbook asks for us to receive a input (1-7) and display the corresponding day of week and display a error message if input is outside of the acceptable range."
   ]
  },
  {
   "cell_type": "code",
   "execution_count": 36,
   "id": "2d152425",
   "metadata": {},
   "outputs": [
    {
     "name": "stdout",
     "output_type": "stream",
     "text": [
      "Please input a number 1 through 7: 1\n",
      "It is Monday!\n"
     ]
    }
   ],
   "source": [
    "# Defining the variable number_week find what day of the week it should be converted too\n",
    "number_week = int(input(\"Please input a number 1 through 7: \"))\n",
    "# Finding if the variable number_week is a number 1 through 7\n",
    "if 1 <= number_week <= 7:\n",
    "    # For the rest of variables we use a elif statement to confirm what day to print\n",
    "    if number_week == 1:\n",
    "        print('It is Monday!')\n",
    "    elif number_week == 2:\n",
    "        print('It is Tuesday!')\n",
    "    elif number_week == 3:\n",
    "        print('It is Wednesday!')\n",
    "    elif number_week == 4:\n",
    "        print('It is Thursday!')\n",
    "    elif number_week == 5:\n",
    "        print('It is Friday!')\n",
    "    elif number_week == 6:\n",
    "        print('It is Saturday!')\n",
    "    # If none of the 6 days above don't work, then it goes to the else \n",
    "    else:\n",
    "        print('It is Sunday!')\n",
    "# If it does not go 1 through 7 than it must be printed that there is an error\n",
    "else:\n",
    "    print('Please enter a value between 1 and 7!')"
   ]
  },
  {
   "cell_type": "markdown",
   "id": "fbaa5918",
   "metadata": {},
   "source": [
    "First we define the variable number_week by asking for a input and converting it into a interger. We then confirm the range of the variable to be between 1 and 7. Then we create the if-elif-else statement for everyday of the week with a print statement attached. At the end if the number is not found between 1 and 7, it prints a error.\n",
    "\n",
    "Another way to do this, instead of creating a print statement for each elif statement we could have define a variable that would only active if elif was true. This would allow for easier use of the variable if it needed to be referenced further in the code. For example:"
   ]
  },
  {
   "cell_type": "code",
   "execution_count": 38,
   "id": "60fe5640",
   "metadata": {},
   "outputs": [
    {
     "name": "stdout",
     "output_type": "stream",
     "text": [
      "The day you entered was: Monday\n"
     ]
    }
   ],
   "source": [
    "# If statement that assigns the day to be Monday if it is number of week 1\n",
    "if number_week == 1:\n",
    "    # It defines the variable Monday\n",
    "    day = \"Monday\"\n",
    "# Another statement like the one above\n",
    "elif number_week == 2:\n",
    "    day = \"Tuesday\"\n",
    "# Else part of the If statement that if it isnt 1 through 7 it returns an error\n",
    "else:\n",
    "    print('Error')\n",
    "# Prints a formatted version of what day it is\n",
    "print('The day you entered was:', day)"
   ]
  },
  {
   "cell_type": "markdown",
   "id": "26e614e4",
   "metadata": {},
   "source": [
    "### Programming Exercise 5 (Mass and Weight)\n",
    "\n",
    "The textbook asks us to write a program that asks the user to enter an object’s mass, then calculates its weight. If the object's weight is too high or too low, too return a printed statement."
   ]
  },
  {
   "cell_type": "code",
   "execution_count": 40,
   "id": "5e7f4349",
   "metadata": {},
   "outputs": [
    {
     "name": "stdout",
     "output_type": "stream",
     "text": [
      "Please enter the object's mass: 45.3432\n",
      "The object's weight is: 444.363 newtons\n"
     ]
    }
   ],
   "source": [
    "# Define the variable mass as a float of the input from the user\n",
    "mass = float(input('Please enter the object\\'s mass: '))\n",
    "# Do the math to convert the mass to the objects weight on earth\n",
    "weight = mass * 9.8\n",
    "# If statement that will print a string if weight is over 500\n",
    "if weight > 500:\n",
    "    print('The object is too heavy!')\n",
    "# If statement that will print a string if weight is under 100\n",
    "elif weight < 100:\n",
    "    print('The object is too light!')\n",
    "# If there is no issue with the weight then the program prints a f string of the weight\n",
    "else:\n",
    "    print('The object\\'s weight is: ' + f'{weight:,.3f}' + ' newtons')"
   ]
  },
  {
   "cell_type": "markdown",
   "id": "cac2067a",
   "metadata": {},
   "source": [
    "First we ask for the input of a mass, and turn it into a float to be able to do more complex math on it. Then we convert the mass into weight with an equation. After, we create a if-elif-else statement. If the object is too heavy or light, we print a string. If all is fine, we then print the object's weight."
   ]
  },
  {
   "cell_type": "markdown",
   "id": "8c906d00",
   "metadata": {},
   "source": [
    "### Programming Exercise 15 (February Days)\n",
    "\n",
    "The textbook asks use to write a program that asks the user to enter a year and should then display the number of days in February that year. "
   ]
  },
  {
   "cell_type": "code",
   "execution_count": 42,
   "id": "56664bc6",
   "metadata": {},
   "outputs": [
    {
     "name": "stdout",
     "output_type": "stream",
     "text": [
      "Please enter a year: 4632\n",
      "February in 4632 has 29 days\n"
     ]
    }
   ],
   "source": [
    "# We define the variable year with a input turned into a interger\n",
    "year = int(input('Please enter a year: '))\n",
    "# If statement that finds if the year has a remainder of 0 with the number 100\n",
    "if year % 100 == 0:\n",
    "    # If true then it finds if it has a remainder of 0 with the number 400\n",
    "    if year % 400 == 0:\n",
    "        # Prints that there are 29 days in February\n",
    "        print('February in ' + str(year) + \" has 29 days\")\n",
    "    # If it is not true then there are not 29 days in February\n",
    "    else:\n",
    "        # # Prints that there are 28 days in February\n",
    "        print('February in ' + str(year) + \" has 28 days\")\n",
    "# If it is false\n",
    "else:\n",
    "    # If statement that finds if the year has remainder of 0 with the number 4\n",
    "    if year % 4 == 0:\n",
    "        # Prints that there are 29 days in February\n",
    "        print('February in ' + str(year) + \" has 29 days\")\n",
    "    # If not true\n",
    "    else:\n",
    "        # Prints that there are 28 days in February\n",
    "        print('February in ' + str(year) + \" has 28 days\")"
   ]
  },
  {
   "cell_type": "markdown",
   "id": "974c82bf",
   "metadata": {},
   "source": [
    "First, we define the variable year by asking for a input and converting it into a interger. After, we create a nested if statement where it checks the if the remainder of dividing is 100 is 0 and again for 400. If the first statement is false, we check to see if it divisable by 4 with a remainder of 0. Then it is printed to see what answer is correct using string concatenation.\n",
    "\n",
    "An alternative way to do this was like Programming Exercise 1 instead of creating a print statement for each elif statement we could have define a variable that would only active if elif was true. This would allow for easier use of the variable if it needed to be referenced further in the code. For example:"
   ]
  },
  {
   "cell_type": "code",
   "execution_count": 13,
   "id": "8d2cce47",
   "metadata": {},
   "outputs": [
    {
     "name": "stdout",
     "output_type": "stream",
     "text": [
      "February in 4322 has 28 days\n"
     ]
    }
   ],
   "source": [
    "if year % 100 == 0:\n",
    "    if year % 400 == 0:\n",
    "        days_february = 29\n",
    "    else:\n",
    "        days_february = 28\n",
    "else:\n",
    "    if year % 4 == 0:\n",
    "        days_february = 29\n",
    "    else:\n",
    "        days_february = 28\n",
    "print(('February in ' + str(year) + \" has \" + str(days_february) + ' days'))"
   ]
  },
  {
   "cell_type": "markdown",
   "id": "6ef55dfd",
   "metadata": {},
   "source": [
    "### Programming Exercise 17\n",
    "\n",
    "The textbook asks us to write a program that asks whether any members of your party are vegetarian, vegan, or gluten-free, to which then displays only the restaurants to which you may take the group."
   ]
  },
  {
   "cell_type": "code",
   "execution_count": 34,
   "id": "250be040",
   "metadata": {
    "scrolled": true
   },
   "outputs": [
    {
     "name": "stdout",
     "output_type": "stream",
     "text": [
      "Is anyone is in your party a vegetarian? no\n",
      "Is anyone is in your party a Vegan? no\n",
      "Is anyone is in your party gluten-free? no\n",
      "    \n",
      "     Joe's gourmet burgers\n",
      "     Main street Pizza\n",
      "     Mama's Fine Italian\n",
      "     Corner Cafe\n",
      "     The Chef's kitchen\n"
     ]
    }
   ],
   "source": [
    "Vegetarian = input(\"Is anyone is in your party a vegetarian? \").lower().strip()\n",
    "Vegan = input(\"Is anyone is in your party a Vegan? \").lower().strip()\n",
    "Gluten_free = input(\"Is anyone is in your party gluten-free? \").lower().strip()\n",
    "\n",
    "space = \"    \"\n",
    "print(space)\n",
    "if Vegetarian == 'no' and Vegan == 'no' and Gluten_free == 'no':\n",
    "    print(space, 'Joe\\'s gourmet burgers')   \n",
    "if Vegan == 'no':\n",
    "    print(space, 'Main street Pizza')\n",
    "if Vegan == 'no' and Gluten_free == 'no':\n",
    "    print(space, 'Mama\\'s Fine Italian')\n",
    "print(space, 'Corner Cafe')\n",
    "print(space, 'The Chef\\'s kitchen')"
   ]
  },
  {
   "cell_type": "markdown",
   "id": "70f817ba",
   "metadata": {},
   "source": [
    "At first I had an issue with my if statements because I did not check each individual variable and instead just accidentally checked gluten free. For example:"
   ]
  },
  {
   "cell_type": "code",
   "execution_count": null,
   "id": "5502176d",
   "metadata": {},
   "outputs": [],
   "source": [
    "if Vegetarian and Vegan and Gluten_free == 'no'"
   ]
  },
  {
   "cell_type": "markdown",
   "id": "34bb0013",
   "metadata": {},
   "source": [
    "An explanation of the code; First I defined each variable with a input that I lowercased and stripped it of all of its spaces. After I defined the variable \"space\" for organizing outputs. Then I printed the space for a gap in the output. After I created if statements that confirmed that if people had dietary restrictions it would print if they had the dietary restrictions that alligned with the restaurants. There were two different restaurants that both would be printed no matter what."
   ]
  },
  {
   "cell_type": "code",
   "execution_count": null,
   "id": "f10ad678",
   "metadata": {},
   "outputs": [],
   "source": []
  }
 ],
 "metadata": {
  "kernelspec": {
   "display_name": "Python 3 (ipykernel)",
   "language": "python",
   "name": "python3"
  },
  "language_info": {
   "codemirror_mode": {
    "name": "ipython",
    "version": 3
   },
   "file_extension": ".py",
   "mimetype": "text/x-python",
   "name": "python",
   "nbconvert_exporter": "python",
   "pygments_lexer": "ipython3",
   "version": "3.11.7"
  }
 },
 "nbformat": 4,
 "nbformat_minor": 5
}
