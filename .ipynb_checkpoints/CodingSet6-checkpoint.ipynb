{
 "cells": [
  {
   "cell_type": "markdown",
   "id": "d5424f55-3d81-4535-81b0-3d844a0329ff",
   "metadata": {},
   "source": [
    "### Coding Set 6\n",
    "\n",
    "Colin Fitzgerald\n",
    "\n",
    "6/23/2024\n",
    "\n",
    "Algorithm Workbench problems 3 and 4, as well as Programming Exercises 1, 6, 9 and 12\n",
    "\n",
    "##### Iteration is shown throughout GitHub History and my high level explanations"
   ]
  },
  {
   "cell_type": "markdown",
   "id": "c1c459b0-d501-45cd-bae0-07d7ea03d36d",
   "metadata": {},
   "source": [
    "### Algorithm Workbench Problem 3\n",
    "\n",
    "The Textbook asks us to write code that does the following: opens an output file with the filename 'number_list.txt', uses a loop to write the numbers 1 through 100 to the file, then closes the file. "
   ]
  },
  {
   "cell_type": "code",
   "execution_count": null,
   "id": "31b4e9e1-528f-4645-8f63-b42886263af6",
   "metadata": {},
   "outputs": [],
   "source": [
    "def main():\n",
    "    "
   ]
  }
 ],
 "metadata": {
  "kernelspec": {
   "display_name": "Python 3 (ipykernel)",
   "language": "python",
   "name": "python3"
  },
  "language_info": {
   "codemirror_mode": {
    "name": "ipython",
    "version": 3
   },
   "file_extension": ".py",
   "mimetype": "text/x-python",
   "name": "python",
   "nbconvert_exporter": "python",
   "pygments_lexer": "ipython3",
   "version": "3.11.7"
  }
 },
 "nbformat": 4,
 "nbformat_minor": 5
}
