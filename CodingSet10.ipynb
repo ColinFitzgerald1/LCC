{
 "cells": [
  {
   "cell_type": "markdown",
   "id": "c5eb0563-0f12-4666-b217-fc7638048302",
   "metadata": {},
   "source": [
    "# Coding Set 10\n",
    "\n",
    "Colin Fitzgerald\n",
    "\n",
    "7/21/2024\n",
    "\n",
    "Programming Exercises 1 and 2\n",
    "\n",
    "##### Iteration is show through Snagit and some github"
   ]
  },
  {
   "cell_type": "markdown",
   "id": "5b7064c0-b4c1-4407-a2df-db23f7d00937",
   "metadata": {},
   "source": [
    "### Programming Exercise 1\n",
    "\n",
    "The textbook asks us to write a class named Pet, which has data attributes as well as having a variety of methods and be able to handle inputs to store the data."
   ]
  },
  {
   "cell_type": "code",
   "execution_count": null,
   "id": "afa9d6c2-0612-4806-bc56-97b1b83cfeec",
   "metadata": {},
   "outputs": [],
   "source": []
  },
  {
   "cell_type": "markdown",
   "id": "845d386a-35f1-4c5f-97cc-9ead5b3103f1",
   "metadata": {},
   "source": [
    "#### High Level Overview\n",
    "\n"
   ]
  },
  {
   "cell_type": "markdown",
   "id": "6337d80f-6f09-48de-84bd-b0c4a1604631",
   "metadata": {},
   "source": [
    "### Programming Exercise 2\n",
    "\n",
    "The textbook asks us to write a class named Pet, which has data attributes as well as a variety of methods as well as being able to accelerate and decelerate the car."
   ]
  },
  {
   "cell_type": "code",
   "execution_count": null,
   "id": "e087e3b3-c6b3-44c5-841a-b408e0f1fc39",
   "metadata": {},
   "outputs": [],
   "source": []
  }
 ],
 "metadata": {
  "kernelspec": {
   "display_name": "Python 3 (ipykernel)",
   "language": "python",
   "name": "python3"
  },
  "language_info": {
   "codemirror_mode": {
    "name": "ipython",
    "version": 3
   },
   "file_extension": ".py",
   "mimetype": "text/x-python",
   "name": "python",
   "nbconvert_exporter": "python",
   "pygments_lexer": "ipython3",
   "version": "3.11.7"
  }
 },
 "nbformat": 4,
 "nbformat_minor": 5
}
