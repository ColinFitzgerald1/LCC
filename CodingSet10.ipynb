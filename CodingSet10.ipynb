{
 "cells": [
  {
   "cell_type": "markdown",
   "id": "c5eb0563-0f12-4666-b217-fc7638048302",
   "metadata": {},
   "source": [
    "# Coding Set 10\n",
    "\n",
    "Colin Fitzgerald\n",
    "\n",
    "7/21/2024\n",
    "\n",
    "Programming Exercises 1 and 2\n",
    "\n",
    "##### Iteration is show through Snagit and some github"
   ]
  },
  {
   "cell_type": "markdown",
   "id": "5b7064c0-b4c1-4407-a2df-db23f7d00937",
   "metadata": {},
   "source": [
    "### Programming Exercise 1\n",
    "\n",
    "The textbook asks us to write a class named Pet, which has data attributes as well as having a variety of methods and be able to handle inputs to store the data."
   ]
  },
  {
   "cell_type": "code",
   "execution_count": 38,
   "id": "afa9d6c2-0612-4806-bc56-97b1b83cfeec",
   "metadata": {},
   "outputs": [
    {
     "name": "stdin",
     "output_type": "stream",
     "text": [
      "Please enter the name of your animal:  Scout\n",
      "Please enter the type of animal:  Dog\n",
      "Please enter the age of your Dog 2014\n"
     ]
    },
    {
     "name": "stdout",
     "output_type": "stream",
     "text": [
      "\n",
      "Here is information about your dog!\n",
      "Name: Scout\n",
      "Animal Type: Dog\n",
      "Age: 2014\n"
     ]
    }
   ],
   "source": [
    "class Pet:\n",
    "    def __init__(self, name, animal_type, age):\n",
    "        self.name = name\n",
    "        self.animal_type = animal_type\n",
    "        self.age = age\n",
    "\n",
    "    def set_name(self, name):\n",
    "        self.name = name\n",
    "\n",
    "    def set_animal_type(self, animal_type):\n",
    "        self.animal_type = animal_type\n",
    "\n",
    "    def set_age(self, age):\n",
    "        self.age = age\n",
    "\n",
    "    def get_name(self, name):\n",
    "        return self.name\n",
    "\n",
    "    def get_animal_type(self, animal_type):\n",
    "        return self.animal_type\n",
    "\n",
    "    def get_age(self, age):\n",
    "        return self.age\n",
    "\n",
    "def main():\n",
    "    name = input(\"Please enter the name of your animal: \")\n",
    "    animal_type = input(\"Please enter the type of animal: \")\n",
    "    age = int(input(f\"Please enter the age of your {animal_type}\"))\n",
    "\n",
    "    pet = Pet(name, animal_type, age)\n",
    "\n",
    "    print(\"\\nHere is information about your dog!\")\n",
    "    print(f\"Name: {pet.get_name(name)}\")\n",
    "    print(f\"Animal Type: {pet.get_animal_type(animal_type)}\")\n",
    "    print(f\"Age: {pet.get_age(age)}\")\n",
    "\n",
    "if __name__ == \"__main__\":\n",
    "    main()"
   ]
  },
  {
   "cell_type": "markdown",
   "id": "845d386a-35f1-4c5f-97cc-9ead5b3103f1",
   "metadata": {},
   "source": [
    "#### High Level Overview\n",
    "\n"
   ]
  },
  {
   "cell_type": "markdown",
   "id": "6337d80f-6f09-48de-84bd-b0c4a1604631",
   "metadata": {},
   "source": [
    "### Programming Exercise 2\n",
    "\n",
    "The textbook asks us to write a class named Pet, which has data attributes as well as a variety of methods as well as being able to accelerate and decelerate the car."
   ]
  },
  {
   "cell_type": "code",
   "execution_count": 34,
   "id": "e087e3b3-c6b3-44c5-841a-b408e0f1fc39",
   "metadata": {},
   "outputs": [
    {
     "name": "stdin",
     "output_type": "stream",
     "text": [
      "Please enter the year model of your car:  2012\n",
      "Please enter the make of your car:  Ford EcoSport\n"
     ]
    },
    {
     "name": "stdout",
     "output_type": "stream",
     "text": [
      "The car's current speed is 5\n",
      "The car's current speed is 10\n",
      "The car's current speed is 15\n",
      "The car's current speed is 20\n",
      "The car's current speed is 25\n",
      "The car's current speed is 20\n",
      "The car's current speed is 15\n",
      "The car's current speed is 10\n",
      "The car's current speed is 5\n",
      "The car's current speed is 0\n"
     ]
    }
   ],
   "source": [
    "class Car:\n",
    "    def __init__(self, year_model, make):\n",
    "        self.year_model = year_model\n",
    "        self.make = make\n",
    "        self.speed = 0\n",
    "\n",
    "    def accelerate(self):\n",
    "        self.speed += 5\n",
    "\n",
    "    def brake(self):\n",
    "        self.speed -= 5\n",
    "\n",
    "    def get_speed(self):\n",
    "        return self.speed\n",
    "\n",
    "def main():\n",
    "    year_model = input(\"Please enter the year model of your car: \")\n",
    "    make = input(\"Please enter the make of your car: \")\n",
    "\n",
    "    car = Car(year_model, make)\n",
    "\n",
    "    for i in range(0, 5):\n",
    "        car.accelerate()\n",
    "        print(f\"The car's current speed is {car.get_speed()}\")\n",
    "\n",
    "    for i in range(0, 5):\n",
    "        car.brake()\n",
    "        print(f\"The car's current speed is {car.get_speed()}\")\n",
    "\n",
    "if __name__ == \"__main__\":\n",
    "    main()"
   ]
  },
  {
   "cell_type": "markdown",
   "id": "cd56734f-e1eb-42b5-add9-b3ed5379d1cc",
   "metadata": {},
   "source": [
    "#### High Level Overview\n",
    "\n"
   ]
  },
  {
   "cell_type": "code",
   "execution_count": null,
   "id": "45c4aedf-da69-41a5-a7c3-9a0c868b927e",
   "metadata": {},
   "outputs": [],
   "source": []
  }
 ],
 "metadata": {
  "kernelspec": {
   "display_name": "Python 3 (ipykernel)",
   "language": "python",
   "name": "python3"
  },
  "language_info": {
   "codemirror_mode": {
    "name": "ipython",
    "version": 3
   },
   "file_extension": ".py",
   "mimetype": "text/x-python",
   "name": "python",
   "nbconvert_exporter": "python",
   "pygments_lexer": "ipython3",
   "version": "3.11.7"
  }
 },
 "nbformat": 4,
 "nbformat_minor": 5
}
