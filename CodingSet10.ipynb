{
 "cells": [
  {
   "cell_type": "markdown",
   "id": "c5eb0563-0f12-4666-b217-fc7638048302",
   "metadata": {},
   "source": [
    "# Coding Set 10\n",
    "\n",
    "Colin Fitzgerald\n",
    "\n",
    "7/21/2024\n",
    "\n",
    "Programming Exercises 1 and 2\n",
    "\n",
    "##### Iteration is show through Snagit and some github"
   ]
  },
  {
   "cell_type": "code",
   "execution_count": null,
   "id": "d931a711-3b57-4333-91ce-ac8d2923ac60",
   "metadata": {},
   "outputs": [],
   "source": []
  }
 ],
 "metadata": {
  "kernelspec": {
   "display_name": "Python 3 (ipykernel)",
   "language": "python",
   "name": "python3"
  },
  "language_info": {
   "codemirror_mode": {
    "name": "ipython",
    "version": 3
   },
   "file_extension": ".py",
   "mimetype": "text/x-python",
   "name": "python",
   "nbconvert_exporter": "python",
   "pygments_lexer": "ipython3",
   "version": "3.11.7"
  }
 },
 "nbformat": 4,
 "nbformat_minor": 5
}
