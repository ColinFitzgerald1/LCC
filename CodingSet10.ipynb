{
 "cells": [
  {
   "cell_type": "markdown",
   "id": "c5eb0563-0f12-4666-b217-fc7638048302",
   "metadata": {},
   "source": [
    "# Coding Set 10\n",
    "\n",
    "Colin Fitzgerald\n",
    "\n",
    "7/21/2024\n",
    "\n",
    "Programming Exercises 1 and 2\n",
    "\n",
    "##### Iteration is show through Snagit and some github"
   ]
  },
  {
   "cell_type": "markdown",
   "id": "5b7064c0-b4c1-4407-a2df-db23f7d00937",
   "metadata": {},
   "source": [
    "### Programming Exercise 1\n",
    "\n",
    "The textbook asks us to write a class named Pet, which has data attributes as well as having a variety of methods and be able to handle inputs to store the data."
   ]
  },
  {
   "cell_type": "code",
   "execution_count": 42,
   "id": "afa9d6c2-0612-4806-bc56-97b1b83cfeec",
   "metadata": {},
   "outputs": [
    {
     "name": "stdin",
     "output_type": "stream",
     "text": [
      "Please enter the name of your animal:  Scout\n",
      "Please enter the type of animal:  Dog\n",
      "Please enter the age of your Dog 14\n"
     ]
    },
    {
     "name": "stdout",
     "output_type": "stream",
     "text": [
      "\n",
      "Here is information about your dog!\n",
      "Name: Scout\n",
      "Animal Type: Dog\n",
      "Age: 14\n"
     ]
    }
   ],
   "source": [
    "# create a class called Pet\n",
    "class Pet:\n",
    "    # create the __init__ with attributes\n",
    "    def __init__(self, name, animal_type, age):\n",
    "        # name attribute\n",
    "        self.__name = name\n",
    "        # animal type attribute\n",
    "        self.__animal_type = animal_type\n",
    "        # age attribute\n",
    "        self.__age = age\n",
    "    # set name method\n",
    "    def set_name(self, name):\n",
    "        self.__name = name\n",
    "    # set animal tpye method\n",
    "    def set_animal_type(self, animal_type):\n",
    "        self.__animal_type = animal_type\n",
    "    # set age method\n",
    "    def set_age(self, age):\n",
    "        self.__age = age\n",
    "    # get name method\n",
    "    def get_name(self, name):\n",
    "        return self.__name\n",
    "    # get animal type method\n",
    "    def get_animal_type(self, animal_type):\n",
    "        return self.__animal_type\n",
    "    # get age method\n",
    "    def get_age(self, age):\n",
    "        return self.__age\n",
    "# creating the main function\n",
    "def main():\n",
    "    # setting the name variable with input\n",
    "    name = input(\"Please enter the name of your animal: \")\n",
    "    # setting the animal type variable with input\n",
    "    animal_type = input(\"Please enter the type of animal: \")\n",
    "    # setting the age variable with input\n",
    "    age = int(input(f\"Please enter the age of your {animal_type}\"))\n",
    "    # creating the pet object\n",
    "    pet = Pet(name, animal_type, age)\n",
    "    # printing a informational line\n",
    "    print(\"\\nHere is information about your dog!\")\n",
    "    # printing the pets name\n",
    "    print(f\"Name: {pet.get_name(name)}\")\n",
    "    # printing the type of animal it is\n",
    "    print(f\"Animal Type: {pet.get_animal_type(animal_type)}\")\n",
    "    # printing the pets age\n",
    "    print(f\"Age: {pet.get_age(age)}\")\n",
    "# calling the main function\n",
    "if __name__ == \"__main__\":\n",
    "    main()"
   ]
  },
  {
   "cell_type": "markdown",
   "id": "845d386a-35f1-4c5f-97cc-9ead5b3103f1",
   "metadata": {},
   "source": [
    "#### High Level Overview\n",
    "\n",
    "First I create the Pet class, then I initilized 3 different attributes. After I created 6 methods that either return themselves or define themselves. Then I created the main function that asks for the three inputs in variable form. Then the pet object gets made and a few f strings are printed to display the information about the pet. Lastly the main function is called."
   ]
  },
  {
   "cell_type": "markdown",
   "id": "6337d80f-6f09-48de-84bd-b0c4a1604631",
   "metadata": {},
   "source": [
    "### Programming Exercise 2\n",
    "\n",
    "The textbook asks us to write a class named Pet, which has data attributes as well as a variety of methods as well as being able to accelerate and decelerate the car."
   ]
  },
  {
   "cell_type": "code",
   "execution_count": 48,
   "id": "e087e3b3-c6b3-44c5-841a-b408e0f1fc39",
   "metadata": {},
   "outputs": [
    {
     "name": "stdin",
     "output_type": "stream",
     "text": [
      "Please enter the year model of your car:  2012\n",
      "Please enter the make of your car:  Ford Ecosport\n"
     ]
    },
    {
     "name": "stdout",
     "output_type": "stream",
     "text": [
      "\n",
      "The Car is accelerating\n",
      "The car's current speed is 5\n",
      "The car's current speed is 10\n",
      "The car's current speed is 15\n",
      "The car's current speed is 20\n",
      "The car's current speed is 25\n",
      "\n",
      "The Car is braking\n",
      "The car's current speed is 20\n",
      "The car's current speed is 15\n",
      "The car's current speed is 10\n",
      "The car's current speed is 5\n",
      "The car's current speed is 0\n"
     ]
    }
   ],
   "source": [
    "# creating the car class\n",
    "class Car:\n",
    "    # create the __init__ with attributes\n",
    "    def __init__(self, year_model, make):\n",
    "        # year_model attribute\n",
    "        self.__year_model = year_model\n",
    "        # make attribute\n",
    "        self.__make = make\n",
    "        # setting speed attribute at 0\n",
    "        self.__speed = 0\n",
    "    # creating accelerate method\n",
    "    def accelerate(self):\n",
    "        # add 5 to speed counter\n",
    "        self.__speed += 5\n",
    "    # creating brake method\n",
    "    def brake(self):\n",
    "        # remove 5 from speed counter\n",
    "        self.__speed -= 5\n",
    "    # creating get speed method\n",
    "    def get_speed(self):\n",
    "        # returns the speed\n",
    "        return self.__speed\n",
    "# creates the main function\n",
    "def main():\n",
    "    # defines year_model variable as an input\n",
    "    year_model = input(\"Please enter the year model of your car: \")\n",
    "    # defines make variable as an input\n",
    "    make = input(\"Please enter the make of your car: \")\n",
    "    # creates car object\n",
    "    car = Car(year_model, make)\n",
    "    # print statement to tell that the car is accelerating\n",
    "    print(\"\\nThe Car is accelerating\")\n",
    "    # creates a for loop that loops 5 times\n",
    "    for i in range(0, 5):\n",
    "        # will add 5 to speed\n",
    "        car.accelerate()\n",
    "        # prints out the current speed\n",
    "        print(f\"The car's current speed is {car.get_speed()}\")\n",
    "    # print statement to tell that the car is braking\n",
    "    print(\"\\nThe Car is braking\")\n",
    "    # creates a for loop that loops 5 times\n",
    "    for i in range(0, 5):\n",
    "        # will remove 5 from speeed\n",
    "        car.brake()\n",
    "        # prints out the current speed\n",
    "        print(f\"The car's current speed is {car.get_speed()}\")\n",
    "# calls the main function\n",
    "if __name__ == \"__main__\":\n",
    "    main()"
   ]
  },
  {
   "cell_type": "markdown",
   "id": "cd56734f-e1eb-42b5-add9-b3ed5379d1cc",
   "metadata": {},
   "source": [
    "#### High Level Overview\n",
    "\n",
    "First I create the car class, followed by initilizing a few attributes and setting the speed one to 0. After I created 3 different methods that will either add or remove speed from the speed total or it will just return the current speed. Then I created the main function that asks for the year model and make from inputs. Then I create the car object followed by two for loops that loop 5 times and will either accelerate the car or brake the car. Lastly the main function is called."
   ]
  }
 ],
 "metadata": {
  "kernelspec": {
   "display_name": "Python 3 (ipykernel)",
   "language": "python",
   "name": "python3"
  },
  "language_info": {
   "codemirror_mode": {
    "name": "ipython",
    "version": 3
   },
   "file_extension": ".py",
   "mimetype": "text/x-python",
   "name": "python",
   "nbconvert_exporter": "python",
   "pygments_lexer": "ipython3",
   "version": "3.11.7"
  }
 },
 "nbformat": 4,
 "nbformat_minor": 5
}
