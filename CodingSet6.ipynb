{
 "cells": [
  {
   "cell_type": "markdown",
   "id": "d5424f55-3d81-4535-81b0-3d844a0329ff",
   "metadata": {},
   "source": [
    "### Coding Set 6\n",
    "\n",
    "Colin Fitzgerald\n",
    "\n",
    "6/23/2024\n",
    "\n",
    "Algorithm Workbench problems 3 and 4, as well as Programming Exercises 1, 6, 9 and 12\n",
    "\n",
    "##### Iteration is shown throughout GitHub History and my high level explanations"
   ]
  },
  {
   "cell_type": "markdown",
   "id": "c1c459b0-d501-45cd-bae0-07d7ea03d36d",
   "metadata": {},
   "source": [
    "### Algorithm Workbench Problem 3\n",
    "\n",
    "The Textbook asks us to write code that does the following: opens an output file with the filename 'number_list.txt', uses a loop to write the numbers 1 through 100 to the file, then closes the file. "
   ]
  },
  {
   "cell_type": "code",
   "execution_count": 3,
   "id": "31b4e9e1-528f-4645-8f63-b42886263af6",
   "metadata": {},
   "outputs": [],
   "source": [
    "def main():\n",
    "    NumberList = open('number_list.txt', 'w')\n",
    "\n",
    "    for count in range(1, 101):\n",
    "        NumberList.write(f'{str(count)}\\n')\n",
    "\n",
    "    NumberList.close()\n",
    "\n",
    "if __name__ == '__main__':\n",
    "    main()"
   ]
  },
  {
   "cell_type": "markdown",
   "id": "ee0921ea-ed5c-4193-96b5-959b72788ce3",
   "metadata": {},
   "source": [
    "did not have quotes around number_list.txt and w"
   ]
  },
  {
   "cell_type": "markdown",
   "id": "2927b15d-3439-49c7-9006-3ee9cd023b69",
   "metadata": {},
   "source": [
    "### Algorithm Workbench Problem 4\n",
    "\n",
    "The Textbook asks us to  write code that does the following: opens the  file that was created by the code you wrote in question 3, reads all of the numbers from the file and displays them, then closes the file.  "
   ]
  },
  {
   "cell_type": "code",
   "execution_count": 5,
   "id": "d947775d-1435-4797-ae6c-7e510f9d499a",
   "metadata": {
    "scrolled": true
   },
   "outputs": [
    {
     "name": "stdout",
     "output_type": "stream",
     "text": [
      "1\n",
      "2\n",
      "3\n",
      "4\n",
      "5\n",
      "6\n",
      "7\n",
      "8\n",
      "9\n",
      "10\n",
      "11\n",
      "12\n",
      "13\n",
      "14\n",
      "15\n",
      "16\n",
      "17\n",
      "18\n",
      "19\n",
      "20\n",
      "21\n",
      "22\n",
      "23\n",
      "24\n",
      "25\n",
      "26\n",
      "27\n",
      "28\n",
      "29\n",
      "30\n",
      "31\n",
      "32\n",
      "33\n",
      "34\n",
      "35\n",
      "36\n",
      "37\n",
      "38\n",
      "39\n",
      "40\n",
      "41\n",
      "42\n",
      "43\n",
      "44\n",
      "45\n",
      "46\n",
      "47\n",
      "48\n",
      "49\n",
      "50\n",
      "51\n",
      "52\n",
      "53\n",
      "54\n",
      "55\n",
      "56\n",
      "57\n",
      "58\n",
      "59\n",
      "60\n",
      "61\n",
      "62\n",
      "63\n",
      "64\n",
      "65\n",
      "66\n",
      "67\n",
      "68\n",
      "69\n",
      "70\n",
      "71\n",
      "72\n",
      "73\n",
      "74\n",
      "75\n",
      "76\n",
      "77\n",
      "78\n",
      "79\n",
      "80\n",
      "81\n",
      "82\n",
      "83\n",
      "84\n",
      "85\n",
      "86\n",
      "87\n",
      "88\n",
      "89\n",
      "90\n",
      "91\n",
      "92\n",
      "93\n",
      "94\n",
      "95\n",
      "96\n",
      "97\n",
      "98\n",
      "99\n",
      "100\n"
     ]
    }
   ],
   "source": [
    "def main():\n",
    "    NumberList = open('number_list.txt', 'r')\n",
    "    line = NumberList.readline()\n",
    "    while line != '':\n",
    "        amount = int(line)\n",
    "        print(f'{amount}')\n",
    "        line = NumberList.readline()\n",
    "    NumberList.close()\n",
    "\n",
    "if __name__ == '__main__':\n",
    "    main()"
   ]
  },
  {
   "cell_type": "markdown",
   "id": "f410a359-1da8-4415-a5ca-7cdd6d1d5b17",
   "metadata": {},
   "source": [
    "### Programming Exercises 1 (File Display)\n",
    "\n",
    "The textbook asks us to Assume a file containing a series of integers is named numbers.txt and exists on the computer’s disk. Write a program that displays all of the numbers in the file."
   ]
  },
  {
   "cell_type": "code",
   "execution_count": 12,
   "id": "92f93312-ff6e-43c2-9f44-9d305cab9fde",
   "metadata": {},
   "outputs": [
    {
     "name": "stdout",
     "output_type": "stream",
     "text": [
      "23\n",
      "421\n",
      "53\n",
      "63\n",
      "53\n",
      "57\n",
      "833\n",
      "63\n",
      "53\n",
      "24\n",
      "234\n",
      "67\n",
      "54\n",
      "8\n",
      "956\n",
      "876\n",
      "45\n"
     ]
    }
   ],
   "source": [
    "def main():\n",
    "    with open('numbers.txt', 'r') as Numbers:\n",
    "        line = Numbers.readline()\n",
    "        while line != '':\n",
    "            amount = int(line)\n",
    "            print(f'{amount}')\n",
    "            line = Numbers.readline()\n",
    "\n",
    "if __name__ == '__main__':\n",
    "    main()"
   ]
  },
  {
   "cell_type": "markdown",
   "id": "3b72cc2a-ad06-4b1b-b2e3-986c9f439638",
   "metadata": {},
   "source": [
    "created numbers.txt for testing purposes forgot to put () after readline"
   ]
  },
  {
   "cell_type": "markdown",
   "id": "12482f4a-1df5-4a1d-8a1b-546740867beb",
   "metadata": {},
   "source": [
    "### Programming Exercise 6 (Average of Numbers)\n",
    "\n",
    "The textbook asks us to Assume a file containing a series of integers is named  and exists on the computer’s disk. Write a program that calculates the average of all the numbers stored in the file."
   ]
  },
  {
   "cell_type": "code",
   "execution_count": 19,
   "id": "9c7677cb-75a5-452d-8ade-71f674b7f672",
   "metadata": {},
   "outputs": [
    {
     "name": "stdout",
     "output_type": "stream",
     "text": [
      "The average was 228.41176470588235\n"
     ]
    }
   ],
   "source": [
    "def main():\n",
    "    count = 0\n",
    "    total = 0\n",
    "    with open('numbers.txt', 'r') as Numbers:\n",
    "        line = Numbers.readline()\n",
    "        while line != '':\n",
    "            amount = int(line)\n",
    "            total += amount\n",
    "            line = Numbers.readline()\n",
    "            count += 1\n",
    "        average = total / count\n",
    "    print(f'The average was {average}')\n",
    "if __name__ == '__main__':\n",
    "    main()"
   ]
  },
  {
   "cell_type": "markdown",
   "id": "62bb28f0-e1d6-4835-9096-197fee613ae3",
   "metadata": {},
   "source": [
    "### Programming Exercise 9 (Exception Handing)\n",
    "\n",
    "Modify the program that you wrote for Exercise 6 so it handles the following exceptions:  It should handle any  exceptions that are raised when the file is opened and data is read from it.It should handle any  exceptions that are raised when the items that are read from the file are converted to a number."
   ]
  },
  {
   "cell_type": "code",
   "execution_count": null,
   "id": "a2d0c807-f8a5-4bb0-af8d-95acc5530c24",
   "metadata": {},
   "outputs": [],
   "source": [
    "def main():\n",
    "    count = 0\n",
    "    total = 0\n",
    "    try:\n",
    "        with open('numbers.txt', 'r') as Numbers:\n",
    "            line = Numbers.readline()\n",
    "            while line != '':\n",
    "                amount = int(line)\n",
    "                total += amount\n",
    "                line = Numbers.readline()\n",
    "                count += 1\n",
    "            average = total / count\n",
    "        print(f'The average was {average}')\n",
    "    except IOError:\n",
    "        print('File not found')\n",
    "    execept ValueError:\n",
    "        print('Issue with the math')\n",
    "if __name__ == '__main__':\n",
    "    main()"
   ]
  },
  {
   "cell_type": "markdown",
   "id": "c33b958e-61ed-482c-96ac-184dae53f178",
   "metadata": {},
   "source": [
    "### Programming Exercise 12 (Average Steps Taken)\n",
    "\n",
    "The textbook asks us to Write a program that reads the steps file, then displays the average number of steps taken for each month."
   ]
  },
  {
   "cell_type": "code",
   "execution_count": null,
   "id": "aff8ca81-0de7-4ad0-915b-8bc7c4a4b537",
   "metadata": {},
   "outputs": [],
   "source": []
  }
 ],
 "metadata": {
  "kernelspec": {
   "display_name": "Python 3 (ipykernel)",
   "language": "python",
   "name": "python3"
  },
  "language_info": {
   "codemirror_mode": {
    "name": "ipython",
    "version": 3
   },
   "file_extension": ".py",
   "mimetype": "text/x-python",
   "name": "python",
   "nbconvert_exporter": "python",
   "pygments_lexer": "ipython3",
   "version": "3.11.7"
  }
 },
 "nbformat": 4,
 "nbformat_minor": 5
}
