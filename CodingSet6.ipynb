{
 "cells": [
  {
   "cell_type": "markdown",
   "id": "d5424f55-3d81-4535-81b0-3d844a0329ff",
   "metadata": {},
   "source": [
    "### Coding Set 6\n",
    "\n",
    "Colin Fitzgerald\n",
    "\n",
    "6/23/2024\n",
    "\n",
    "Algorithm Workbench problems 3 and 4, as well as Programming Exercises 1, 6, 9 and 12\n",
    "\n",
    "##### Iteration is shown throughout GitHub History and my high level explanations"
   ]
  },
  {
   "cell_type": "markdown",
   "id": "c1c459b0-d501-45cd-bae0-07d7ea03d36d",
   "metadata": {},
   "source": [
    "### Algorithm Workbench Problem 3\n",
    "\n",
    "The Textbook asks us to write code that does the following: opens an output file with the filename 'number_list.txt', uses a loop to write the numbers 1 through 100 to the file, then closes the file. "
   ]
  },
  {
   "cell_type": "code",
   "execution_count": 8,
   "id": "31b4e9e1-528f-4645-8f63-b42886263af6",
   "metadata": {},
   "outputs": [
    {
     "ename": "NameError",
     "evalue": "name 'number_list' is not defined",
     "output_type": "error",
     "traceback": [
      "\u001b[0;31m---------------------------------------------------------------------------\u001b[0m",
      "\u001b[0;31mNameError\u001b[0m                                 Traceback (most recent call last)",
      "Cell \u001b[0;32mIn[8], line 10\u001b[0m\n\u001b[1;32m      7\u001b[0m     NumberList\u001b[38;5;241m.\u001b[39mclose()\n\u001b[1;32m      9\u001b[0m \u001b[38;5;28;01mif\u001b[39;00m \u001b[38;5;18m__name__\u001b[39m \u001b[38;5;241m==\u001b[39m \u001b[38;5;124m'\u001b[39m\u001b[38;5;124m__main__\u001b[39m\u001b[38;5;124m'\u001b[39m:\n\u001b[0;32m---> 10\u001b[0m     main()\n",
      "Cell \u001b[0;32mIn[8], line 2\u001b[0m, in \u001b[0;36mmain\u001b[0;34m()\u001b[0m\n\u001b[1;32m      1\u001b[0m \u001b[38;5;28;01mdef\u001b[39;00m \u001b[38;5;21mmain\u001b[39m():\n\u001b[0;32m----> 2\u001b[0m     NumberList \u001b[38;5;241m=\u001b[39m \u001b[38;5;28mopen\u001b[39m(number_list\u001b[38;5;241m.\u001b[39mtxt, w)\n\u001b[1;32m      4\u001b[0m     \u001b[38;5;28;01mfor\u001b[39;00m count \u001b[38;5;129;01min\u001b[39;00m \u001b[38;5;28mrange\u001b[39m(\u001b[38;5;241m1\u001b[39m, \u001b[38;5;241m101\u001b[39m):\n\u001b[1;32m      5\u001b[0m         NumberList\u001b[38;5;241m.\u001b[39mwrite(\u001b[38;5;28mstr\u001b[39m(count))\n",
      "\u001b[0;31mNameError\u001b[0m: name 'number_list' is not defined"
     ]
    }
   ],
   "source": [
    "def main():\n",
    "    NumberList = open(number_list.txt, w)\n",
    "\n",
    "    for count in range(1, 101):\n",
    "        NumberList.write(str(count))\n",
    "\n",
    "    NumberList.close()\n",
    "\n",
    "if __name__ == '__main__':\n",
    "    main()"
   ]
  },
  {
   "cell_type": "code",
   "execution_count": null,
   "id": "6bd880d4-08f4-4ba7-9649-3488c23a942f",
   "metadata": {},
   "outputs": [],
   "source": []
  }
 ],
 "metadata": {
  "kernelspec": {
   "display_name": "Python 3 (ipykernel)",
   "language": "python",
   "name": "python3"
  },
  "language_info": {
   "codemirror_mode": {
    "name": "ipython",
    "version": 3
   },
   "file_extension": ".py",
   "mimetype": "text/x-python",
   "name": "python",
   "nbconvert_exporter": "python",
   "pygments_lexer": "ipython3",
   "version": "3.11.7"
  }
 },
 "nbformat": 4,
 "nbformat_minor": 5
}
