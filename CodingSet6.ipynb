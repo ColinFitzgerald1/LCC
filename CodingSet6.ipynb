{
 "cells": [
  {
   "cell_type": "markdown",
   "id": "d5424f55-3d81-4535-81b0-3d844a0329ff",
   "metadata": {},
   "source": [
    "# Coding Set 6\n",
    "\n",
    "Colin Fitzgerald\n",
    "\n",
    "6/23/2024\n",
    "\n",
    "Algorithm Workbench problems 7 and 8, as well as Programming Exercises 1, 6, 9 and 12\n",
    "\n",
    "##### Iteration is shown throughout GitHub History and my high level explanations"
   ]
  },
  {
   "cell_type": "code",
   "execution_count": null,
   "id": "574018f7-247c-4137-b45e-e3591f9d5986",
   "metadata": {},
   "outputs": [],
   "source": []
  }
 ],
 "metadata": {
  "kernelspec": {
   "display_name": "Python 3 (ipykernel)",
   "language": "python",
   "name": "python3"
  },
  "language_info": {
   "codemirror_mode": {
    "name": "ipython",
    "version": 3
   },
   "file_extension": ".py",
   "mimetype": "text/x-python",
   "name": "python",
   "nbconvert_exporter": "python",
   "pygments_lexer": "ipython3",
   "version": "3.11.7"
  }
 },
 "nbformat": 4,
 "nbformat_minor": 5
}
