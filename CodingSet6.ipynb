{
 "cells": [
  {
   "cell_type": "markdown",
   "id": "d5424f55-3d81-4535-81b0-3d844a0329ff",
   "metadata": {},
   "source": [
    "### Coding Set 6\n",
    "\n",
    "Colin Fitzgerald\n",
    "\n",
    "6/23/2024\n",
    "\n",
    "Algorithm Workbench problems 3 and 4, as well as Programming Exercises 1, 6, 9 and 12\n",
    "\n",
    "##### Iteration is shown throughout GitHub History and my high level explanations"
   ]
  },
  {
   "cell_type": "markdown",
   "id": "c1c459b0-d501-45cd-bae0-07d7ea03d36d",
   "metadata": {},
   "source": [
    "### Algorithm Workbench Problem 3\n",
    "\n",
    "The Textbook asks us to write code that does the following: opens an output file with the filename 'number_list.txt', uses a loop to write the numbers 1 through 100 to the file, then closes the file. "
   ]
  },
  {
   "cell_type": "code",
   "execution_count": 12,
   "id": "31b4e9e1-528f-4645-8f63-b42886263af6",
   "metadata": {},
   "outputs": [],
   "source": [
    "def main():\n",
    "    NumberList = open('number_list.txt', 'w')\n",
    "\n",
    "    for count in range(1, 101):\n",
    "        NumberList.write(str(count))\n",
    "\n",
    "    NumberList.close()\n",
    "\n",
    "if __name__ == '__main__':\n",
    "    main()"
   ]
  },
  {
   "cell_type": "markdown",
   "id": "ee0921ea-ed5c-4193-96b5-959b72788ce3",
   "metadata": {},
   "source": [
    "did not have quotes around number_list.txt and w"
   ]
  },
  {
   "cell_type": "markdown",
   "id": "2927b15d-3439-49c7-9006-3ee9cd023b69",
   "metadata": {},
   "source": [
    "### Algorithm Workbench Problem 4\n",
    "\n",
    "The Textbook asks us to  write code that does the following: opens the  file that was created by the code you wrote in question 3, reads all of the numbers from the file and displays them, then closes the file.  "
   ]
  },
  {
   "cell_type": "code",
   "execution_count": null,
   "id": "d947775d-1435-4797-ae6c-7e510f9d499a",
   "metadata": {},
   "outputs": [],
   "source": [
    "def main():\n",
    "    NumberList = open('number_list.txt', 'r')\n",
    "    line = NumberList.readline()\n",
    "    while line =! '':\n",
    "        amount = int(line)\n",
    "        print(f'{amount}')\n",
    "        line = NumberList.readline()\n",
    "    NumberList.close()\n",
    "\n",
    "if __name__ == '__main__':\n",
    "    main()"
   ]
  }
 ],
 "metadata": {
  "kernelspec": {
   "display_name": "Python 3 (ipykernel)",
   "language": "python",
   "name": "python3"
  },
  "language_info": {
   "codemirror_mode": {
    "name": "ipython",
    "version": 3
   },
   "file_extension": ".py",
   "mimetype": "text/x-python",
   "name": "python",
   "nbconvert_exporter": "python",
   "pygments_lexer": "ipython3",
   "version": "3.11.7"
  }
 },
 "nbformat": 4,
 "nbformat_minor": 5
}
