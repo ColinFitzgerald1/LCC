{
 "cells": [
  {
   "cell_type": "markdown",
   "id": "d79843dc",
   "metadata": {},
   "source": [
    "# Coding Set 3\n",
    "\n",
    "Colin Fitzgerald\n",
    "\n",
    "5/28/2024\n",
    "\n",
    "Algorithm Workbench question 4 and 5 along with Programming Exercises 1, 5, 15, and 17"
   ]
  },
  {
   "cell_type": "markdown",
   "id": "054343dd",
   "metadata": {},
   "source": [
    "### Algorithm Workbench 4\n",
    "\n",
    "The textbook asks us rewrite the code and use the proper conventions of alignment and indentation."
   ]
  },
  {
   "cell_type": "code",
   "execution_count": null,
   "id": "05da1082",
   "metadata": {},
   "outputs": [],
   "source": [
    "# Code pasted in from Textbook and reformatted by me to use the proper conventions of alignment and indentation\n",
    "if score >= A_score:\n",
    "    print( 'Your grade is A.')\n",
    "else:\n",
    "    if score >= B_score:\n",
    "        print( 'Your grade is B.')\n",
    "    else:\n",
    "        if score > C_score:\n",
    "            print( 'Your grade is C.')\n",
    "        else:\n",
    "            if score > D_score:\n",
    "                print( 'Your grade is D.')\n",
    "            else:\n",
    "                print( 'Your grade is F.')"
   ]
  },
  {
   "cell_type": "markdown",
   "id": "d076fd06",
   "metadata": {},
   "source": [
    "Above I pasted in the code from the textbook and reformatted it with proper conventions of alignment and indentation. The If - Else statements would work correctly if the given variables were defined."
   ]
  },
  {
   "cell_type": "markdown",
   "id": "e5567f26",
   "metadata": {},
   "source": [
    "### Algorithm Workbench 5\n",
    "\n",
    "The textbook asks us to create nested descion structure that performs a series of instructions"
   ]
  },
  {
   "cell_type": "code",
   "execution_count": null,
   "id": "32aac84e",
   "metadata": {},
   "outputs": [],
   "source": [
    "# Making sure that amount1 and amount2 variables in the correct range\n",
    "amount1 > 10 and amount2 < 100:\n",
    "    # If statement to find if variable amount1 is larger than amount2\n",
    "    if amount1 > amount2:\n",
    "        # Prints variable amount1 if it is larger than amount2\n",
    "        print(amount1)\n",
    "    # Else statement that will run if the if statement is false\n",
    "    else:\n",
    "        # Prints variable amount2 if it is larger than amount1\n",
    "        print(amount2)"
   ]
  }
 ],
 "metadata": {
  "kernelspec": {
   "display_name": "Python 3 (ipykernel)",
   "language": "python",
   "name": "python3"
  },
  "language_info": {
   "codemirror_mode": {
    "name": "ipython",
    "version": 3
   },
   "file_extension": ".py",
   "mimetype": "text/x-python",
   "name": "python",
   "nbconvert_exporter": "python",
   "pygments_lexer": "ipython3",
   "version": "3.11.7"
  }
 },
 "nbformat": 4,
 "nbformat_minor": 5
}
