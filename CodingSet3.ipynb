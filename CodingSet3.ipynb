{
 "cells": [
  {
   "cell_type": "markdown",
   "id": "bbfc98b8",
   "metadata": {},
   "source": [
    "# Coding Set 3\n",
    "\n",
    "Colin Fitzgerald\n",
    "\n",
    "5/28/2024\n",
    "\n",
    "Algorithm Workbench question 4 and 5 along with Programming Exercises 1, 5, 15, and 17"
   ]
  },
  {
   "cell_type": "markdown",
   "id": "20ad4c93",
   "metadata": {},
   "source": [
    "### Algorithm Workbench 4\n",
    "\n",
    "The textbook asks us rewrite the code and use the proper conventions of alignment and indentation."
   ]
  },
  {
   "cell_type": "code",
   "execution_count": null,
   "id": "cef64277",
   "metadata": {},
   "outputs": [],
   "source": [
    "# Code pasted in from Textbook and reformatted by me to use the proper conventions of alignment and indentation\n",
    "if score >= A_score:\n",
    "    print( 'Your grade is A.')\n",
    "else:\n",
    "    if score >= B_score:\n",
    "        print( 'Your grade is B.')\n",
    "    else:\n",
    "        if score > C_score:\n",
    "            print( 'Your grade is C.')\n",
    "        else:\n",
    "            if score > D_score:\n",
    "                print( 'Your grade is D.')\n",
    "            else:\n",
    "                print( 'Your grade is F.')"
   ]
  },
  {
   "cell_type": "markdown",
   "id": "2a20c6fe",
   "metadata": {},
   "source": [
    "Above I pasted in the code from the textbook and reformatted it with proper conventions of alignment and indentation. The If - Else statements would work correctly if the given variables were defined."
   ]
  },
  {
   "cell_type": "markdown",
   "id": "b91a6131",
   "metadata": {},
   "source": [
    "### Algorithm Workbench 5\n",
    "\n",
    "The textbook asks us to create nested descion structure that performs a series of instructions"
   ]
  },
  {
   "cell_type": "code",
   "execution_count": null,
   "id": "ae4bbd0e",
   "metadata": {},
   "outputs": [],
   "source": [
    "# Making sure that amount1 and amount2 variables in the correct range\n",
    "amount1 > 10 and amount2 < 100:\n",
    "    # If statement to find if variable amount1 is larger than amount2\n",
    "    if amount1 > amount2:\n",
    "        # Prints variable amount1 if it is larger than amount2\n",
    "        print(amount1)\n",
    "    # Else statement that will run if the if statement is false\n",
    "    else:\n",
    "        # Prints variable amount2 if it is larger than amount1\n",
    "        print(amount2)"
   ]
  },
  {
   "cell_type": "markdown",
   "id": "1f42d186",
   "metadata": {},
   "source": [
    "First, the variables amount1 and amount2 are checked to make sure that they are both inside of an acceptable range. After both are true, it moves onto the if statement where it finds the higher value variable and prints it."
   ]
  },
  {
   "cell_type": "markdown",
   "id": "b25925c5",
   "metadata": {},
   "source": [
    "### Programming Exercise 1 (Day of the Week)\n",
    "\n",
    "Textbook asks for us to receive a input (1-7) and display the corresponding day of week and display a error message if input is outside of the acceptable range."
   ]
  },
  {
   "cell_type": "code",
   "execution_count": 4,
   "id": "193f7dba",
   "metadata": {},
   "outputs": [
    {
     "name": "stdout",
     "output_type": "stream",
     "text": [
      "Please input a number 1 through 7: 1\n",
      "It is Monday!\n"
     ]
    }
   ],
   "source": [
    "# Defining the variable number_week find what day of the week it should be converted too\n",
    "number_week = int(input(\"Please input a number 1 through 7: \"))\n",
    "# Finding if the variable number_week is a number 1 through 7\n",
    "if 1 <= number_week <= 7:\n",
    "    if number_week == 1:\n",
    "        print('It is Monday!')\n",
    "    elif number_week == 2:\n",
    "        print('It is Tuesday!')\n",
    "    elif number_week == 3:\n",
    "        print('It is Wednesday!')\n",
    "    elif number_week == 4:\n",
    "        print('It is Thursday!')\n",
    "    elif number_week == 5:\n",
    "        print('It is Friday!')\n",
    "    elif number_week == 6:\n",
    "        print('It is Saturday!')\n",
    "    else:\n",
    "        print('It is Sunday!')\n",
    "else:\n",
    "    print('Please enter a value between 1 and 7!')"
   ]
  },
  {
   "cell_type": "markdown",
   "id": "a70aaf5f",
   "metadata": {},
   "source": [
    "First we define the variable number_week by asking for a input and converting it into a interger. We then confirm the range of the variable to be between 1 and 7. Then we create the if-elif-else statement for everyday of the week with a print statement attached. At the end if the number is not found between 1 and 7, it prints a error.\n",
    "\n",
    "Another way to do this, instead of creating a print statement for each elif statement we could have define a variable that would only active if elif was true. For example:"
   ]
  },
  {
   "cell_type": "code",
   "execution_count": 6,
   "id": "ac025613",
   "metadata": {},
   "outputs": [
    {
     "name": "stdout",
     "output_type": "stream",
     "text": [
      "The day you entered was: Monday\n"
     ]
    }
   ],
   "source": [
    "if number_week == 1:\n",
    "    day = \"Monday\"\n",
    "else:\n",
    "    print('Error')\n",
    "print('The day you entered was:', day)"
   ]
  },
  {
   "cell_type": "markdown",
   "id": "5c3644de",
   "metadata": {},
   "source": [
    "### Programming Exercise 5 (Mass and Weight)\n",
    "\n",
    "The textbook asks us to write a program that asks the user to enter an object’s mass, then calculates its weight. If the object's weight is too high or too low, too return a printed statement."
   ]
  },
  {
   "cell_type": "code",
   "execution_count": null,
   "id": "16ae4027",
   "metadata": {},
   "outputs": [],
   "source": []
  }
 ],
 "metadata": {
  "kernelspec": {
   "display_name": "Python 3 (ipykernel)",
   "language": "python",
   "name": "python3"
  },
  "language_info": {
   "codemirror_mode": {
    "name": "ipython",
    "version": 3
   },
   "file_extension": ".py",
   "mimetype": "text/x-python",
   "name": "python",
   "nbconvert_exporter": "python",
   "pygments_lexer": "ipython3",
   "version": "3.11.7"
  }
 },
 "nbformat": 4,
 "nbformat_minor": 5
}
