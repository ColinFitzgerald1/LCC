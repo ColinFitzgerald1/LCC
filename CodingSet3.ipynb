{
 "cells": [
  {
   "cell_type": "markdown",
   "id": "cf777fb3",
   "metadata": {},
   "source": [
    "# Coding Set 3\n",
    "\n",
    "Colin Fitzgerald\n",
    "\n",
    "5/28/2024\n",
    "\n",
    "Algorithm Workbench question 4 and 5 along with Programming Exercises 1, 5, 15, and 17"
   ]
  },
  {
   "cell_type": "markdown",
   "id": "c33d3c12",
   "metadata": {},
   "source": [
    "### Algorithm Workbench 4\n",
    "\n",
    "The textbook asks us rewrite the code and use the proper conventions of alignment and indentation."
   ]
  },
  {
   "cell_type": "code",
   "execution_count": 1,
   "id": "19dc0680",
   "metadata": {},
   "outputs": [
    {
     "name": "stdout",
     "output_type": "stream",
     "text": [
      "What was your score? 83\n",
      "Your grade is a B.\n"
     ]
    }
   ],
   "source": [
    "# All below is code to make the code from the text book work\n",
    "# Variable score is defined by the intput and turned into a interger\n",
    "score = int(input(\"What was your score? \"))\n",
    "# Variable A_score is defined \n",
    "A_score = 90\n",
    "# Variable B_score is defined \n",
    "B_score = 80\n",
    "# Variable C_score is defined \n",
    "C_score = 70\n",
    "# Variable D_score is defined \n",
    "D_score = 60\n",
    "# Code pasted in from Textbook and reformatted by me to use the proper conventions of alignment and indentation\n",
    "# If statement that asks if score is greater than or equal to the set variable\n",
    "if score >= A_score:\n",
    "    # Prints the string describing the grade given\n",
    "    print( 'Your grade is a A.')\n",
    "else:\n",
    "    # If statement that asks if score is greater than or equal to the set variable\n",
    "    if score >= B_score:\n",
    "        # Prints the string describing the grade given\n",
    "        print( 'Your grade is a B.')\n",
    "    else:\n",
    "        # If statement that asks if score is greater than or equal to the set variable\n",
    "        if score > C_score:\n",
    "            # Prints the string describing the grade given\n",
    "            print( 'Your grade is a C.')\n",
    "        else:\n",
    "            # If statement that asks if score is greater than or equal to the set variable\n",
    "            if score > D_score:\n",
    "                # Prints the string describing the grade given\n",
    "                print( 'Your grade is a D.')\n",
    "            # If none of the other stuff is true then it is a F\n",
    "            else:\n",
    "                # Prints the string describing the grade given\n",
    "                print( 'Your grade is a F.')"
   ]
  },
  {
   "cell_type": "markdown",
   "id": "61fe5eb1",
   "metadata": {},
   "source": [
    "Above I pasted in the code from the textbook and reformatted it with proper conventions of alignment and indentation. The If - Else statements would work correctly if the given variables were defined."
   ]
  },
  {
   "cell_type": "markdown",
   "id": "eecc10bb",
   "metadata": {},
   "source": [
    "### Algorithm Workbench 5\n",
    "\n",
    "The textbook asks us to create nested descion structure that performs a series of instructions"
   ]
  },
  {
   "cell_type": "code",
   "execution_count": 2,
   "id": "c6eaaba8",
   "metadata": {},
   "outputs": [
    {
     "name": "stdout",
     "output_type": "stream",
     "text": [
      "What is Amount 1? 45\n",
      "What is Amount 2? 87\n",
      "87.0  is larger\n"
     ]
    }
   ],
   "source": [
    "# All below is code to make the code from the text book work\n",
    "# We define the variable amount 1 with a input and turn it into a float\n",
    "amount1 = float(input(\"What is Amount 1? \"))\n",
    "# We define the variable amount 2 with a input and turn it into a float\n",
    "amount2 = float(input(\"What is Amount 2? \"))\n",
    "\n",
    "# Making sure that amount1 and amount2 variables in the correct range\n",
    "if amount1 > 10 and amount2 < 100:\n",
    "    # If statement to find if variable amount1 is larger than amount2\n",
    "    if amount1 > amount2:\n",
    "        # Prints variable amount1 if it is larger than amount2\n",
    "        print(amount1, \" is larger\")\n",
    "    # Else statement that will run if the if statement is false\n",
    "    else:\n",
    "        # Prints variable amount2 if it is larger than amount1\n",
    "        print(amount2, \" is larger\")"
   ]
  },
  {
   "cell_type": "markdown",
   "id": "9f3c2611",
   "metadata": {},
   "source": [
    "First, the variables amount1 and amount2 are checked to make sure that they are both inside of an acceptable range. After both are true, it moves onto the if statement where it finds the higher value variable and prints it."
   ]
  },
  {
   "cell_type": "markdown",
   "id": "15012633",
   "metadata": {},
   "source": [
    "### Programming Exercise 1 (Day of the Week)\n",
    "\n",
    "Textbook asks for us to receive a input (1-7) and display the corresponding day of week and display a error message if input is outside of the acceptable range."
   ]
  },
  {
   "cell_type": "code",
   "execution_count": 3,
   "id": "bc2eabd7",
   "metadata": {},
   "outputs": [
    {
     "name": "stdout",
     "output_type": "stream",
     "text": [
      "Please input a number 1 through 7: 1\n",
      "It is Monday!\n"
     ]
    }
   ],
   "source": [
    "# Defining the variable number_week find what day of the week it should be converted too\n",
    "number_week = int(input(\"Please input a number 1 through 7: \"))\n",
    "# Finding if the variable number_week is a number 1 through 7\n",
    "if 1 <= number_week <= 7:\n",
    "    # Elif statement to confirm what day to print\n",
    "    if number_week == 1:\n",
    "        # Prints the day if true\n",
    "        print('It is Monday!')\n",
    "    # Elif statement to confirm what day to print\n",
    "    elif number_week == 2:\n",
    "        # Prints the day if true\n",
    "        print('It is Tuesday!')\n",
    "    # Elif statement to confirm what day to print\n",
    "    elif number_week == 3:\n",
    "        # Prints the day if true\n",
    "        print('It is Wednesday!')\n",
    "    # Elif statement to confirm what day to print\n",
    "    elif number_week == 4:\n",
    "        # Prints the day if true\n",
    "        print('It is Thursday!')\n",
    "    # Elif statement to confirm what day to print\n",
    "    elif number_week == 5:\n",
    "        # Prints the day if true\n",
    "        print('It is Friday!')\n",
    "    # Elif statement to confirm what day to print\n",
    "    elif number_week == 6:\n",
    "        # Prints the day if true\n",
    "        print('It is Saturday!')\n",
    "    # If none of the 6 days above don't work, then it goes to the else \n",
    "    else:\n",
    "        print('It is Sunday!')\n",
    "# If it does not go 1 through 7 than it must be printed that there is an error\n",
    "else:\n",
    "    print('Please enter a value between 1 and 7!')"
   ]
  },
  {
   "cell_type": "markdown",
   "id": "490a5f6d",
   "metadata": {},
   "source": [
    "First we define the variable number_week by asking for a input and converting it into a interger. We then confirm the range of the variable to be between 1 and 7. Then we create the if-elif-else statement for everyday of the week with a print statement attached. At the end if the number is not found between 1 and 7, it prints a error.\n",
    "\n",
    "Another way to do this, instead of creating a print statement for each elif statement we could have define a variable that would only active if elif was true. This would allow for easier use of the variable if it needed to be referenced further in the code. For example:"
   ]
  },
  {
   "cell_type": "code",
   "execution_count": 4,
   "id": "5e0e45df",
   "metadata": {},
   "outputs": [
    {
     "name": "stdout",
     "output_type": "stream",
     "text": [
      "The day you entered was: Monday\n"
     ]
    }
   ],
   "source": [
    "# If statement that assigns the day to be Monday if it is number of week 1\n",
    "if number_week == 1:\n",
    "    # It defines the variable Monday\n",
    "    day = \"Monday\"\n",
    "# Another statement like the one above\n",
    "elif number_week == 2:\n",
    "    day = \"Tuesday\"\n",
    "# Else part of the If statement that if it isnt 1 through 7 it returns an error\n",
    "else:\n",
    "    print('Error')\n",
    "# Prints a formatted version of what day it is\n",
    "print('The day you entered was:', day)"
   ]
  },
  {
   "cell_type": "markdown",
   "id": "7db01f18",
   "metadata": {},
   "source": [
    "### Programming Exercise 5 (Mass and Weight)\n",
    "\n",
    "The textbook asks us to write a program that asks the user to enter an object’s mass, then calculates its weight. If the object's weight is too high or too low, too return a printed statement."
   ]
  },
  {
   "cell_type": "code",
   "execution_count": 5,
   "id": "fcda4f0c",
   "metadata": {},
   "outputs": [
    {
     "name": "stdout",
     "output_type": "stream",
     "text": [
      "Please enter the object's mass: 46.2314\n",
      "The object's weight is: 453.068 newtons\n"
     ]
    }
   ],
   "source": [
    "# Define the variable mass as a float of the input from the user\n",
    "mass = float(input('Please enter the object\\'s mass: '))\n",
    "# Do the math to convert the mass to the objects weight on earth\n",
    "weight = mass * 9.8\n",
    "# If statement that will print a string if weight is over 500\n",
    "if weight > 500:\n",
    "    print('The object is too heavy!')\n",
    "# If statement that will print a string if weight is under 100\n",
    "elif weight < 100:\n",
    "    print('The object is too light!')\n",
    "# If there is no issue with the weight then the program prints a f string of the weight\n",
    "else:\n",
    "    print('The object\\'s weight is: ' + f'{weight:,.3f}' + ' newtons')"
   ]
  },
  {
   "cell_type": "markdown",
   "id": "33e8a31e",
   "metadata": {},
   "source": [
    "First we ask for the input of a mass, and turn it into a float to be able to do more complex math on it. Then we convert the mass into weight with an equation. After, we create a if-elif-else statement. If the object is too heavy or light, we print a string. If all is fine, we then print the object's weight."
   ]
  },
  {
   "cell_type": "markdown",
   "id": "9a17f845",
   "metadata": {},
   "source": [
    "### Programming Exercise 15 (February Days)\n",
    "\n",
    "The textbook asks use to write a program that asks the user to enter a year and should then display the number of days in February that year. "
   ]
  },
  {
   "cell_type": "code",
   "execution_count": 6,
   "id": "c6faa2a0",
   "metadata": {},
   "outputs": [
    {
     "name": "stdout",
     "output_type": "stream",
     "text": [
      "Please enter a year: 4978\n",
      "February in 4978 has 28 days\n"
     ]
    }
   ],
   "source": [
    "# We define the variable year with a input turned into a interger\n",
    "year = int(input('Please enter a year: '))\n",
    "# If statement that finds if the year has a remainder of 0 with the number 100\n",
    "if year % 100 == 0:\n",
    "    # If true then it finds if it has a remainder of 0 with the number 400\n",
    "    if year % 400 == 0:\n",
    "        # Prints that there are 29 days in February\n",
    "        print('February in ' + str(year) + \" has 29 days\")\n",
    "    # If it is not true then there are not 29 days in February\n",
    "    else:\n",
    "        # # Prints that there are 28 days in February\n",
    "        print('February in ' + str(year) + \" has 28 days\")\n",
    "# If it is false\n",
    "else:\n",
    "    # If statement that finds if the year has remainder of 0 with the number 4\n",
    "    if year % 4 == 0:\n",
    "        # Prints that there are 29 days in February\n",
    "        print('February in ' + str(year) + \" has 29 days\")\n",
    "    # If not true\n",
    "    else:\n",
    "        # Prints that there are 28 days in February\n",
    "        print('February in ' + str(year) + \" has 28 days\")"
   ]
  },
  {
   "cell_type": "markdown",
   "id": "564359e8",
   "metadata": {},
   "source": [
    "First, we define the variable year by asking for a input and converting it into a interger. After, we create a nested if statement where it checks the if the remainder of dividing is 100 is 0 and again for 400. If the first statement is false, we check to see if it divisable by 4 with a remainder of 0. Then it is printed to see what answer is correct using string concatenation.\n",
    "\n",
    "An alternative way to do this was like Programming Exercise 1 instead of creating a print statement for each elif statement we could have define a variable that would only active if elif was true. This would allow for easier use of the variable if it needed to be referenced further in the code. For example:"
   ]
  },
  {
   "cell_type": "code",
   "execution_count": 7,
   "id": "b2a0d5aa",
   "metadata": {},
   "outputs": [
    {
     "name": "stdout",
     "output_type": "stream",
     "text": [
      "February in 4978 has 28 days\n"
     ]
    }
   ],
   "source": [
    "# Finds if the year has a remainder of 0 when dividing by 100\n",
    "if year % 100 == 0:\n",
    "    # Finds if the year has a remainder of 0 when dividing by 400\n",
    "    if year % 400 == 0:\n",
    "        # Defines the variable days_february to be 29\n",
    "        days_february = 29\n",
    "    # If not true\n",
    "    else:\n",
    "        # Defines the variable days_february to be 28\n",
    "        days_february = 28\n",
    "# If not true\n",
    "else:\n",
    "    # Finds if the year has a remainder of 0 when dividing by 4\n",
    "    if year % 4 == 0:\n",
    "        # Defines the variable days_february to be 29\n",
    "        days_february = 29\n",
    "    # If not true\n",
    "    else:\n",
    "        # Defines the variable days_february to be 28\n",
    "        days_february = 28\n",
    "# Prints how many days there are in February and is formatted\n",
    "print(('February in ' + str(year) + \" has \" + str(days_february) + ' days'))"
   ]
  },
  {
   "cell_type": "markdown",
   "id": "88a80fc2",
   "metadata": {},
   "source": [
    "### Programming Exercise 17\n",
    "\n",
    "The textbook asks us to write a program that asks whether any members of your party are vegetarian, vegan, or gluten-free, to which then displays only the restaurants to which you may take the group."
   ]
  },
  {
   "cell_type": "code",
   "execution_count": 8,
   "id": "5dba5e4b",
   "metadata": {
    "scrolled": true
   },
   "outputs": [
    {
     "name": "stdout",
     "output_type": "stream",
     "text": [
      "Is anyone is in your party a vegetarian? Y Es\n",
      "Is anyone is in your party a Vegan? No\n",
      "Is anyone is in your party gluten-free? YeS\n",
      "    \n",
      "You may eat here: \n",
      "     Main street Pizza\n",
      "     Corner Cafe\n",
      "     The Chef's kitchen\n"
     ]
    }
   ],
   "source": [
    "# Defines the variable Vegetarian by using a input and formatting it by uncapitalizing and removing spaces\n",
    "Vegetarian = input(\"Is anyone is in your party a vegetarian? \").lower().strip()\n",
    "# Defines the variable Vegan by using a input and formatting it by uncapitalizing and removing spaces\n",
    "Vegan = input(\"Is anyone is in your party a Vegan? \").lower().strip()\n",
    "# Defines the variable Gluten_free by using a input and formatting it by uncapitalizing and removing spaces\n",
    "Gluten_free = input(\"Is anyone is in your party gluten-free? \").lower().strip()\n",
    "# Defines the variable space for formatting and making the output look better\n",
    "space = \"    \"\n",
    "# Prints a gap for better formatting in the output\n",
    "print(space)\n",
    "# Prints a string about what resturants the party can go to\n",
    "print('You may eat here: ')\n",
    "# If statement that makes sure that if anyone has any dietary restrictions\n",
    "if Vegetarian == 'no' and Vegan == 'no' and Gluten_free == 'no':\n",
    "    # Prints a space and resturant name if all above is true\n",
    "    print(space, 'Joe\\'s gourmet burgers')\n",
    "# If statement that makes sure that if anyone has any dietary restrictions\n",
    "if Vegan == 'no':\n",
    "    # Prints a space and resturant name if all above is true\n",
    "    print(space, 'Main street Pizza')\n",
    "# If statement that makes sure that if anyone has any dietary restrictions\n",
    "if Vegan == 'no' and Gluten_free == 'no':\n",
    "    # Prints a space and resturant name if all above is true\n",
    "    print(space, 'Mama\\'s Fine Italian')\n",
    "# Prints a space and resturant name because they support all dietary restrictions\n",
    "print(space, 'Corner Cafe')\n",
    "# Prints a space and resturant name because they support all dietary restrictions\n",
    "print(space, 'The Chef\\'s kitchen')"
   ]
  },
  {
   "cell_type": "markdown",
   "id": "da587a14",
   "metadata": {},
   "source": [
    "At first I had an issue with my if statements because I did not check each individual variable and instead just accidentally checked gluten free. For example:"
   ]
  },
  {
   "cell_type": "code",
   "execution_count": 10,
   "id": "67c406bd",
   "metadata": {},
   "outputs": [
    {
     "ename": "SyntaxError",
     "evalue": "incomplete input (3134553282.py, line 2)",
     "output_type": "error",
     "traceback": [
      "\u001b[0;36m  Cell \u001b[0;32mIn[10], line 2\u001b[0;36m\u001b[0m\n\u001b[0;31m    if Vegetarian and Vegan and Gluten_free == 'no':\u001b[0m\n\u001b[0m                                                    ^\u001b[0m\n\u001b[0;31mSyntaxError\u001b[0m\u001b[0;31m:\u001b[0m incomplete input\n"
     ]
    }
   ],
   "source": [
    "# An example of what I accidently did wrong\n",
    "if Vegetarian and Vegan and Gluten_free == 'no':"
   ]
  },
  {
   "cell_type": "markdown",
   "id": "e6c759b2",
   "metadata": {},
   "source": [
    "An explanation of the code: First I defined each variable with a input that I lowercased and stripped it of all of its spaces. After I defined the variable \"space\" for organizing outputs. Then I printed the space for a gap in the output. After I created if statements that confirmed that if people had dietary restrictions it would print if they had the dietary restrictions that alligned with the restaurants. There were two different restaurants that both would be printed no matter what."
   ]
  }
 ],
 "metadata": {
  "kernelspec": {
   "display_name": "Python 3 (ipykernel)",
   "language": "python",
   "name": "python3"
  },
  "language_info": {
   "codemirror_mode": {
    "name": "ipython",
    "version": 3
   },
   "file_extension": ".py",
   "mimetype": "text/x-python",
   "name": "python",
   "nbconvert_exporter": "python",
   "pygments_lexer": "ipython3",
   "version": "3.11.7"
  }
 },
 "nbformat": 4,
 "nbformat_minor": 5
}
