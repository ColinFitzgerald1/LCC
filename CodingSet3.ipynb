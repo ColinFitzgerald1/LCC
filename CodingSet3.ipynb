{
 "cells": [
  {
   "cell_type": "markdown",
   "id": "31dfadfd",
   "metadata": {},
   "source": [
    "# Coding Set 3\n",
    "\n",
    "Colin Fitzgerald\n",
    "\n",
    "5/28/2024\n",
    "\n",
    "Algorithm Workbench question 4 and 5 along with Programming Exercises 1, 5, 15, and 17"
   ]
  },
  {
   "cell_type": "markdown",
   "id": "1c255822",
   "metadata": {},
   "source": [
    "### Algorithm Workbench 4\n",
    "\n",
    "The textbook asks us rewrite the code and use the proper conventions of alignment and indentation."
   ]
  },
  {
   "cell_type": "code",
   "execution_count": null,
   "id": "eab39ac1",
   "metadata": {},
   "outputs": [],
   "source": [
    "if score >= A score:\n",
    "print( 'Your grade is A.')\n",
    "else:\n",
    "if score >= B _score. \n",
    "print( 'Your grade is B.')\n",
    "else:\n",
    "if score > C_score:\n",
    "print( 'Your grade is C.')\n",
    "else:\n",
    "if score > D_score:\n",
    "print( 'Your grade is D.')\n",
    "else:\n",
    "print( 'Your grade is F.')"
   ]
  }
 ],
 "metadata": {
  "kernelspec": {
   "display_name": "Python 3 (ipykernel)",
   "language": "python",
   "name": "python3"
  },
  "language_info": {
   "codemirror_mode": {
    "name": "ipython",
    "version": 3
   },
   "file_extension": ".py",
   "mimetype": "text/x-python",
   "name": "python",
   "nbconvert_exporter": "python",
   "pygments_lexer": "ipython3",
   "version": "3.11.7"
  }
 },
 "nbformat": 4,
 "nbformat_minor": 5
}
