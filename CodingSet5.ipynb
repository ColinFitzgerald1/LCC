{
 "cells": [
  {
   "cell_type": "markdown",
   "id": "0f99ed9e",
   "metadata": {},
   "source": [
    "# Coding Set 5\n",
    "\n",
    "Colin Fitzgerald\n",
    "\n",
    "6/16/2024\n",
    "\n",
    "Algorithm Workbench problems 6 and 7, as well as Programming Exercises 1, 16, 17, and 19\n",
    "\n",
    "##### Iteration is shown throughout GitHub History and my high level explanations"
   ]
  },
  {
   "cell_type": "markdown",
   "id": "cfb21349",
   "metadata": {},
   "source": [
    "### Algorithm Workbench 6\n",
    "\n",
    "The textbook asks us to write a statement that generates a random number in the range of 1 through 100 and assigns it to a variable named rand"
   ]
  },
  {
   "cell_type": "code",
   "execution_count": 1,
   "id": "92773051",
   "metadata": {},
   "outputs": [
    {
     "name": "stdout",
     "output_type": "stream",
     "text": [
      "The random number 1 through 100 is 58\n"
     ]
    }
   ],
   "source": [
    "# imports the random module\n",
    "import random\n",
    "# creates the main function\n",
    "def main():\n",
    "    # defines the local variable rand as a random number 1 through 100\n",
    "    rand = random.randint(1,100)\n",
    "    # prints an f string 1 through 100\n",
    "    print(f\"The random number 1 through 100 is {rand}\")\n",
    "# calls and executes the main function\n",
    "main()"
   ]
  },
  {
   "cell_type": "markdown",
   "id": "eaca8f40",
   "metadata": {},
   "source": [
    "#### High Level Overview\n",
    "\n",
    "First we have to import the random module, then we create the main function. Inside the main function we define the variable rand as a random number 1 through 100. It then prints a formatted f string. In the end it calls and executes the main function."
   ]
  },
  {
   "cell_type": "markdown",
   "id": "2e2e4f71",
   "metadata": {},
   "source": [
    "### Algorithm Workbench 7\n",
    "\n",
    "The textbook asks us to write code for a function that would make it function"
   ]
  },
  {
   "cell_type": "code",
   "execution_count": 2,
   "id": "6680c602",
   "metadata": {},
   "outputs": [
    {
     "name": "stdout",
     "output_type": "stream",
     "text": [
      "Please input a number: 73\n",
      "73 split in half is 36.50 (rounded)\n"
     ]
    }
   ],
   "source": [
    "# creates the main function\n",
    "def main():\n",
    "    # defines the variable number as an integer from input\n",
    "    number = int(input(\"Please input a number: \"))\n",
    "    # defines the variable result from calling the function half with the number from the input\n",
    "    result = half(number)\n",
    "    # prints an f string that formats the print\n",
    "    print(f\"{number} split in half is {float(result):.2f} (rounded)\")\n",
    "# creates the half function\n",
    "def half(div):\n",
    "    # returns the number devided by 2\n",
    "    return div / 2\n",
    "# calls and executes the main function   \n",
    "main()"
   ]
  },
  {
   "cell_type": "markdown",
   "id": "fdb46196",
   "metadata": {},
   "source": [
    "#### High Level Overview\n",
    "\n",
    "First we create the main function. Inside the main function we define the number variable as an integer from an input. After we define the variable result by calling the half function and input the number into it. Going into the half function it takes the number and returns the half of it. Going back to the main function it then prints the formatted f string. To start it we called the main function which is then executed."
   ]
  },
  {
   "cell_type": "markdown",
   "id": "ecd722d1",
   "metadata": {},
   "source": [
    "### Programming Exercise 1 (Kilometer Converter)\n",
    "\n",
    "Write a program that asks the user to enter a distance in kilometers, then uses a function to convert that distance to miles. The conversion formula is as follows:\n",
    "\n",
    "$Miles = Kilometers * 0.6214$"
   ]
  },
  {
   "cell_type": "code",
   "execution_count": 3,
   "id": "c180a9af",
   "metadata": {},
   "outputs": [
    {
     "name": "stdout",
     "output_type": "stream",
     "text": [
      "Please enter the amount of Kilometers: 10\n",
      "10 Kilometers is 6.21 Miles\n"
     ]
    }
   ],
   "source": [
    "# creates a global variable\n",
    "conversion = 0.6214\n",
    "# creates the main function\n",
    "def main():\n",
    "    # defines the variable kilometer as an integer input\n",
    "    kilometer = int(input(\"Please enter the amount of Kilometers: \"))\n",
    "    # defines the variable miles as the function output with the input of kilometers\n",
    "    Miles = converter(kilometer)\n",
    "    # prints an formatted f string\n",
    "    print(f\"{kilometer} Kilometers is {Miles:.2f} Miles\")\n",
    "# creates the converter function\n",
    "def converter(kilo):\n",
    "    # returns the conversion\n",
    "    return kilo * conversion\n",
    "# calls and executes the main function\n",
    "main()"
   ]
  },
  {
   "cell_type": "markdown",
   "id": "007899fb",
   "metadata": {},
   "source": [
    "#### High Level Overview\n",
    "\n",
    "First we create the global variable named conversion and define as 0.6214. After we create the main function. Inside the main function we define kilometer from an input. After we define miles from the function converter. Going to the converter function it returns the kilometer multiplied by the global variable conversion. Going back into the main function we print the answer as a f string. In the end we call and execute the main function."
   ]
  },
  {
   "cell_type": "markdown",
   "id": "8ad789a6",
   "metadata": {},
   "source": [
    "### Programming Exercise 16 (Prime Numbers)\n",
    "\n",
    "The textbook asks us to write a Boolean function which takes an integer as an argument and returns true if the argument is a prime number, or false otherwise. Use the function in a program that prompts the user to enter a number then displays a message indicating whether the number is prime."
   ]
  },
  {
   "cell_type": "code",
   "execution_count": 4,
   "id": "89bcf64e",
   "metadata": {},
   "outputs": [
    {
     "name": "stdout",
     "output_type": "stream",
     "text": [
      "Please input a number: 7\n",
      "7 is a prime number\n"
     ]
    }
   ],
   "source": [
    "# creates the function is_prime\n",
    "def is_prime(num):\n",
    "    # creates an if statement that will not allow an input less than 1\n",
    "    if num <= 1:\n",
    "        # returns False if the if is true\n",
    "        return False\n",
    "    # creates a for loop in range of 2 to the number being checked\n",
    "    for i in range(2, num):\n",
    "        # creates an if statement to check if it is divisable by any number in the range\n",
    "        if num % i == 0:\n",
    "            # returns false if it is true\n",
    "            return False\n",
    "    # returns true if it true\n",
    "    return True\n",
    "# creates the main function\n",
    "def main():\n",
    "    # defines the variable number as the integer input \n",
    "    number = int(input(\"Please input a number: \"))\n",
    "    # if statement that calls the is_prime function\n",
    "    if is_prime(number):\n",
    "        # prints that it is a prime number\n",
    "        print(f\"{int(number)} is a prime number\")\n",
    "    # if not then is it not a prime number\n",
    "    else:\n",
    "        # prints that it is not a prime number\n",
    "        print(f\"{int(number)} is not a prime number\")\n",
    "# calls and executes the main function     \n",
    "main()"
   ]
  },
  {
   "cell_type": "markdown",
   "id": "dfd03c1e",
   "metadata": {},
   "source": [
    "#### High Level Overview\n",
    "\n",
    "First we create the function is_prime, followed by an if statement that checks if it is less than 1 which then returns falses. If it keeps going it then goes to a for loop in the range of 2 to the amount of number inputed which it is true then it will return false. If the number is divisable by the range then it will return false. If it passes through everything then it will return true. Inside of the main function we define the number with an input. After there is an if statement that if true with print that it is not a prime number, and then a else statement that wil print that it is a prime number with a formatted f string. In the end it will call and execite the main function\n",
    "\n",
    "###### At first I had an issue with using false (which is considered a string) instead of False which will work inside of a boolean for my while loops"
   ]
  },
  {
   "cell_type": "markdown",
   "id": "99ff52ba",
   "metadata": {},
   "source": [
    "### Programming Exercise 17 (Prime Number List)\n",
    "\n",
    "The textbook asks us to write another program that displays all of the prime numbers from 1 to 100. The program should have a loop that calls to a prevoius function."
   ]
  },
  {
   "cell_type": "code",
   "execution_count": 5,
   "id": "acdd4d6e",
   "metadata": {},
   "outputs": [
    {
     "name": "stdout",
     "output_type": "stream",
     "text": [
      "1\tNot Prime\n",
      "2\tPrime\n",
      "3\tPrime\n",
      "4\tNot Prime\n",
      "5\tPrime\n",
      "6\tNot Prime\n",
      "7\tPrime\n",
      "8\tNot Prime\n",
      "9\tNot Prime\n",
      "10\tNot Prime\n",
      "11\tPrime\n",
      "12\tNot Prime\n",
      "13\tPrime\n",
      "14\tNot Prime\n",
      "15\tNot Prime\n",
      "16\tNot Prime\n",
      "17\tPrime\n",
      "18\tNot Prime\n",
      "19\tPrime\n",
      "20\tNot Prime\n",
      "21\tNot Prime\n",
      "22\tNot Prime\n",
      "23\tPrime\n",
      "24\tNot Prime\n",
      "25\tNot Prime\n",
      "26\tNot Prime\n",
      "27\tNot Prime\n",
      "28\tNot Prime\n",
      "29\tPrime\n",
      "30\tNot Prime\n",
      "31\tPrime\n",
      "32\tNot Prime\n",
      "33\tNot Prime\n",
      "34\tNot Prime\n",
      "35\tNot Prime\n",
      "36\tNot Prime\n",
      "37\tPrime\n",
      "38\tNot Prime\n",
      "39\tNot Prime\n",
      "40\tNot Prime\n",
      "41\tPrime\n",
      "42\tNot Prime\n",
      "43\tPrime\n",
      "44\tNot Prime\n",
      "45\tNot Prime\n",
      "46\tNot Prime\n",
      "47\tPrime\n",
      "48\tNot Prime\n",
      "49\tNot Prime\n",
      "50\tNot Prime\n",
      "51\tNot Prime\n",
      "52\tNot Prime\n",
      "53\tPrime\n",
      "54\tNot Prime\n",
      "55\tNot Prime\n",
      "56\tNot Prime\n",
      "57\tNot Prime\n",
      "58\tNot Prime\n",
      "59\tPrime\n",
      "60\tNot Prime\n",
      "61\tPrime\n",
      "62\tNot Prime\n",
      "63\tNot Prime\n",
      "64\tNot Prime\n",
      "65\tNot Prime\n",
      "66\tNot Prime\n",
      "67\tPrime\n",
      "68\tNot Prime\n",
      "69\tNot Prime\n",
      "70\tNot Prime\n",
      "71\tPrime\n",
      "72\tNot Prime\n",
      "73\tPrime\n",
      "74\tNot Prime\n",
      "75\tNot Prime\n",
      "76\tNot Prime\n",
      "77\tNot Prime\n",
      "78\tNot Prime\n",
      "79\tPrime\n",
      "80\tNot Prime\n",
      "81\tNot Prime\n",
      "82\tNot Prime\n",
      "83\tPrime\n",
      "84\tNot Prime\n",
      "85\tNot Prime\n",
      "86\tNot Prime\n",
      "87\tNot Prime\n",
      "88\tNot Prime\n",
      "89\tPrime\n",
      "90\tNot Prime\n",
      "91\tNot Prime\n",
      "92\tNot Prime\n",
      "93\tNot Prime\n",
      "94\tNot Prime\n",
      "95\tNot Prime\n",
      "96\tNot Prime\n",
      "97\tPrime\n",
      "98\tNot Prime\n",
      "99\tNot Prime\n",
      "100\tNot Prime\n"
     ]
    }
   ],
   "source": [
    "# creates the main function\n",
    "def main():\n",
    "    # creates a for loop in range of 1 to 100\n",
    "    for check in range(1,101,1):\n",
    "        # creates an if statement that references the is_prime function\n",
    "        if is_prime(check):\n",
    "            # prints a formatted f string\n",
    "            print(f\"{check}\\tPrime\")\n",
    "        # creates an else statement\n",
    "        else:\n",
    "            # prints a formatted f string\n",
    "            print(f\"{check}\\tNot Prime\")\n",
    "# calls and executes the main function\n",
    "main()"
   ]
  },
  {
   "cell_type": "markdown",
   "id": "9afc4cd5",
   "metadata": {},
   "source": [
    "#### High Level Overview\n",
    "\n",
    "First I create the main function. Inside the main function I create a for loop in the range of 1 to 100. After I created a if statement that uses the is_prime function in the previous programming exercise to check if it is a prime. It will then print the number and if it is prime. If it is false it will print the number and that is is not prime. In the end we call and execute the main function."
   ]
  },
  {
   "cell_type": "markdown",
   "id": "cd95b61d",
   "metadata": {},
   "source": [
    "### Programming Exercise 19 (Random Number Guessing Game)\n",
    "\n",
    "The textbook asks us to write a program that generates a random number in the range of 1 through 100, and asks the user to guess what the number is. If the user’s guess is higher than the random number, the program should display “Too high, try again.” If the user’s guess is lower than the random number, the program should display “Too low, try again.” If the user guesses the number, the application should congratulate the user and generate a new random number so the game can start over."
   ]
  },
  {
   "cell_type": "code",
   "execution_count": 6,
   "id": "10c6f59b",
   "metadata": {},
   "outputs": [
    {
     "name": "stdout",
     "output_type": "stream",
     "text": [
      "Please enter your guess: 50\n",
      "Your guess is too big, try again\n",
      "Please enter your guess: 25\n",
      "Your guess is too small, try again\n",
      "Please enter your guess: 37\n",
      "Your guess is too big, try again\n",
      "Please enter your guess: 30\n",
      "Your guess is too small, try again\n",
      "Please enter your guess: 35\n",
      "Your guess is too big, try again\n",
      "Please enter your guess: 33\n",
      "Congrats!\n",
      "It took you 6 trys!\n",
      "Do you want to play again (Y/N): Y\n",
      "Please enter your guess: 50\n",
      "Your guess is too big, try again\n",
      "Please enter your guess: 25\n",
      "Your guess is too small, try again\n",
      "Please enter your guess: 37\n",
      "Your guess is too big, try again\n",
      "Please enter your guess: 33\n",
      "Your guess is too big, try again\n",
      "Please enter your guess: 27\n",
      "Your guess is too small, try again\n",
      "Please enter your guess: 29\n",
      "Your guess is too big, try again\n",
      "Please enter your guess: 28\n",
      "Congrats!\n",
      "It took you 7 trys!\n",
      "Do you want to play again (Y/N): N\n"
     ]
    }
   ],
   "source": [
    "# imports the random module\n",
    "import random\n",
    "# creates the main functions\n",
    "def main():\n",
    "    # creates a while loop that happens when true\n",
    "    while True:\n",
    "        # defines the variable randomNum as a random number 1 through 100\n",
    "        randomNum = random.randint(1,100)\n",
    "        guesses = 0\n",
    "        # creates a while loop that happens when true\n",
    "        while True:\n",
    "            # defines the variable guess as an integer input\n",
    "            guess = int(input(\"Please enter your guess: \"))\n",
    "            guesses += 1\n",
    "            # creates an if statement that checks if larger\n",
    "            if guess > randomNum:\n",
    "                # prints a statement\n",
    "                print(\"Your guess is too big, try again\")\n",
    "            # creates an elif statement that checks if smaller\n",
    "            elif guess < randomNum:\n",
    "                # prints a statement\n",
    "                print(\"Your guess is too small, try again\")\n",
    "            # creates an else statement that will happen if correct\n",
    "            else:\n",
    "                # prints a statement\n",
    "                print(\"Congrats!\")\n",
    "                print(f\"It took you {guesses} trys!\")\n",
    "                # breaks the loop\n",
    "                break\n",
    "        # defines the variable as the input\n",
    "        play_again = input(\"Do you want to play again (Y/N): \")\n",
    "        # creates an if statement that check if it is not to play again\n",
    "        if play_again != \"Y\":\n",
    "            # breaks the loop\n",
    "            break\n",
    "# calls and executes the main function\n",
    "main()"
   ]
  },
  {
   "cell_type": "markdown",
   "id": "f2655769",
   "metadata": {},
   "source": [
    "#### High Level Overview\n",
    "\n",
    "First we import the random module. After we create the main function. Inside the main function we have a while loop that will create a random number 1 through 100 and assign it to the variable randomNum. Inside of that while loop we have a nested while loop that asks for the users input and assigns it to the variable guess. Then we make the if elif else statements that will print when true. If the else happens because the user got the number correct than it will break the loop and move on to ask the user if they want to play again. Then there is a small if statement that will break the loop if the user doesn't want to play again. At the end we call and execute the main function.\n",
    "\n",
    "###### At first I tried to do my looping using continue statements instead of breaks but it would just loop forever, so I used break. An issue I had was I used the wrong greater or than than symblols inside the print statements so it would tell the user that is was too large when in reality it was too small."
   ]
  },
  {
   "cell_type": "code",
   "execution_count": null,
   "id": "95e012a7",
   "metadata": {},
   "outputs": [],
   "source": []
  }
 ],
 "metadata": {
  "kernelspec": {
   "display_name": "Python 3 (ipykernel)",
   "language": "python",
   "name": "python3"
  },
  "language_info": {
   "codemirror_mode": {
    "name": "ipython",
    "version": 3
   },
   "file_extension": ".py",
   "mimetype": "text/x-python",
   "name": "python",
   "nbconvert_exporter": "python",
   "pygments_lexer": "ipython3",
   "version": "3.11.7"
  }
 },
 "nbformat": 4,
 "nbformat_minor": 5
}
