{
 "cells": [
  {
   "cell_type": "markdown",
   "id": "dd86247b",
   "metadata": {},
   "source": [
    "# Coding Set 5\n",
    "\n",
    "Colin Fitzgerald\n",
    "\n",
    "6/16/2024\n",
    "\n",
    "Algorithm Workbench problems 6 and 7, as well as Programming Exercises 1, 16, 17, and 19\n",
    "\n",
    "##### Iteration is shown throughout GitHub History and my high level explanations"
   ]
  },
  {
   "cell_type": "markdown",
   "id": "774e59fa",
   "metadata": {},
   "source": [
    "### Algorithm Workbench 6\n",
    "\n",
    "The textbook asks us to write a statement that generates a random number in the range of 1 through 100 and assigns it to a variable named rand"
   ]
  },
  {
   "cell_type": "code",
   "execution_count": null,
   "id": "8eca2c8a",
   "metadata": {},
   "outputs": [],
   "source": [
    "# imports the random module\n",
    "import random\n",
    "# creates the main function\n",
    "def main():\n",
    "    # defines the local variable rand as a random number 1 through 100\n",
    "    rand = random.randint(1,100)\n",
    "    # prints an f string 1 through 100\n",
    "    print(f\"The random number 1 through 100 is {rand}\")\n",
    "# calls and executes the main function\n",
    "main()"
   ]
  },
  {
   "cell_type": "markdown",
   "id": "f3f31ef8",
   "metadata": {},
   "source": [
    "#### High Level Overview\n",
    "\n",
    "First we have to import the random module, then we create the main function. Inside the main function we define the variable rand as a random number 1 through 100. It then prints a formatted f string"
   ]
  },
  {
   "cell_type": "markdown",
   "id": "4b9e56f6",
   "metadata": {},
   "source": [
    "### Algorithm Workbench 7\n",
    "\n",
    "The textbook asks us to write code for a function that would make it function"
   ]
  },
  {
   "cell_type": "code",
   "execution_count": null,
   "id": "69773aa6",
   "metadata": {},
   "outputs": [],
   "source": [
    "# creates the main function\n",
    "def main():\n",
    "    # defines the variable number as an integer from input\n",
    "    number = int(input(\"Please input a number: \"))\n",
    "    # defines the variable result from calling the function half with the number from the input\n",
    "    result = half(number)\n",
    "    # prints an f string that formats the print\n",
    "    print(f\"{number} split in half is {int(result)}\")\n",
    "# creates the half function\n",
    "def half(div):\n",
    "    # returns the number devided by 2\n",
    "    return div / 2\n",
    "# calls and executes the main function   \n",
    "main()"
   ]
  },
  {
   "cell_type": "markdown",
   "id": "1df5fa6e",
   "metadata": {},
   "source": [
    "#### High Level Overview\n",
    "\n"
   ]
  },
  {
   "cell_type": "markdown",
   "id": "8d16645b",
   "metadata": {},
   "source": [
    "### Programming Exercise 1 (Kilometer Converter)\n",
    "\n",
    "Write a program that asks the user to enter a distance in kilometers, then uses a function to convert that distance to miles. The conversion formula is as follows:\n",
    "\n",
    "$Miles = Kilometers * 0.6214$"
   ]
  },
  {
   "cell_type": "code",
   "execution_count": 1,
   "id": "c9c2fbf3",
   "metadata": {},
   "outputs": [
    {
     "name": "stdout",
     "output_type": "stream",
     "text": [
      "Please enter the amount of Kilometers: 98\n",
      "98 Kilometers is 60.90 Miles\n"
     ]
    }
   ],
   "source": [
    "# creates a global variable\n",
    "conversion = 0.6214\n",
    "# creates the main function\n",
    "def main():\n",
    "    # defines the variable kilometer as an integer input\n",
    "    kilometer = int(input(\"Please enter the amount of Kilometers: \"))\n",
    "    # defines the variable miles as the function output with the input of kilometers\n",
    "    Miles = converter(kilometer)\n",
    "    # prints an formatted f string\n",
    "    print(f\"{kilometer} Kilometers is {Miles:.2f} Miles\")\n",
    "# creates the converter function\n",
    "def converter(kilo):\n",
    "    # returns the conversion\n",
    "    return kilo * conversion\n",
    "# calls and executes the main function\n",
    "main()"
   ]
  },
  {
   "cell_type": "markdown",
   "id": "c6072da6",
   "metadata": {},
   "source": [
    "#### High Level Overview\n",
    "\n"
   ]
  },
  {
   "cell_type": "markdown",
   "id": "b802ab00",
   "metadata": {},
   "source": [
    "### Programming Exercise 16 (Prime Numbers)\n",
    "\n",
    "The textbook asks us to write a Boolean function which takes an integer as an argument and returns true if the argument is a prime number, or false otherwise. Use the function in a program that prompts the user to enter a number then displays a message indicating whether the number is prime."
   ]
  },
  {
   "cell_type": "code",
   "execution_count": 2,
   "id": "5fe0540d",
   "metadata": {},
   "outputs": [
    {
     "name": "stdout",
     "output_type": "stream",
     "text": [
      "Please input a number: 73621\n",
      "73621 is not a prime number\n"
     ]
    }
   ],
   "source": [
    "# creates the function is_prime\n",
    "def is_prime(num):\n",
    "    # creates an if statement that will not allow an input less than 1\n",
    "    if num <= 1:\n",
    "        # returns False if the if is true\n",
    "        return False\n",
    "    # creates a for loop in range of 2 to the number being checked\n",
    "    for i in range(2, num):\n",
    "        # creates an if statement to check if it is divisable by any number in the range\n",
    "        if num % i == 0:\n",
    "            # returns false if it is true\n",
    "            return False\n",
    "    # returns true if it true\n",
    "    return True\n",
    "# creates the main function\n",
    "def main():\n",
    "    # defines the variable number as the integer input \n",
    "    number = int(input(\"Please input a number: \"))\n",
    "    # if statement that calls the is_prime function\n",
    "    if is_prime(number):\n",
    "        # prints that it is a prime number\n",
    "        print(f\"{int(number)} is a prime number\")\n",
    "    # if not then is it not a prime number\n",
    "    else:\n",
    "        # prints that it is not a prime number\n",
    "        print(f\"{int(number)} is not a prime number\")\n",
    "# calls and executes the main function     \n",
    "main()"
   ]
  },
  {
   "cell_type": "markdown",
   "id": "f3967a3e",
   "metadata": {},
   "source": [
    "#### High Level Overview\n",
    "\n",
    "issue with false vs False in boolean"
   ]
  },
  {
   "cell_type": "markdown",
   "id": "078377df",
   "metadata": {},
   "source": [
    "### Programming Exercise 17 (Prime Number List)\n",
    "\n",
    "The textbook asks us to write another program that displays all of the prime numbers from 1 to 100. The program should have a loop that calls to a prevoius function."
   ]
  },
  {
   "cell_type": "code",
   "execution_count": null,
   "id": "ec195bda",
   "metadata": {},
   "outputs": [],
   "source": [
    "# creates the main function\n",
    "def main():\n",
    "    # creates a for loop in range of 1 to 100\n",
    "    for check in range(1,101,1):\n",
    "        # creates an if statement that references the is_prime function\n",
    "        if is_prime(check):\n",
    "            # prints a formatted f string\n",
    "            print(f\"{check}\\tPrime\")\n",
    "        # creates an else statement\n",
    "        else:\n",
    "            # prints a formatted f string\n",
    "            print(f\"{check}\\tNot Prime\")\n",
    "# calls and executes the main function\n",
    "main()"
   ]
  },
  {
   "cell_type": "markdown",
   "id": "cd9a455d",
   "metadata": {},
   "source": [
    "#### High Level Overview\n",
    "\n"
   ]
  },
  {
   "cell_type": "markdown",
   "id": "3338fc8f",
   "metadata": {},
   "source": [
    "### Programming Exercise 19 (Random Number Guessing Game)\n",
    "\n",
    "The textbook asks us to write a program that generates a random number in the range of 1 through 100, and asks the user to guess what the number is. If the user’s guess is higher than the random number, the program should display “Too high, try again.” If the user’s guess is lower than the random number, the program should display “Too low, try again.” If the user guesses the number, the application should congratulate the user and generate a new random number so the game can start over."
   ]
  },
  {
   "cell_type": "code",
   "execution_count": 3,
   "id": "a14af1fb",
   "metadata": {},
   "outputs": [
    {
     "name": "stdout",
     "output_type": "stream",
     "text": [
      "Please enter your guess: 50\n",
      "Your guess is too big, try again\n",
      "Please enter your guess: 25\n",
      "Your guess is too small, try again\n",
      "Please enter your guess: 37\n",
      "Your guess is too small, try again\n",
      "Please enter your guess: 32\n",
      "Your guess is too small, try again\n",
      "Please enter your guess: 45\n",
      "Your guess is too big, try again\n",
      "Please enter your guess: 43\n",
      "Your guess is too small, try again\n",
      "Please enter your guess: 42\n",
      "Your guess is too small, try again\n",
      "Please enter your guess: 44\n",
      "Congrats!\n",
      "Do you want to play again (Y/N): N\n"
     ]
    }
   ],
   "source": [
    "# imports the random module\n",
    "import random\n",
    "# creates the main functions\n",
    "def main():\n",
    "    # creates a while loop that happens when true\n",
    "    while True:\n",
    "        # defines the variable randomNum as a random number 1 through 100\n",
    "        randomNum = random.randint(1,100)\n",
    "        # creates a while loop that happens when true\n",
    "        while True:\n",
    "            # defines the variable guess as an integer input\n",
    "            guess = int(input(\"Please enter your guess: \"))\n",
    "            # creates an if statement that checks if larger\n",
    "            if guess > randomNum:\n",
    "                # prints a statement\n",
    "                print(\"Your guess is too big, try again\")\n",
    "            # creates an elif statement that checks if smaller\n",
    "            elif guess < randomNum:\n",
    "                # prints a statement\n",
    "                print(\"Your guess is too small, try again\")\n",
    "            # creates an else statement that will happen if correct\n",
    "            else:\n",
    "                # prints a statement\n",
    "                print(\"Congrats!\")\n",
    "                # breaks the loop\n",
    "                break\n",
    "        # defines the variable as the input\n",
    "        play_again = input(\"Do you want to play again (Y/N): \")\n",
    "        # creates an if statement that check if it is not to play again\n",
    "        if play_again != \"Y\":\n",
    "            # breaks the loop\n",
    "            break\n",
    "# calls and executes the main function\n",
    "main()"
   ]
  },
  {
   "cell_type": "markdown",
   "id": "8fa353b7",
   "metadata": {},
   "source": [
    "#### High Level Overview\n",
    "\n",
    "Tried looping by continue but it would just loop forever. So using break instead. I had used the wrong > < symblols and print statements"
   ]
  },
  {
   "cell_type": "code",
   "execution_count": null,
   "id": "e62dac86",
   "metadata": {},
   "outputs": [],
   "source": []
  }
 ],
 "metadata": {
  "kernelspec": {
   "display_name": "Python 3 (ipykernel)",
   "language": "python",
   "name": "python3"
  },
  "language_info": {
   "codemirror_mode": {
    "name": "ipython",
    "version": 3
   },
   "file_extension": ".py",
   "mimetype": "text/x-python",
   "name": "python",
   "nbconvert_exporter": "python",
   "pygments_lexer": "ipython3",
   "version": "3.11.7"
  }
 },
 "nbformat": 4,
 "nbformat_minor": 5
}
