{
 "cells": [
  {
   "cell_type": "markdown",
   "id": "a5514e56",
   "metadata": {},
   "source": [
    "# Coding Set 5\n",
    "\n",
    "Colin Fitzgerald\n",
    "\n",
    "6/16/2024\n",
    "\n",
    "Algorithm Workbench problems 6 and 7, as well as Programming Exercises 1, 16, 17, and 19\n",
    "\n",
    "##### Iteration is shown throughout GitHub History and my high level explanations"
   ]
  },
  {
   "cell_type": "markdown",
   "id": "96ba2dda",
   "metadata": {},
   "source": [
    "### Algorithm Workbench 6\n",
    "\n",
    "The textbook asks us to write a statement that generates a random number in the range of 1 through 100 and assigns it to a variable named rand"
   ]
  },
  {
   "cell_type": "code",
   "execution_count": 1,
   "id": "2512cdc4",
   "metadata": {},
   "outputs": [],
   "source": [
    "import random\n",
    "\n",
    "rand = random.randint(1,100)"
   ]
  },
  {
   "cell_type": "markdown",
   "id": "eab88b60",
   "metadata": {},
   "source": [
    "### Algorithm Workbench 7\n",
    "\n",
    "The textbook asks us to write code for a function that would make it function"
   ]
  },
  {
   "cell_type": "code",
   "execution_count": 2,
   "id": "76ecd5f7",
   "metadata": {},
   "outputs": [
    {
     "ename": "NameError",
     "evalue": "name 'number' is not defined",
     "output_type": "error",
     "traceback": [
      "\u001b[0;31m---------------------------------------------------------------------------\u001b[0m",
      "\u001b[0;31mNameError\u001b[0m                                 Traceback (most recent call last)",
      "Cell \u001b[0;32mIn[2], line 8\u001b[0m\n\u001b[1;32m      5\u001b[0m \u001b[38;5;28;01mdef\u001b[39;00m \u001b[38;5;21mhalf\u001b[39m(div):\n\u001b[1;32m      6\u001b[0m     \u001b[38;5;28;01mreturn\u001b[39;00m div \u001b[38;5;241m/\u001b[39m \u001b[38;5;241m2\u001b[39m\n\u001b[0;32m----> 8\u001b[0m main()\n",
      "Cell \u001b[0;32mIn[2], line 2\u001b[0m, in \u001b[0;36mmain\u001b[0;34m()\u001b[0m\n\u001b[1;32m      1\u001b[0m \u001b[38;5;28;01mdef\u001b[39;00m \u001b[38;5;21mmain\u001b[39m():\n\u001b[0;32m----> 2\u001b[0m     result \u001b[38;5;241m=\u001b[39m half(number)\n\u001b[1;32m      3\u001b[0m     \u001b[38;5;28mprint\u001b[39m(result)\n",
      "\u001b[0;31mNameError\u001b[0m: name 'number' is not defined"
     ]
    }
   ],
   "source": [
    "\n",
    "def main():\n",
    "    result = half(number)\n",
    "    print(result)\n",
    "    \n",
    "def half(div):\n",
    "    return div / 2\n",
    "    \n",
    "main()"
   ]
  },
  {
   "cell_type": "markdown",
   "id": "9b001e89",
   "metadata": {},
   "source": [
    "### Programming Exercise 1 (Kilometer Converter)\n",
    "\n",
    "Write a program that asks the user to enter a distance in kilometers, then uses a function to convert that distance to miles. The conversion formula is as follows:\n",
    "\n",
    "$Miles = Kilometers * 0.6214$"
   ]
  },
  {
   "cell_type": "code",
   "execution_count": null,
   "id": "771acd20",
   "metadata": {},
   "outputs": [],
   "source": [
    "conversion = 0.6214\n",
    "def main():\n",
    "    kilometer = int(input(\"Please enter the amount of Kilometers: \"))\n",
    "    Miles = converter(kilometer)\n",
    "    print(Miles)\n",
    "\n",
    "def converter(kilo):\n",
    "    return kilo * conversion\n",
    "\n",
    "main()"
   ]
  },
  {
   "cell_type": "markdown",
   "id": "59681dbf",
   "metadata": {},
   "source": [
    "### Programming Exercise 16 (Prime Numbers)\n",
    "\n",
    "The textbook asks us to write a Boolean function which takes an integer as an argument and returns true if the argument is a prime number, or false otherwise. Use the function in a program that prompts the user to enter a number then displays a message indicating whether the number is prime."
   ]
  },
  {
   "cell_type": "code",
   "execution_count": null,
   "id": "9f7450bc",
   "metadata": {},
   "outputs": [],
   "source": [
    "def is_prime(num):\n",
    "    if num <= 1:\n",
    "        return False\n",
    "    for i in range(2, num):\n",
    "        if num % i == 0:\n",
    "            return False\n",
    "    return True\n",
    "\n",
    "def main():\n",
    "    number = int(input(\"Please input a number: \"))\n",
    "    if is_prime(number):\n",
    "        print(f\"{number} is a prime number\")\n",
    "    else:\n",
    "        print(f\"{number} is not a prime number\")\n",
    "        \n",
    "main()"
   ]
  },
  {
   "cell_type": "markdown",
   "id": "d4be90e3",
   "metadata": {},
   "source": [
    "issue with false vs False in boolean"
   ]
  },
  {
   "cell_type": "markdown",
   "id": "a11f079f",
   "metadata": {},
   "source": [
    "### Programming Exercise 17 (Prime Number List)\n",
    "\n",
    "The textbook asks us to write another program that displays all of the prime numbers from 1 to 100. The program should have a loop that calls to a prevoius function."
   ]
  },
  {
   "cell_type": "code",
   "execution_count": null,
   "id": "a0473e12",
   "metadata": {},
   "outputs": [],
   "source": [
    "def main():\n",
    "    for check in range(1,101,1):\n",
    "        if is_prime(check):\n",
    "            print(f\"{check}\\tPrime\")\n",
    "        else:\n",
    "            print(f\"{check}\\tNot Prime\")\n",
    "main()"
   ]
  },
  {
   "cell_type": "markdown",
   "id": "b887158c",
   "metadata": {},
   "source": [
    "### Programming Exercise 19 (Random Number Guessing Game)\n",
    "\n",
    "The textbook asks us to write a program that generates a random number in the range of 1 through 100, and asks the user to guess what the number is. If the user’s guess is higher than the random number, the program should display “Too high, try again.” If the user’s guess is lower than the random number, the program should display “Too low, try again.” If the user guesses the number, the application should congratulate the user and generate a new random number so the game can start over."
   ]
  },
  {
   "cell_type": "code",
   "execution_count": null,
   "id": "5170952c",
   "metadata": {},
   "outputs": [
    {
     "name": "stdout",
     "output_type": "stream",
     "text": [
      "Please enter your guess: 100\n",
      "Your guess is too small, try again\n",
      "Please enter your guess: 10\n",
      "Your guess is too big, try again\n"
     ]
    }
   ],
   "source": [
    "import random\n",
    "\n",
    "def main():\n",
    "    while True:\n",
    "        randomNum = random.randint(1,100)\n",
    "        \n",
    "        while True:\n",
    "            guess = int(input(\"Please enter your guess: \"))\n",
    "            if guess > randomNum:\n",
    "                print(\"Your guess is too small, try again\")\n",
    "            elif guess < randomNum:\n",
    "                print(\"Your guess is too big, try again\")\n",
    "            else:\n",
    "                print(\"Congrats!\")\n",
    "                break\n",
    "                \n",
    "        play_again = input(\"Do you want to play again (Y/N): \")\n",
    "            \n",
    "        if play_again != \"Y\":\n",
    "            break\n",
    "        \n",
    "main()"
   ]
  },
  {
   "cell_type": "markdown",
   "id": "915eb061",
   "metadata": {},
   "source": [
    "Tried looping by continue but it would just loop forever. So using break instead. I had used the wrong > < symblols and print statements"
   ]
  },
  {
   "cell_type": "code",
   "execution_count": null,
   "id": "a7e64c98",
   "metadata": {},
   "outputs": [],
   "source": []
  }
 ],
 "metadata": {
  "kernelspec": {
   "display_name": "Python 3 (ipykernel)",
   "language": "python",
   "name": "python3"
  },
  "language_info": {
   "codemirror_mode": {
    "name": "ipython",
    "version": 3
   },
   "file_extension": ".py",
   "mimetype": "text/x-python",
   "name": "python",
   "nbconvert_exporter": "python",
   "pygments_lexer": "ipython3",
   "version": "3.11.7"
  }
 },
 "nbformat": 4,
 "nbformat_minor": 5
}
