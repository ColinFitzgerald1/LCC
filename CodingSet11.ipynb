{
 "cells": [
  {
   "cell_type": "markdown",
   "id": "b3fb0877-fa94-4bb7-8a17-4edd32c9ab1c",
   "metadata": {},
   "source": [
    "# Coding Set 11\n",
    "\n",
    "Colin Fitzgerald\n",
    "\n",
    "7/28/2024\n",
    "\n",
    "Programming Exercises 1 and 3\n",
    "\n",
    "##### Iteration is show through Snagit and some github"
   ]
  },
  {
   "cell_type": "markdown",
   "id": "d537d4dc-0127-40f7-adc0-2cdea6c90900",
   "metadata": {},
   "source": [
    "### Programming Exercise 1\n",
    "\n",
    "The textbook asks us to write a class that keeps data attributes for two data points as well as writing a subclass that contains another two data attributes for two more points of data. It should then ask for the inputs for the data, and then print the information back as an output."
   ]
  },
  {
   "cell_type": "code",
   "execution_count": 63,
   "id": "6c418c8b-10b8-4a8c-940d-178a222c7cc4",
   "metadata": {},
   "outputs": [],
   "source": [
    "import productionWorker\n",
    "\n",
    "def main():\n",
    "    #name, number, shift_number, hourly\n",
    "    name_input = input(\"Please enter your name\")\n",
    "    number_input = int(input(\"Please enter your employee number\"))\n",
    "    shift_number_input = int(input(\"Please enter your shift number\"))\n",
    "    hourly_input = float(input(\"Please enter your hourly wage\"))\n",
    "\n",
    "    Worker = ProductionWorker(name_input, number_input, shift_number_input, hourly_input)\n",
    "\n",
    "    print(\"\\nHere is some information about this employee\")\n",
    "    "
   ]
  },
  {
   "cell_type": "markdown",
   "id": "6ca2e57f-8f75-47ca-b20e-5d482f204f6e",
   "metadata": {},
   "source": [
    "#### High Level Overview\n",
    "\n"
   ]
  },
  {
   "cell_type": "markdown",
   "id": "0a6e3cbd-6550-443b-9331-842388509a5b",
   "metadata": {},
   "source": [
    "### Programming Exercise 3\n",
    "\n",
    "The textbook asks us to write a class that keeps three data attributes about a person and then create a subclass that contains two more attributes and then create a instance."
   ]
  },
  {
   "cell_type": "code",
   "execution_count": 65,
   "id": "009e9371-25c9-4f09-aa7b-31a43c6422e4",
   "metadata": {},
   "outputs": [],
   "source": [
    "import customer\n",
    "\n",
    "# name, adress, number, customer_number, mailing_list\n",
    "def main():\n",
    "    name_input = input(\"Please enter the name\")\n",
    "    address_input = input(\"Please enter the address\")\n",
    "    number_input = input(\"Please enter the phone number\")\n",
    "    customer_number_input = int(input(\"Please enter the customer number\"))\n",
    "\n",
    "    Customer1 = Customer(name_input, address_input, number_input, customer_number_input, False)"
   ]
  },
  {
   "cell_type": "markdown",
   "id": "4a18b33d-e362-4604-a34b-b5c39ee9a67d",
   "metadata": {},
   "source": [
    "#### High Level Overview\n",
    "\n"
   ]
  }
 ],
 "metadata": {
  "kernelspec": {
   "display_name": "Python 3 (ipykernel)",
   "language": "python",
   "name": "python3"
  },
  "language_info": {
   "codemirror_mode": {
    "name": "ipython",
    "version": 3
   },
   "file_extension": ".py",
   "mimetype": "text/x-python",
   "name": "python",
   "nbconvert_exporter": "python",
   "pygments_lexer": "ipython3",
   "version": "3.11.7"
  }
 },
 "nbformat": 4,
 "nbformat_minor": 5
}
