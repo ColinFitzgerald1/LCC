{
 "cells": [
  {
   "cell_type": "markdown",
   "id": "2645b744",
   "metadata": {},
   "source": [
    "# Coding Set 1\n",
    "Colin Fitzgerald\n",
    "\n",
    "05/17/24\n",
    "\n",
    "Excersises 1, 3 , and 4 from the Textbook"
   ]
  },
  {
   "cell_type": "markdown",
   "id": "3abaabe6",
   "metadata": {},
   "source": [
    "### Chapter 1 Excercise 1"
   ]
  },
  {
   "cell_type": "code",
   "execution_count": 1,
   "id": "4c3bf09c",
   "metadata": {},
   "outputs": [
    {
     "name": "stdout",
     "output_type": "stream",
     "text": [
      "This is a test of the Python interpreter\n"
     ]
    }
   ],
   "source": [
    "# Textbook asks for this prompt to be printed\n",
    "print('This is a test of the Python interpreter')"
   ]
  },
  {
   "cell_type": "markdown",
   "id": "589faeaa",
   "metadata": {},
   "source": [
    "#### Playing with the print function"
   ]
  },
  {
   "cell_type": "code",
   "execution_count": 3,
   "id": "4078a087",
   "metadata": {},
   "outputs": [
    {
     "name": "stdout",
     "output_type": "stream",
     "text": [
      "I love both, cats and dogs\n"
     ]
    }
   ],
   "source": [
    "# Trying to combine two strings\n",
    "print('I love both,' ' cats and dogs')"
   ]
  },
  {
   "cell_type": "code",
   "execution_count": 4,
   "id": "046e19fb",
   "metadata": {},
   "outputs": [
    {
     "name": "stdout",
     "output_type": "stream",
     "text": [
      "12.0\n"
     ]
    }
   ],
   "source": [
    "# Using numbers instead of strings\n",
    "print(30/15 + 10)"
   ]
  },
  {
   "cell_type": "code",
   "execution_count": 5,
   "id": "c13d2f6a",
   "metadata": {},
   "outputs": [
    {
     "name": "stdout",
     "output_type": "stream",
     "text": [
      "8\n"
     ]
    }
   ],
   "source": [
    "# Attempting to use different methods of multiplication\n",
    "print(2**3)"
   ]
  },
  {
   "cell_type": "markdown",
   "id": "f6ca718f",
   "metadata": {},
   "source": [
    "### Chapter 1 Excercise 3\n",
    "\n",
    "Textbooks asks for the conversion of four numbers into binary"
   ]
  },
  {
   "cell_type": "markdown",
   "id": "cf1c85ff",
   "metadata": {},
   "source": [
    "#### 11 is 1011\n",
    "\n",
    "It is odd so the first digit on the right has to be 1, and the rest of the digits have to add to 10. Therefore we can use the 2 and 8. After everying is added (1 + 2 + 8), we receive the correct number of 11 and the binary is 1011."
   ]
  },
  {
   "cell_type": "markdown",
   "id": "730531cc",
   "metadata": {},
   "source": [
    "#### 65 is 1000001\n",
    "\n",
    "It is odd so the first digit on the right has to be 1, and the rest of the digits have to add to or be 64. As the 7th digit of binary is 64 the binary would be 1000001"
   ]
  },
  {
   "cell_type": "markdown",
   "id": "e226b0c6",
   "metadata": {},
   "source": [
    "#### 100 is 1100100\n",
    "\n",
    "It is even so the first digit on the right has to be 0 and the rest of the digits have to add to 100. We can use the "
   ]
  },
  {
   "cell_type": "markdown",
   "id": "7331b7d8",
   "metadata": {},
   "source": [
    "#### 255 is 11111111\n",
    "\n",
    "As 255 is the 8 bit interger limit as described in the textbook, it means that every digit in the binary is on. Therefore the binary is 11111111 (or eight 1's)."
   ]
  },
  {
   "cell_type": "code",
   "execution_count": null,
   "id": "cd8c1158",
   "metadata": {},
   "outputs": [],
   "source": []
  }
 ],
 "metadata": {
  "kernelspec": {
   "display_name": "Python 3 (ipykernel)",
   "language": "python",
   "name": "python3"
  },
  "language_info": {
   "codemirror_mode": {
    "name": "ipython",
    "version": 3
   },
   "file_extension": ".py",
   "mimetype": "text/x-python",
   "name": "python",
   "nbconvert_exporter": "python",
   "pygments_lexer": "ipython3",
   "version": "3.11.7"
  }
 },
 "nbformat": 4,
 "nbformat_minor": 5
}
