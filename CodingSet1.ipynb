{
 "cells": [
  {
   "cell_type": "markdown",
   "id": "2d7cdca5",
   "metadata": {},
   "source": [
    "# Coding Set 1\n",
    "Colin Fitzgerald\n",
    "\n",
    "05/17/24\n",
    "\n",
    "Excersises 1, 3 , and 4 from the Textbook"
   ]
  },
  {
   "cell_type": "markdown",
   "id": "137e85d5",
   "metadata": {},
   "source": [
    "### Chapter 1 Excercise 1"
   ]
  },
  {
   "cell_type": "code",
   "execution_count": 1,
   "id": "63ef9eb6",
   "metadata": {},
   "outputs": [
    {
     "name": "stdout",
     "output_type": "stream",
     "text": [
      "This is a test of the Python interpreter\n"
     ]
    }
   ],
   "source": [
    "# Textbook asks for this prompt to be printed\n",
    "print('This is a test of the Python interpreter')"
   ]
  },
  {
   "cell_type": "markdown",
   "id": "4e03b7c2",
   "metadata": {},
   "source": [
    "#### Playing with the print function"
   ]
  },
  {
   "cell_type": "code",
   "execution_count": 3,
   "id": "61aac543",
   "metadata": {},
   "outputs": [
    {
     "name": "stdout",
     "output_type": "stream",
     "text": [
      "I love both, cats and dogs\n"
     ]
    }
   ],
   "source": [
    "# Trying to combine two strings\n",
    "print('I love both,' ' cats and dogs')"
   ]
  },
  {
   "cell_type": "code",
   "execution_count": 4,
   "id": "900d43c3",
   "metadata": {},
   "outputs": [
    {
     "name": "stdout",
     "output_type": "stream",
     "text": [
      "12.0\n"
     ]
    }
   ],
   "source": [
    "# Using numbers instead of strings\n",
    "print(30/15 + 10)"
   ]
  },
  {
   "cell_type": "code",
   "execution_count": 5,
   "id": "cbc9b751",
   "metadata": {},
   "outputs": [
    {
     "name": "stdout",
     "output_type": "stream",
     "text": [
      "8\n"
     ]
    }
   ],
   "source": [
    "# Attempting to use different methods of multiplication\n",
    "print(2**3)"
   ]
  },
  {
   "cell_type": "code",
   "execution_count": null,
   "id": "2d221b37",
   "metadata": {},
   "outputs": [],
   "source": []
  }
 ],
 "metadata": {
  "kernelspec": {
   "display_name": "Python 3 (ipykernel)",
   "language": "python",
   "name": "python3"
  },
  "language_info": {
   "codemirror_mode": {
    "name": "ipython",
    "version": 3
   },
   "file_extension": ".py",
   "mimetype": "text/x-python",
   "name": "python",
   "nbconvert_exporter": "python",
   "pygments_lexer": "ipython3",
   "version": "3.11.7"
  }
 },
 "nbformat": 4,
 "nbformat_minor": 5
}
