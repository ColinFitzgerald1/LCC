{
 "cells": [
  {
   "cell_type": "markdown",
   "id": "15bce382",
   "metadata": {},
   "source": [
    "# Coding Set 1\n",
    "Colin Fitzgerald\n",
    "\n",
    "05/17/24\n",
    "\n",
    "Exercises 1, 3 , and 4 from the Textbook"
   ]
  },
  {
   "cell_type": "markdown",
   "id": "63c8113b",
   "metadata": {},
   "source": [
    "### Chapter 1 Exercise 1"
   ]
  },
  {
   "cell_type": "code",
   "execution_count": 1,
   "id": "406f6e88",
   "metadata": {},
   "outputs": [
    {
     "name": "stdout",
     "output_type": "stream",
     "text": [
      "This is a test of the Python interpreter\n"
     ]
    }
   ],
   "source": [
    "# Textbook asks for this prompt to be printed\n",
    "print('This is a test of the Python interpreter')"
   ]
  },
  {
   "cell_type": "markdown",
   "id": "c0913343",
   "metadata": {},
   "source": [
    "#### Playing with the print function"
   ]
  },
  {
   "cell_type": "code",
   "execution_count": 2,
   "id": "2b640e2e",
   "metadata": {},
   "outputs": [
    {
     "name": "stdout",
     "output_type": "stream",
     "text": [
      "I love both, cats and dogs\n"
     ]
    }
   ],
   "source": [
    "# Trying to combine two strings\n",
    "print('I love both,' ' cats and dogs')"
   ]
  },
  {
   "cell_type": "code",
   "execution_count": 3,
   "id": "a7b95ac6",
   "metadata": {},
   "outputs": [
    {
     "name": "stdout",
     "output_type": "stream",
     "text": [
      "12.0\n"
     ]
    }
   ],
   "source": [
    "# Using numbers instead of strings\n",
    "print(30/15 + 10)"
   ]
  },
  {
   "cell_type": "code",
   "execution_count": 4,
   "id": "803bf3b8",
   "metadata": {},
   "outputs": [
    {
     "name": "stdout",
     "output_type": "stream",
     "text": [
      "8\n"
     ]
    }
   ],
   "source": [
    "# Attempting to use different methods of multiplication\n",
    "print(2**3)"
   ]
  },
  {
   "cell_type": "markdown",
   "id": "c4ea1e5e",
   "metadata": {},
   "source": [
    "### Chapter 1 Exercise 3\n",
    "\n",
    "Textbooks asks for the conversion of four numbers into binary"
   ]
  },
  {
   "cell_type": "markdown",
   "id": "fa00f1e8",
   "metadata": {},
   "source": [
    "#### 11 is 1011\n",
    "\n",
    "It is odd so the first digit on the right has to be 1, and the rest of the digits have to add to 10. Therefore we can use the 2 and 8. After everying is added (1 + 2 + 8), we receive the correct number of 11 and the binary is 1011."
   ]
  },
  {
   "cell_type": "markdown",
   "id": "3f81f651",
   "metadata": {},
   "source": [
    "#### 65 is 1000001\n",
    "\n",
    "It is odd so the first digit on the right has to be 1, and the rest of the digits have to add to or be 64. As the 7th digit of binary is 64 the binary would be 1000001"
   ]
  },
  {
   "cell_type": "markdown",
   "id": "02498fec",
   "metadata": {},
   "source": [
    "#### 100 is 1100100\n",
    "\n",
    "It is even so the first digit on the right has to be 0 and the rest of the digits have to add to 100. We can use the 64, 32, and 4 which will add to 100. Therefore the 100 in binary is 1100100."
   ]
  },
  {
   "cell_type": "markdown",
   "id": "aa8a22df",
   "metadata": {},
   "source": [
    "#### 255 is 11111111\n",
    "\n",
    "As 255 is the 8 bit interger limit as described in the textbook, it means that every digit in the binary is on. Therefore the binary is 11111111 (or eight 1's)."
   ]
  },
  {
   "cell_type": "markdown",
   "id": "ed4f26a4",
   "metadata": {},
   "source": [
    "##### Another easy method is just dividing by two and keeping track of the remainder, but this method of breaking it down makes it easier to explain"
   ]
  },
  {
   "cell_type": "markdown",
   "id": "17cfeb33",
   "metadata": {},
   "source": [
    "### Chapter 1 Exercise 4\n",
    "\n",
    "Textbook asks for the conversion of binary into decimal numbers"
   ]
  },
  {
   "cell_type": "markdown",
   "id": "ec9c7f6c",
   "metadata": {},
   "source": [
    "#### 1101 is 13\n",
    "\n",
    "We know the number is odd due to the first digit on the right being 1, and that the digits 4 and 8 are on. Therefore 4 + 8 + 1 = 13."
   ]
  },
  {
   "cell_type": "markdown",
   "id": "759a200b",
   "metadata": {},
   "source": [
    "#### 1000 is 8\n",
    "\n",
    "The number is even because first digit on the right is 0, and because the 4th number is the only number on, the decimal number is 8."
   ]
  },
  {
   "cell_type": "markdown",
   "id": "b6ec22f8",
   "metadata": {},
   "source": [
    "#### 101011 is 43\n",
    "\n",
    "The number is odd because the first digit on the right is 1, as well as the 2, 8, and 32 digits being on. Therefore the decimal number is 43."
   ]
  },
  {
   "cell_type": "markdown",
   "id": "c2a10048",
   "metadata": {},
   "source": [
    "##### Another easy method is taking 2 and raising it to the power of the digit of the number and multiplying it by 1 or 0 depending on the state of the digit but breaking it down makes it easier to explain"
   ]
  }
 ],
 "metadata": {
  "kernelspec": {
   "display_name": "Python 3 (ipykernel)",
   "language": "python",
   "name": "python3"
  },
  "language_info": {
   "codemirror_mode": {
    "name": "ipython",
    "version": 3
   },
   "file_extension": ".py",
   "mimetype": "text/x-python",
   "name": "python",
   "nbconvert_exporter": "python",
   "pygments_lexer": "ipython3",
   "version": "3.11.7"
  }
 },
 "nbformat": 4,
 "nbformat_minor": 5
}
