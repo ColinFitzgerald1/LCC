{
 "cells": [
  {
   "cell_type": "markdown",
   "id": "52a0079e",
   "metadata": {},
   "source": [
    "# Coding Set 4\n",
    "\n",
    "Colin Fitzgerald\n",
    "\n",
    "6/7/2024\n",
    "\n",
    "Algorithm Workbench problems 5 and 8 as well as programming exercises 1, 4, 12, and 14"
   ]
  },
  {
   "cell_type": "markdown",
   "id": "d20eea70",
   "metadata": {},
   "source": [
    "### Algorithm Workbench 5\n",
    "\n",
    "The textbook asks to write a loop that calculates the total of the following series of numbers\n",
    "\n",
    "$\\frac{1}{30} + \\frac{2}{29} + \\frac{3}{28} + ... \\frac{30}{1}$"
   ]
  },
  {
   "cell_type": "code",
   "execution_count": 1,
   "id": "ad08928b",
   "metadata": {},
   "outputs": [
    {
     "name": "stdout",
     "output_type": "stream",
     "text": [
      "The rounded total is 93.84\n"
     ]
    }
   ],
   "source": [
    "# defining denominator to be to preform operations on it\n",
    "denominator = 30\n",
    "# defining / resetting the variable total to be able to add onto it\n",
    "total = 0\n",
    "# a loop for the numerator that cycles 1 through 30\n",
    "for numerator in range(1, 31):\n",
    "    # creating a variable \"number\" that is the quotient\n",
    "    number = numerator / denominator\n",
    "    # using an augmented assignment operator to create an accumulator\n",
    "    total += number\n",
    "    # redefines the denominator by using a assignment operator to subtract 1\n",
    "    denominator -= 1\n",
    "# prints the final total and formats it\n",
    "print(f'The rounded total is {total:.2f}')"
   ]
  },
  {
   "cell_type": "markdown",
   "id": "e4b3e619",
   "metadata": {},
   "source": [
    "### Algorithm Workbench 8\n",
    "\n",
    "The textbook asks us to write code that prompts the user to enter a positive nonzero number and validates the input."
   ]
  },
  {
   "cell_type": "code",
   "execution_count": 2,
   "id": "357787a1",
   "metadata": {},
   "outputs": [
    {
     "name": "stdout",
     "output_type": "stream",
     "text": [
      "Please enter a positive nonzero number: -1\n",
      "This number is not a positive nonzero number\n",
      "Please input a positive nonzero number: 0\n",
      "This number is not a positive nonzero number\n",
      "Please input a positive nonzero number: 1\n"
     ]
    }
   ],
   "source": [
    "# defining the variable to be able to preform operations on it\n",
    "PosNumber = float(input(\"Please enter a positive nonzero number: \"))\n",
    "# while loop if the positive number is greater than 0\n",
    "while PosNumber <= 0:\n",
    "    # will print that it is not allowed because it is not a positive nonzero number\n",
    "    print(\"This number is not a positive nonzero number\")\n",
    "    # asks for a new input and redefines the variable for the new number\n",
    "    PosNumber = float(input(\"Please input a positive nonzero number: \"))"
   ]
  },
  {
   "cell_type": "markdown",
   "id": "eb908acc",
   "metadata": {},
   "source": [
    "I had an issue where inside the while statement I asked for a corrected input but did not define that input into a variable, so it kept looping even though I was entering in different numbers because the variable never changed.\n",
    "\n",
    "Another way to do it with the walrus operator is below"
   ]
  },
  {
   "cell_type": "code",
   "execution_count": 3,
   "id": "1eb1decf",
   "metadata": {},
   "outputs": [
    {
     "name": "stdout",
     "output_type": "stream",
     "text": [
      "Please enter a positive nonzero number: -1\n",
      "This number is not a positive nonzero number\n",
      "Please enter a positive nonzero number: 0\n",
      "This number is not a positive nonzero number\n",
      "Please enter a positive nonzero number: 1\n"
     ]
    }
   ],
   "source": [
    "# while loop that uses a walrus operator to define the variable as well as preform the operation\n",
    "while (PosNumber1 := float(input(\"Please enter a positive nonzero number: \"))) <= 0:\n",
    "    # will print that it is not allowed because it is not a positive number\n",
    "    print(\"This number is not a positive nonzero number\")"
   ]
  },
  {
   "cell_type": "markdown",
   "id": "edcb5e70",
   "metadata": {},
   "source": [
    "### Programming Exercises 1 (Bug Collector)\n",
    "\n",
    "The textbook asks us to write a calculator that will keeps a running total of the number of bugs collected during  five days. The loop should ask for the number of bugs collected for each day, and when the loop is finished, the program should display the total number of bugs collected."
   ]
  },
  {
   "cell_type": "code",
   "execution_count": 6,
   "id": "e84ace9b",
   "metadata": {},
   "outputs": [
    {
     "name": "stdout",
     "output_type": "stream",
     "text": [
      "Please enter the amount of bugs collected on day 1: 4\n",
      "Please enter the amount of bugs collected on day 2: 6\n",
      "Please enter the amount of bugs collected on day 3: 23\n",
      "Please enter the amount of bugs collected on day 4: 16\n",
      "Please enter the amount of bugs collected on day 5: 12\n",
      "The total is 61 bugs\n"
     ]
    }
   ],
   "source": [
    "# resetting and defining the variable total\n",
    "total = 0\n",
    "# creating a loop for the amount of days\n",
    "for day in range (1, 5+1, 1):\n",
    "    # defining the variable bugs as amount of bugs caught in the day\n",
    "    bugs = int(input(f\"Please enter the amount of bugs collected on day {day}: \"))\n",
    "    # creating the accumulator and adding it to the variable total\n",
    "    total += bugs\n",
    "# printing the final amount of bugs as a f string\n",
    "print(f'The total is {total} bugs')"
   ]
  },
  {
   "cell_type": "markdown",
   "id": "a20ee2c0",
   "metadata": {},
   "source": [
    "### Programming Exercise 4 (Distance Traveled)\n",
    "\n",
    "The textbook asks us to write a program that asks the user for the speed of a vehicle (in miles per hour) and the number of hours it has traveled. It should then use a loop to display the distance the vehicle has traveled for each hour of that time period."
   ]
  },
  {
   "cell_type": "code",
   "execution_count": 9,
   "id": "f0f1d17f",
   "metadata": {},
   "outputs": [
    {
     "name": "stdout",
     "output_type": "stream",
     "text": [
      "What is the speed (MPH) of the vehicle: 49\n",
      "How long (Hours) is the vehicle traveling for:  7\n",
      "1\t49 miles\n",
      "2\t98 miles\n",
      "3\t147 miles\n",
      "4\t196 miles\n",
      "5\t245 miles\n",
      "6\t294 miles\n",
      "7\t343 miles\n"
     ]
    }
   ],
   "source": [
    "# defining the variable speed from an input\n",
    "Speed = int(input(\"What is the speed (MPH) of the vehicle: \"))\n",
    "# defining the variable time from an input\n",
    "Time = int(input(\"How long (Hours) is the vehicle traveling for:  \"))\n",
    "# creating a for loop in the range of time\n",
    "for Time in range(1, Time + 1, 1):\n",
    "    # equation for the amount of distance\n",
    "    Distance = Speed * Time\n",
    "    # prints the amount of time and the correlating distance in f strings\n",
    "    print(f'{Time}\\t{Distance} miles')"
   ]
  },
  {
   "cell_type": "markdown",
   "id": "4badd6f9",
   "metadata": {},
   "source": [
    "An issue I had was that I was using floats instead of integers so the loop was not working how I intended."
   ]
  },
  {
   "cell_type": "markdown",
   "id": "37ace9d4",
   "metadata": {},
   "source": [
    "### Programming Exercise 12 (Population)\n",
    "\n",
    "The textbook asks us to write a program that predicts the approximate size of a population of organisms. The application should prompt the user to enter the starting number of organisms, the average daily population increase (as a percentage), and the number of days the organisms will be left to multiply."
   ]
  },
  {
   "cell_type": "code",
   "execution_count": 14,
   "id": "96ad89dc",
   "metadata": {},
   "outputs": [
    {
     "name": "stdout",
     "output_type": "stream",
     "text": [
      "Please input the starting amount of organisms: 2\n",
      "Please input the average daily increase in percentage form: 30\n",
      "Please enter the amount of days the organisms will be left to multiply: 10\n",
      "1\t2.6\n",
      "2\t3.3800000000000003\n",
      "3\t4.394\n",
      "4\t5.712200000000001\n",
      "5\t7.425860000000001\n",
      "6\t9.653618000000002\n",
      "7\t12.549703400000004\n",
      "8\t16.314614420000005\n",
      "9\t21.208998746000006\n",
      "10\t27.57169836980001\n"
     ]
    }
   ],
   "source": [
    "StartOrg = int(input(\"Please input the starting amount of organisms: \"))\n",
    "AvgDailyInc = int(input(\"Please input the average daily increase in percentage form: \"))\n",
    "PerAvgDailyInc = AvgDailyInc / 100\n",
    "days = int(input(\"Please enter the amount of days the organisms will be left to multiply: \"))\n",
    "for days in range(1, days + 1, 1):\n",
    "    AproxPop = StartOrg * ((1 + PerAvgDailyInc) ** days)\n",
    "    print(f'{days}\\t{AproxPop}')"
   ]
  },
  {
   "cell_type": "markdown",
   "id": "3ebe64ab",
   "metadata": {},
   "source": [
    "I tried to use a walrus operator inside the for loop but it didnt work so I had to seperate them. Assumes that time starts at day 0, instead of day 1. The equation I was trying to make was"
   ]
  },
  {
   "cell_type": "markdown",
   "id": "ad69f307",
   "metadata": {},
   "source": [
    "### Programming Exercise 14\n",
    "\n",
    "The textbook asks us to write a program that uses nested loops to draw a pattern."
   ]
  },
  {
   "cell_type": "code",
   "execution_count": 17,
   "id": "a8968697",
   "metadata": {},
   "outputs": [
    {
     "name": "stdout",
     "output_type": "stream",
     "text": [
      "How many steps: 6\n",
      "##\n",
      "# #\n",
      "#  #\n",
      "#   #\n",
      "#    #\n",
      "#     #\n"
     ]
    }
   ],
   "source": [
    "Steps = int(input(\"How many steps: \"))\n",
    "for rows in range(0, Steps):\n",
    "    print(\"#\", end=\"\")\n",
    "    for columns in range(rows):\n",
    "        print(' ', end = '')\n",
    "    print(\"#\")"
   ]
  },
  {
   "cell_type": "code",
   "execution_count": null,
   "id": "fe2ac671",
   "metadata": {},
   "outputs": [],
   "source": []
  }
 ],
 "metadata": {
  "kernelspec": {
   "display_name": "Python 3 (ipykernel)",
   "language": "python",
   "name": "python3"
  },
  "language_info": {
   "codemirror_mode": {
    "name": "ipython",
    "version": 3
   },
   "file_extension": ".py",
   "mimetype": "text/x-python",
   "name": "python",
   "nbconvert_exporter": "python",
   "pygments_lexer": "ipython3",
   "version": "3.11.7"
  }
 },
 "nbformat": 4,
 "nbformat_minor": 5
}
