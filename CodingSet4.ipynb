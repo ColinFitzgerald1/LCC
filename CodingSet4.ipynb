{
 "cells": [
  {
   "cell_type": "markdown",
   "id": "2ef30ce3",
   "metadata": {},
   "source": [
    "# Coding Set 4\n",
    "\n",
    "Colin Fitzgerald\n",
    "\n",
    "6/7/2024\n",
    "\n",
    "Algorithm Workbench problems 5 and 8 as well as programming exercises 1, 4, 12, and 14\n",
    "\n",
    "###### Iteration is shown throughout GitHub History and my high level explanations where I shared my struggles"
   ]
  },
  {
   "cell_type": "markdown",
   "id": "500976f4",
   "metadata": {},
   "source": [
    "### Algorithm Workbench 5\n",
    "\n",
    "The textbook asks to write a loop that calculates the total of the following series of numbers\n",
    "\n",
    "$\\frac{1}{30} + \\frac{2}{29} + \\frac{3}{28} + ... \\frac{30}{1}$"
   ]
  },
  {
   "cell_type": "code",
   "execution_count": 1,
   "id": "1e32cdeb",
   "metadata": {},
   "outputs": [
    {
     "name": "stdout",
     "output_type": "stream",
     "text": [
      "The rounded total is 93.84\n"
     ]
    }
   ],
   "source": [
    "# defining denominator to be to preform operations on it\n",
    "denominator = 30\n",
    "# defining / resetting the variable total to be able to add onto it\n",
    "total = 0\n",
    "# a loop for the numerator that cycles 1 through 30\n",
    "for numerator in range(1, 31):\n",
    "    # creating a variable \"number\" that is the quotient\n",
    "    number = numerator / denominator\n",
    "    # using an augmented assignment operator to create an accumulator\n",
    "    total += number\n",
    "    # redefines the denominator by using a assignment operator to subtract 1\n",
    "    denominator -= 1\n",
    "# prints the final total and formats it\n",
    "print(f'The rounded total is {total:.2f}')"
   ]
  },
  {
   "cell_type": "markdown",
   "id": "657016ca",
   "metadata": {},
   "source": [
    "#### High Level Overview\n",
    "First we define the variable that is going to be the denominator, then we reset the total by defining it to zero. We then create a for loop that will loop through the range of 30 and inside the loop we define the variable number as the numerator divided by the denominator. Then we accumulate the total and subtract 1 from the denominator. In the end we print the total as a rounded f string."
   ]
  },
  {
   "cell_type": "markdown",
   "id": "f4b70d46",
   "metadata": {},
   "source": [
    "### Algorithm Workbench 8\n",
    "\n",
    "The textbook asks us to write code that prompts the user to enter a positive nonzero number and validates the input."
   ]
  },
  {
   "cell_type": "code",
   "execution_count": 2,
   "id": "6217b413",
   "metadata": {},
   "outputs": [
    {
     "name": "stdout",
     "output_type": "stream",
     "text": [
      "Please enter a positive nonzero number: -1\n",
      "This number is not a positive nonzero number\n",
      "Please input a positive nonzero number: 0\n",
      "This number is not a positive nonzero number\n",
      "Please input a positive nonzero number: 1\n"
     ]
    }
   ],
   "source": [
    "# defining the variable to be able to preform operations on it\n",
    "PosNumber = float(input(\"Please enter a positive nonzero number: \"))\n",
    "# while loop if the positive number is greater than 0\n",
    "while PosNumber <= 0:\n",
    "    # will print that it is not allowed because it is not a positive nonzero number\n",
    "    print(\"This number is not a positive nonzero number\")\n",
    "    # asks for a new input and redefines the variable for the new number\n",
    "    PosNumber = float(input(\"Please input a positive nonzero number: \"))"
   ]
  },
  {
   "cell_type": "markdown",
   "id": "a35b4943",
   "metadata": {},
   "source": [
    "I had an issue where inside the while statement I asked for a corrected input but did not define that input into a variable, so it kept looping even though I was entering in different numbers because the variable never changed.\n",
    "\n",
    "Another way to do it with the walrus operator is below"
   ]
  },
  {
   "cell_type": "code",
   "execution_count": 3,
   "id": "528338cc",
   "metadata": {},
   "outputs": [
    {
     "name": "stdout",
     "output_type": "stream",
     "text": [
      "Please enter a positive nonzero number: -1\n",
      "This number is not a positive nonzero number\n",
      "Please enter a positive nonzero number: 0\n",
      "This number is not a positive nonzero number\n",
      "Please enter a positive nonzero number: 1\n"
     ]
    }
   ],
   "source": [
    "# while loop that uses a walrus operator to define the variable as well as preform the operation\n",
    "while (PosNumber1 := float(input(\"Please enter a positive nonzero number: \"))) <= 0:\n",
    "    # will print that it is not allowed because it is not a positive number\n",
    "    print(\"This number is not a positive nonzero number\")"
   ]
  },
  {
   "cell_type": "markdown",
   "id": "6601fb71",
   "metadata": {},
   "source": [
    "#### High Level Overview\n",
    "\n",
    "First, we create a while loop that uses a walrus operator to define the variable as well as confirm if it less than or equal to zero which if it is, it will print an error statement."
   ]
  },
  {
   "cell_type": "markdown",
   "id": "3fcf126f",
   "metadata": {},
   "source": [
    "### Programming Exercises 1 (Bug Collector)\n",
    "\n",
    "The textbook asks us to write a calculator that will keeps a running total of the number of bugs collected during  five days. The loop should ask for the number of bugs collected for each day, and when the loop is finished, the program should display the total number of bugs collected."
   ]
  },
  {
   "cell_type": "code",
   "execution_count": 4,
   "id": "05a31a02",
   "metadata": {},
   "outputs": [
    {
     "name": "stdout",
     "output_type": "stream",
     "text": [
      "Please enter the amount of bugs collected on day 1: 5\n",
      "Please enter the amount of bugs collected on day 2: 9\n",
      "Please enter the amount of bugs collected on day 3: 11\n",
      "Please enter the amount of bugs collected on day 4: 4\n",
      "Please enter the amount of bugs collected on day 5: 6\n",
      " \n",
      "The total is 35 bugs\n"
     ]
    }
   ],
   "source": [
    "# resetting and defining the variable total\n",
    "total = 0\n",
    "# creating a loop for the amount of days\n",
    "for day in range (1, 5+1, 1):\n",
    "    # defining the variable bugs as amount of bugs caught in the day\n",
    "    bugs = int(input(f\"Please enter the amount of bugs collected on day {day}: \"))\n",
    "    # creating the accumulator and adding it to the variable total\n",
    "    total += bugs\n",
    "# create a gap\n",
    "print(\" \")\n",
    "# printing the final amount of bugs as a f string\n",
    "print(f'The total is {total} bugs')"
   ]
  },
  {
   "cell_type": "markdown",
   "id": "376ae3af",
   "metadata": {},
   "source": [
    "#### High Level Overview\n",
    "\n",
    "First we reset and define the variable total and then we create a for loop that has its range based on the amount of days (5). We then define the amount of bugs that were caught that day and add it into a accumulator. In the end we print the the total amount of bug in a f string."
   ]
  },
  {
   "cell_type": "markdown",
   "id": "b2d01a25",
   "metadata": {},
   "source": [
    "### Programming Exercise 4 (Distance Traveled)\n",
    "\n",
    "The textbook asks us to write a program that asks the user for the speed of a vehicle (in miles per hour) and the number of hours it has traveled. It should then use a loop to display the distance the vehicle has traveled for each hour of that time period."
   ]
  },
  {
   "cell_type": "code",
   "execution_count": 5,
   "id": "dc25d548",
   "metadata": {},
   "outputs": [
    {
     "name": "stdout",
     "output_type": "stream",
     "text": [
      "What is the speed (MPH) of the vehicle: 96\n",
      "How long (Hours) is the vehicle traveling for:  7\n",
      " \n",
      "Hours\tDistance\n",
      "1\t96 miles\n",
      "2\t192 miles\n",
      "3\t288 miles\n",
      "4\t384 miles\n",
      "5\t480 miles\n",
      "6\t576 miles\n",
      "7\t672 miles\n"
     ]
    }
   ],
   "source": [
    "# defining the variable speed from an input\n",
    "Speed = int(input(\"What is the speed (MPH) of the vehicle: \"))\n",
    "# defining the variable time from an input\n",
    "Time = int(input(\"How long (Hours) is the vehicle traveling for:  \"))\n",
    "# create a gap for formatting\n",
    "print(\" \")\n",
    "print(f'Hours\\tDistance')\n",
    "# creating a for loop in the range of time\n",
    "for Time in range(1, Time + 1, 1):\n",
    "    # equation for the amount of distance\n",
    "    Distance = Speed * Time\n",
    "    # prints the amount of time and the correlating distance in f strings\n",
    "    print(f'{Time}\\t{Distance} miles')"
   ]
  },
  {
   "cell_type": "markdown",
   "id": "a8d4b278",
   "metadata": {},
   "source": [
    "An issue I had while trying to answer the prompt was that I was using floats instead of integers inside the loop so the loop was not working.\n",
    "\n",
    "#### High Level Overview\n",
    "\n",
    "First we define the variable speed from the input of the user and do the same with the amount of time. After we create a for loop that has the range of the amount of time. Inside the for loop we have an equation for the distance and print a f string that has a formatted output."
   ]
  },
  {
   "cell_type": "markdown",
   "id": "81696f01",
   "metadata": {},
   "source": [
    "### Programming Exercise 12 (Population)\n",
    "\n",
    "The textbook asks us to write a program that predicts the approximate size of a population of organisms. The application should prompt the user to enter the starting number of organisms, the average daily population increase (as a percentage), and the number of days the organisms will be left to multiply."
   ]
  },
  {
   "cell_type": "code",
   "execution_count": 6,
   "id": "76d929d9",
   "metadata": {},
   "outputs": [
    {
     "name": "stdout",
     "output_type": "stream",
     "text": [
      "Please input the starting amount of organisms: 2\n",
      "Please input the average daily increase in percentage form: 30\n",
      "Please enter the amount of days the organisms will be left to multiply: 10\n",
      " \n",
      "Days\tRounded Aproximated Population\n",
      "1\t2.60\n",
      "2\t3.38\n",
      "3\t4.39\n",
      "4\t5.71\n",
      "5\t7.43\n",
      "6\t9.65\n",
      "7\t12.55\n",
      "8\t16.31\n",
      "9\t21.21\n",
      "10\t27.57\n"
     ]
    }
   ],
   "source": [
    "# defining variable from an input\n",
    "StartOrg = int(input(\"Please input the starting amount of organisms: \"))\n",
    "# defining variable from an input\n",
    "AvgDailyInc = int(input(\"Please input the average daily increase in percentage form: \"))\n",
    "# turning the percentage into a whole number to be able to do math on it\n",
    "PerAvgDailyInc = AvgDailyInc / 100\n",
    "# defining days for use in the loop\n",
    "days = int(input(\"Please enter the amount of days the organisms will be left to multiply: \"))\n",
    "# printing for formatting\n",
    "print(\" \")\n",
    "print(f'Days\\tRounded Aproximated Population')\n",
    "# for loop that uses the range from days\n",
    "for days in range(1, days + 1, 1):\n",
    "    # creating an equation that gets the population\n",
    "    AproxPop = StartOrg * ((1 + PerAvgDailyInc) ** days)\n",
    "    # printing the answer in a f string\n",
    "    print(f'{days}\\t{AproxPop:.2f}')"
   ]
  },
  {
   "cell_type": "markdown",
   "id": "b16d72e4",
   "metadata": {},
   "source": [
    "At first I had tried to use a walrus operator inside the for loop but it didnt work so I ended having to seperate them. \n",
    "\n",
    "#### High Level Overview\n",
    "\n",
    "First we define the amount of starting organisms from an input and then we do the same for the amount of percentage increase. After we turn the percentage increase into a whole number to be able to multiply with it and then we define the amount of days that the organisms will be reproducing. Lastly we create a for loop that has the range for the amount of days. Inside the for loop there is an equation to find the aproximated population and then there is a printed f string that formats and displays the amount of organisms. \n",
    "##### This equation assumes that time starts at day 0, instead of day 1 but could be changed to shift everything forward."
   ]
  },
  {
   "cell_type": "markdown",
   "id": "ac317ad8",
   "metadata": {},
   "source": [
    "### Programming Exercise 14\n",
    "\n",
    "The textbook asks us to write a program that uses nested loops to draw a pattern."
   ]
  },
  {
   "cell_type": "code",
   "execution_count": 7,
   "id": "0e4ae9b8",
   "metadata": {},
   "outputs": [
    {
     "name": "stdout",
     "output_type": "stream",
     "text": [
      "How many steps: 6\n",
      "##\n",
      "# #\n",
      "#  #\n",
      "#   #\n",
      "#    #\n",
      "#     #\n"
     ]
    }
   ],
   "source": [
    "# defining the amount of steps in the pattern\n",
    "Steps = int(input(\"How many steps: \"))\n",
    "# for loop in the range of how many steps there should be\n",
    "for rows in range(0, Steps):\n",
    "    # prints a # and ends with nothing\n",
    "    print(\"#\", end=\"\")\n",
    "    # nested for loop in the range of the amount of rows\n",
    "    for columns in range(rows):\n",
    "        # prints a space and ends with nothing\n",
    "        print(' ', end = '')\n",
    "    # prints the line of #\n",
    "    print(\"#\")"
   ]
  },
  {
   "cell_type": "markdown",
   "id": "fd6214ac",
   "metadata": {},
   "source": [
    "#### High Level Overview\n",
    "\n",
    "First we define the amount of steps that we will use from an input. Then we create the first for loop that has the range of the amount of steps and starts to print the pattern. After we create a nested loop that has range of rows in the previous loop and then prints a space. After we print another hashtag to complete the pattern and finish the loop"
   ]
  }
 ],
 "metadata": {
  "kernelspec": {
   "display_name": "Python 3 (ipykernel)",
   "language": "python",
   "name": "python3"
  },
  "language_info": {
   "codemirror_mode": {
    "name": "ipython",
    "version": 3
   },
   "file_extension": ".py",
   "mimetype": "text/x-python",
   "name": "python",
   "nbconvert_exporter": "python",
   "pygments_lexer": "ipython3",
   "version": "3.11.7"
  }
 },
 "nbformat": 4,
 "nbformat_minor": 5
}
