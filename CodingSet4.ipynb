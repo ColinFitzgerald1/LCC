{
 "cells": [
  {
   "cell_type": "markdown",
   "id": "9fa20cb0",
   "metadata": {},
   "source": [
    "# Coding Set 4\n",
    "\n",
    "Colin Fitzgerald\n",
    "\n",
    "6/7/2024\n",
    "\n",
    "Algorithm Workbench problems 5 and 8 as well as programming exercises 1, 4, 12, and 14"
   ]
  },
  {
   "cell_type": "markdown",
   "id": "f1dd82d3",
   "metadata": {},
   "source": [
    "### Algorithm Workbench 5\n",
    "\n",
    "The textbook asks to write a loop that calculates the total of the following series of numbers\n",
    "\n",
    "$\\frac{1}{30} + \\frac{2}{29} + \\frac{3}{28} + ... \\frac{30}{1}$"
   ]
  },
  {
   "cell_type": "code",
   "execution_count": 1,
   "id": "fe9fc0e2",
   "metadata": {},
   "outputs": [
    {
     "name": "stdout",
     "output_type": "stream",
     "text": [
      "The rounded total is 93.84\n"
     ]
    }
   ],
   "source": [
    "# defining denominator to be to preform operations on it\n",
    "denominator = 30\n",
    "# defining / resetting the variable total to be able to add onto it\n",
    "total = 0\n",
    "# a loop for the numerator that cycles 1 through 30\n",
    "for numerator in range(1, 31):\n",
    "    # creating a variable \"number\" that is the quotient\n",
    "    number = numerator / denominator\n",
    "    # using an augmented assignment operator to create an accumulator\n",
    "    total += number\n",
    "    # redefines the denominator by using a assignment operator to subtract 1\n",
    "    denominator -= 1\n",
    "# prints the final total and formats it\n",
    "print(f'The rounded total is {total:.2f}')"
   ]
  },
  {
   "cell_type": "markdown",
   "id": "c0cff20a",
   "metadata": {},
   "source": [
    "### Algorithm Workbench 8\n",
    "\n",
    "The textbook asks us to write code that prompts the user to enter a positive nonzero number and validates the input."
   ]
  },
  {
   "cell_type": "code",
   "execution_count": 2,
   "id": "4df7a40f",
   "metadata": {},
   "outputs": [
    {
     "name": "stdout",
     "output_type": "stream",
     "text": [
      "Please enter a positive nonzero number: -1\n",
      "This number is not a positive nonzero number\n",
      "Please input a positive nonzero number: 0\n",
      "This number is not a positive nonzero number\n",
      "Please input a positive nonzero number: 1\n"
     ]
    }
   ],
   "source": [
    "PosNumber = float(input(\"Please enter a positive nonzero number: \"))\n",
    "while PosNumber <= 0:\n",
    "    print(\"This number is not a positive nonzero number\")\n",
    "    PosNumber = float(input(\"Please input a positive nonzero number: \"))"
   ]
  },
  {
   "cell_type": "markdown",
   "id": "2b4f4989",
   "metadata": {},
   "source": [
    "I had an issue where inside the while statement I asked for a corrected input but did not define that input into a variable, so it kept looping even though I was entering in different numbers because the variable never changed.\n",
    "\n",
    "Another way to do it with the walrus operator is below"
   ]
  },
  {
   "cell_type": "code",
   "execution_count": 3,
   "id": "ed19a1e6",
   "metadata": {},
   "outputs": [
    {
     "name": "stdout",
     "output_type": "stream",
     "text": [
      "Please enter a positive nonzero number: -1\n",
      "This number is not a positive nonzero number\n",
      "Please enter a positive nonzero number: 0\n",
      "This number is not a positive nonzero number\n",
      "Please enter a positive nonzero number: 1\n"
     ]
    }
   ],
   "source": [
    "while (PosNumber1 := float(input(\"Please enter a positive nonzero number: \"))) <= 0:\n",
    "    print(\"This number is not a positive nonzero number\")"
   ]
  },
  {
   "cell_type": "markdown",
   "id": "dc216724",
   "metadata": {},
   "source": [
    "### Programming Exercises 1 (Bug Collector)\n",
    "\n",
    "The textbook asks us to write a calculator that will keeps a running total of the number of bugs collected during  five days. The loop should ask for the number of bugs collected for each day, and when the loop is finished, the program should display the total number of bugs collected."
   ]
  },
  {
   "cell_type": "code",
   "execution_count": null,
   "id": "fcd9e802",
   "metadata": {},
   "outputs": [],
   "source": []
  }
 ],
 "metadata": {
  "kernelspec": {
   "display_name": "Python 3 (ipykernel)",
   "language": "python",
   "name": "python3"
  },
  "language_info": {
   "codemirror_mode": {
    "name": "ipython",
    "version": 3
   },
   "file_extension": ".py",
   "mimetype": "text/x-python",
   "name": "python",
   "nbconvert_exporter": "python",
   "pygments_lexer": "ipython3",
   "version": "3.11.7"
  }
 },
 "nbformat": 4,
 "nbformat_minor": 5
}
