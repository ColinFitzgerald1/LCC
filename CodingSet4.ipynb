{
 "cells": [
  {
   "cell_type": "markdown",
   "id": "a6260733",
   "metadata": {},
   "source": [
    "# Coding Set 4\n",
    "\n",
    "Colin Fitzgerald\n",
    "\n",
    "6/7/2024\n",
    "\n",
    "Algorithm Workbench problems 5 and 8 as well as programming exercises 1, 4, 12, and 14"
   ]
  },
  {
   "cell_type": "markdown",
   "id": "b8794e4b",
   "metadata": {},
   "source": [
    "### Algorithm Workbench 5\n",
    "\n",
    "The textbook asks to write a loop that calculates the total of the following series of numbers\n",
    "\n",
    "$\\frac{1}{30} + \\frac{2}{29} + \\frac{3}{28} + ... \\frac{30}{1}$"
   ]
  },
  {
   "cell_type": "code",
   "execution_count": 1,
   "id": "c0e0c7ab",
   "metadata": {},
   "outputs": [
    {
     "name": "stdout",
     "output_type": "stream",
     "text": [
      "The rounded total is 93.84\n"
     ]
    }
   ],
   "source": [
    "# defining denominator to be to preform operations on it\n",
    "denominator = 30\n",
    "# defining / resetting the variable total to be able to add onto it\n",
    "total = 0\n",
    "# a loop for the numerator that cycles 1 through 30\n",
    "for numerator in range(1, 31):\n",
    "    # creating a variable \"number\" that is the quotient\n",
    "    number = numerator / denominator\n",
    "    # using an augmented assignment operator to create an accumulator\n",
    "    total += number\n",
    "    # redefines the denominator by using a assignment operator to subtract 1\n",
    "    denominator -= 1\n",
    "# prints the final total and formats it\n",
    "print(f'The rounded total is {total:.2f}')"
   ]
  },
  {
   "cell_type": "markdown",
   "id": "4ec012c3",
   "metadata": {},
   "source": [
    "### Algorithm Workbench 8\n",
    "\n",
    "The textbook asks us to write code that prompts the user to enter a positive nonzero number and validates the input."
   ]
  },
  {
   "cell_type": "code",
   "execution_count": 2,
   "id": "4150dc8e",
   "metadata": {},
   "outputs": [
    {
     "name": "stdout",
     "output_type": "stream",
     "text": [
      "Please enter a positive nonzero number: -1\n",
      "This number is not a positive nonzero number\n",
      "Please input a positive nonzero number: 0\n",
      "This number is not a positive nonzero number\n",
      "Please input a positive nonzero number: 1\n"
     ]
    }
   ],
   "source": [
    "# defining the variable to be able to preform operations on it\n",
    "PosNumber = float(input(\"Please enter a positive nonzero number: \"))\n",
    "# while loop if the positive number is greater than 0\n",
    "while PosNumber <= 0:\n",
    "    # will print that it is not allowed because it is not a positive nonzero number\n",
    "    print(\"This number is not a positive nonzero number\")\n",
    "    # asks for a new input and redefines the variable for the new number\n",
    "    PosNumber = float(input(\"Please input a positive nonzero number: \"))"
   ]
  },
  {
   "cell_type": "markdown",
   "id": "311aa40d",
   "metadata": {},
   "source": [
    "I had an issue where inside the while statement I asked for a corrected input but did not define that input into a variable, so it kept looping even though I was entering in different numbers because the variable never changed.\n",
    "\n",
    "Another way to do it with the walrus operator is below"
   ]
  },
  {
   "cell_type": "code",
   "execution_count": 3,
   "id": "08862ef5",
   "metadata": {},
   "outputs": [
    {
     "name": "stdout",
     "output_type": "stream",
     "text": [
      "Please enter a positive nonzero number: -1\n",
      "This number is not a positive nonzero number\n",
      "Please enter a positive nonzero number: 0\n",
      "This number is not a positive nonzero number\n",
      "Please enter a positive nonzero number: 1\n"
     ]
    }
   ],
   "source": [
    "# while loop that uses a walrus operator to define the variable as well as preform the operation\n",
    "while (PosNumber1 := float(input(\"Please enter a positive nonzero number: \"))) <= 0:\n",
    "    # will print that it is not allowed because it is not a positive number\n",
    "    print(\"This number is not a positive nonzero number\")"
   ]
  },
  {
   "cell_type": "markdown",
   "id": "37ee30d1",
   "metadata": {},
   "source": [
    "### Programming Exercises 1 (Bug Collector)\n",
    "\n",
    "The textbook asks us to write a calculator that will keeps a running total of the number of bugs collected during  five days. The loop should ask for the number of bugs collected for each day, and when the loop is finished, the program should display the total number of bugs collected."
   ]
  },
  {
   "cell_type": "code",
   "execution_count": 6,
   "id": "215e87e0",
   "metadata": {},
   "outputs": [
    {
     "name": "stdout",
     "output_type": "stream",
     "text": [
      "Please enter the amount of bugs collected on day 1: 4\n",
      "Please enter the amount of bugs collected on day 2: 6\n",
      "Please enter the amount of bugs collected on day 3: 23\n",
      "Please enter the amount of bugs collected on day 4: 16\n",
      "Please enter the amount of bugs collected on day 5: 12\n",
      "The total is 61 bugs\n"
     ]
    }
   ],
   "source": [
    "total = 0\n",
    "for day in range (1, 5+1, 1):\n",
    "    bugs = int(input(f\"Please enter the amount of bugs collected on day {day}: \"))\n",
    "    total += bugs\n",
    "print(f'The total is {total} bugs')"
   ]
  },
  {
   "cell_type": "markdown",
   "id": "a47e76bf",
   "metadata": {},
   "source": [
    "### Programming Exercises 4 (Distance Traveled)\n",
    "\n",
    "The textbook asks us to write a program that asks the user for the speed of a vehicle (in miles per hour) and the number of hours it has traveled. It should then use a loop to display the distance the vehicle has traveled for each hour of that time period."
   ]
  },
  {
   "cell_type": "code",
   "execution_count": null,
   "id": "bc4e7bfa",
   "metadata": {},
   "outputs": [],
   "source": [
    "Speed = float(input(\"What is the speed (MPH) of the vehicle: \"))\n",
    "Time = float(input(\"How long (Hours) is the vehicle traveling for:  \"))"
   ]
  }
 ],
 "metadata": {
  "kernelspec": {
   "display_name": "Python 3 (ipykernel)",
   "language": "python",
   "name": "python3"
  },
  "language_info": {
   "codemirror_mode": {
    "name": "ipython",
    "version": 3
   },
   "file_extension": ".py",
   "mimetype": "text/x-python",
   "name": "python",
   "nbconvert_exporter": "python",
   "pygments_lexer": "ipython3",
   "version": "3.11.7"
  }
 },
 "nbformat": 4,
 "nbformat_minor": 5
}
